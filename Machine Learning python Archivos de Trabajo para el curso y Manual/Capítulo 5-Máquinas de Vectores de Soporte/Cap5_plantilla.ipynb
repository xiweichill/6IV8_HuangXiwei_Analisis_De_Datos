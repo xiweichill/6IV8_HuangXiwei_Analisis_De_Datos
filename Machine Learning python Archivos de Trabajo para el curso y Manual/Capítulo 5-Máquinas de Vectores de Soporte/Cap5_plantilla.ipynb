{
 "cells": [
  {
   "cell_type": "markdown",
   "id": "69b88ee2",
   "metadata": {},
   "source": [
    "# Capítulo 5. Máquinas de Soporte de Vectores\n"
   ]
  },
  {
   "cell_type": "markdown",
   "id": "0faae113",
   "metadata": {},
   "source": [
    "## <span style=\"color:green\">1. Clasificación Lineal con SVM</span>"
   ]
  },
  {
   "cell_type": "code",
   "execution_count": 1,
   "id": "9f2ac0b9",
   "metadata": {},
   "outputs": [],
   "source": [
    "#Importar las librerias numpy, pandas, matplotlib 📚\n"
   ]
  },
  {
   "cell_type": "markdown",
   "id": "d8a37907-218f-45e3-90eb-80c528f95ac6",
   "metadata": {},
   "source": [
    "Las máquinas de vectores de soporte depende de que los datos esten bien escalados 👀"
   ]
  },
  {
   "cell_type": "code",
   "execution_count": 2,
   "id": "e476452c",
   "metadata": {},
   "outputs": [],
   "source": [
    "#Importar los datos a necesitar, en este caso, sobre si fueron seleccionados o no para un trabajo. \n",
    "#La variable gmat tiene un rango de número más elevado en comparación a las otras variables\n",
    "#candidates = {'gmat': [780,750,690,710,680,730,690,720,740,690,610,690,710,680,770,610,580,650,540,590,620,600,550,550,570,670,660,580,650,660,640,620,660,660,680,650,670,580,590,690],\n",
    "  #           'gpa': [4,3.9,3.3,3.7,3.9,3.7,2.3,3.3,3.3,1.7,2.7,3.7,3.7,3.3,3.3,3,2.7,3.7,2.7,2.3,3.3,2,2.3,2.7,3,3.3,3.7,2.3,3.7,3.3,3,2.7,4,3.3,3.3,2.3,2.7,3.3,1.7,3.7],\n",
    "   #          'work_experience': [3,4,3,5,4,6,1,4,5,1,3,5,6,4,3,1,4,6,2,3,2,1,4,1,2,6,4,2,6,5,1,2,4,6,5,1,2,1,4,5],\n",
    "    #         'admitted': [1,1,0,1,0,1,0,1,1,0,0,1,1,0,1,0,0,1,0,0,1,0,0,0,0,1,1,0,1,1,0,0,1,1,1,0,0,0,0,1]\n",
    "    #      }\n"
   ]
  },
  {
   "cell_type": "code",
   "execution_count": 3,
   "id": "e895cab3-9c5d-4877-8e1a-0da8fb0f1af7",
   "metadata": {},
   "outputs": [],
   "source": [
    "#Visualiza los datos de trabajo\n"
   ]
  },
  {
   "cell_type": "code",
   "execution_count": 4,
   "id": "4714b7e1",
   "metadata": {},
   "outputs": [],
   "source": [
    "#Separar los datos a predictores y los predichos\n"
   ]
  },
  {
   "cell_type": "code",
   "execution_count": 5,
   "id": "79bddad5",
   "metadata": {},
   "outputs": [],
   "source": [
    "#Haz un pipeline para escalar los datos utilizando StandarScaler y un Kernel Lineal\n",
    "\n",
    "    #SVC=Support Vector Classifier\n",
    " "
   ]
  },
  {
   "cell_type": "code",
   "execution_count": 6,
   "id": "e141301b",
   "metadata": {},
   "outputs": [],
   "source": [
    "#Ejecutar el pipeline\n"
   ]
  },
  {
   "cell_type": "code",
   "execution_count": 7,
   "id": "7023d0fe",
   "metadata": {},
   "outputs": [],
   "source": [
    "#Haz una predicción de un sujeto aleatorio para ver que todo marche bien 👍🏼\n"
   ]
  },
  {
   "cell_type": "code",
   "execution_count": 8,
   "id": "af61b5f7-3cff-4150-8eb9-0913f263eccb",
   "metadata": {},
   "outputs": [],
   "source": [
    "#Evaluar el clasificador  con una matriz de confusión \n",
    "\n",
    "#En este caso no hay diferencia"
   ]
  },
  {
   "cell_type": "code",
   "execution_count": 9,
   "id": "5f5cad6a-94d2-4137-bef6-325120f6c38f",
   "metadata": {},
   "outputs": [],
   "source": [
    "#Sacar el f1_score \n"
   ]
  },
  {
   "cell_type": "markdown",
   "id": "6cb7089a-3159-40cf-9ae6-559d7c9598b3",
   "metadata": {},
   "source": [
    "***"
   ]
  },
  {
   "cell_type": "markdown",
   "id": "576835f8",
   "metadata": {},
   "source": [
    "## <span style=\"color:green\">2. Clasificador No Lineal con SVM</span>"
   ]
  },
  {
   "cell_type": "markdown",
   "id": "118884ce",
   "metadata": {},
   "source": [
    "#### <span style=\"color:blue\"> 2.1 Kernel Polinomial</span>"
   ]
  },
  {
   "cell_type": "code",
   "execution_count": 10,
   "id": "2b8a6dcd",
   "metadata": {},
   "outputs": [],
   "source": [
    "#Importar make_moons \n",
    "\n",
    "#Hacer un set de datos artificial con make_moons, genera un poco de ruido\n"
   ]
  },
  {
   "cell_type": "code",
   "execution_count": 11,
   "id": "8c0942c9-3612-4217-894e-f087a5e53e18",
   "metadata": {},
   "outputs": [],
   "source": [
    "#Visualizar x, y 👀\n"
   ]
  },
  {
   "cell_type": "markdown",
   "id": "5556af34-5802-4559-856a-99e6c49fbf10",
   "metadata": {},
   "source": [
    "Aquí, todos tendremos datos diferentes. No se alteren si no les da lo mismo que a mi. "
   ]
  },
  {
   "cell_type": "code",
   "execution_count": 12,
   "id": "765b24db",
   "metadata": {},
   "outputs": [],
   "source": [
    "#Grafica el set de datos de make_moons\n",
    "\n",
    "    #Esto serán las coordenadas \n"
   ]
  },
  {
   "cell_type": "code",
   "execution_count": 13,
   "id": "0f4bd5c4",
   "metadata": {},
   "outputs": [],
   "source": [
    "#Haz un pipeline donde aplicarás un kernel polinomial \n"
   ]
  },
  {
   "cell_type": "markdown",
   "id": "ebc13118-a4f0-40fc-9c3b-e93f86ed986e",
   "metadata": {},
   "source": [
    "Como es un kernel polinomial, tienes que especificar el grado del mismo. "
   ]
  },
  {
   "cell_type": "code",
   "execution_count": 14,
   "id": "6b09f178-df9d-4871-8dde-f79df6c87f9b",
   "metadata": {},
   "outputs": [],
   "source": [
    "#Ejecutar el pipeline\n"
   ]
  },
  {
   "cell_type": "code",
   "execution_count": 15,
   "id": "26c6e14e-3de4-4da5-ab08-bd55bd216c2d",
   "metadata": {},
   "outputs": [],
   "source": [
    "#Predecir ahora con este pipeline para ver que todo marche bien\n"
   ]
  },
  {
   "cell_type": "code",
   "execution_count": 16,
   "id": "91a8dd52-5b20-4a52-9de1-ca9c27c00301",
   "metadata": {},
   "outputs": [],
   "source": [
    "#Evaluar el clasificador con una matriz de confusión \n"
   ]
  },
  {
   "cell_type": "code",
   "execution_count": 17,
   "id": "7611ed0a-014c-48c2-9974-ac7f9128c3ab",
   "metadata": {},
   "outputs": [],
   "source": [
    "#Sacar el f1_score \n"
   ]
  },
  {
   "cell_type": "code",
   "execution_count": 18,
   "id": "51a30914-d479-4f38-aa13-9feceadb5c26",
   "metadata": {},
   "outputs": [],
   "source": [
    "#Hacer la gráfica para visualizar el clasificador no lineal \n"
   ]
  },
  {
   "cell_type": "markdown",
   "id": "9fbcbf28-4759-42ac-956f-d2d77d5c3215",
   "metadata": {},
   "source": [
    "Ejercicio: Varía el grado en el polinomio para evaluar la gráfica que despliega acorde al clasificador 👀. \n",
    "Por ejemplo, grado 3."
   ]
  },
  {
   "cell_type": "markdown",
   "id": "6430a983-cb41-4d95-968b-9f7da4c96af9",
   "metadata": {},
   "source": [
    "***"
   ]
  },
  {
   "cell_type": "markdown",
   "id": "4ec3f64e",
   "metadata": {},
   "source": [
    "#### <span style=\"color:blue\"> 2.2 Kernel RBF Gaussiano</span>"
   ]
  },
  {
   "cell_type": "code",
   "execution_count": 19,
   "id": "a1e24238",
   "metadata": {},
   "outputs": [],
   "source": [
    "#Hacer un pipeline con StandarScaler pero ahora con un Kernel RBF\n"
   ]
  },
  {
   "cell_type": "markdown",
   "id": "1ecb1a0d-b294-4e17-8948-1676e6f1458f",
   "metadata": {},
   "source": [
    "gamma es un parámetro de regularización. **Sobreajuste**= Reducir gamma. **Subajuste**=Aumentar gamma"
   ]
  },
  {
   "cell_type": "code",
   "execution_count": 20,
   "id": "ff6b4768-5237-44b2-a814-55b7b203bdea",
   "metadata": {},
   "outputs": [],
   "source": [
    "#Ejecutar el pipeline\n"
   ]
  },
  {
   "cell_type": "code",
   "execution_count": 21,
   "id": "6290d928-8988-427a-8cff-4f4bb70b54b6",
   "metadata": {},
   "outputs": [],
   "source": [
    "#Predecir ahora con este pipeline para ver que todo marche bien\n"
   ]
  },
  {
   "cell_type": "code",
   "execution_count": 22,
   "id": "fa04dae9-f738-475a-a3c0-c22d7a773226",
   "metadata": {},
   "outputs": [],
   "source": [
    "#Evaluar el clasificador con una matriz de confusión \n"
   ]
  },
  {
   "cell_type": "code",
   "execution_count": 24,
   "id": "89d4cd3b",
   "metadata": {},
   "outputs": [],
   "source": [
    "#Hacer la gráfica para visualizar el clasificador no lineal\n"
   ]
  },
  {
   "cell_type": "markdown",
   "id": "5d8a7065-559b-4cbf-8ba4-d0cf2cb6b018",
   "metadata": {},
   "source": [
    "Ejercicio: varía los hiperparametros, es decir **gamma y C**. \n",
    "Observa los resultados y analiza."
   ]
  },
  {
   "cell_type": "markdown",
   "id": "8137301b-804f-4063-8853-c0bf54928fa9",
   "metadata": {},
   "source": [
    "***"
   ]
  },
  {
   "cell_type": "markdown",
   "id": "fb61ba23",
   "metadata": {},
   "source": [
    "### <span style=\"color:green\"> 3. Regresión con SVM</span>"
   ]
  },
  {
   "cell_type": "markdown",
   "id": "e1456447-9cf3-4f19-89f4-fa52a0cfef0f",
   "metadata": {},
   "source": [
    "#### <span style=\"color:blue\"> 3.1 Regresión Lineal </span>"
   ]
  },
  {
   "cell_type": "code",
   "execution_count": 25,
   "id": "7d1345ce",
   "metadata": {},
   "outputs": [],
   "source": [
    "#Importar SVR= Supporr Vector Regressor  \n"
   ]
  },
  {
   "cell_type": "markdown",
   "id": "02fc654c-1597-4390-920f-4bf96782ca02",
   "metadata": {},
   "source": [
    "#### <span style=\"color:blue\"> 3.2 Regresión Polinomial </span>"
   ]
  },
  {
   "cell_type": "code",
   "execution_count": 26,
   "id": "5fcd9e86",
   "metadata": {},
   "outputs": [],
   "source": [
    "#Tambiém se puede hacer regresiones polinomiales\n"
   ]
  },
  {
   "cell_type": "code",
   "execution_count": null,
   "id": "459ac701-54c6-4341-a475-b1d9f4b3bd88",
   "metadata": {},
   "outputs": [],
   "source": []
  }
 ],
 "metadata": {
  "kernelspec": {
   "display_name": "Python 3 (ipykernel)",
   "language": "python",
   "name": "python3"
  },
  "language_info": {
   "codemirror_mode": {
    "name": "ipython",
    "version": 3
   },
   "file_extension": ".py",
   "mimetype": "text/x-python",
   "name": "python",
   "nbconvert_exporter": "python",
   "pygments_lexer": "ipython3",
   "version": "3.9.7"
  }
 },
 "nbformat": 4,
 "nbformat_minor": 5
}
