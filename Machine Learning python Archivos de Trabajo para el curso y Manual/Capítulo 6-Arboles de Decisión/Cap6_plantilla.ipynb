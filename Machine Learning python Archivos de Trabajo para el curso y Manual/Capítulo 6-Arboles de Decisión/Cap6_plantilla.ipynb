{
 "cells": [
  {
   "cell_type": "markdown",
   "id": "ac883fd5-d081-4f3f-b5f8-404c5450c19e",
   "metadata": {},
   "source": [
    "# Capítulo 6: Árbol de Decisión"
   ]
  },
  {
   "cell_type": "markdown",
   "id": "13f1cf59-a45e-4d07-9d8b-69ff244bd82b",
   "metadata": {},
   "source": [
    "## <span style=\"color:green\">1. Clasificación</span>"
   ]
  },
  {
   "cell_type": "code",
   "execution_count": 1,
   "id": "f4c8f25b-88be-4ee3-83b5-16acf843c5db",
   "metadata": {},
   "outputs": [],
   "source": [
    "#Importar los bibliotecas"
   ]
  },
  {
   "cell_type": "code",
   "execution_count": 2,
   "id": "10326945-d876-4562-a0ff-2d7c9b1a578e",
   "metadata": {},
   "outputs": [],
   "source": [
    "#DOWNLOAD_ROOT es la base del GitHub donde vamos a estar descargando las bases de datos.\n",
    "\n",
    "#Complementos con la dirección especifica de la base de datos que queremos.\n",
    "\n",
    "#Declara la función para extraer datos\n"
   ]
  },
  {
   "cell_type": "code",
   "execution_count": 4,
   "id": "5cb7eec8-7dc9-44c1-9333-2f050ad7dd22",
   "metadata": {},
   "outputs": [],
   "source": [
    "#Checa los datos y extrae el dataframe \n",
    "#Chica, mucho ojo con las variables. Escribirlas en mayúsculas como arriba. \n",
    "\n",
    "#Es un dataframe chiquito pero útil :) \n",
    "\n",
    "#Recuerda que Go es el veredicto de si será o no será comediante"
   ]
  },
  {
   "cell_type": "code",
   "execution_count": 5,
   "id": "1aff0021-4f61-4118-83cd-4e349ff8ea4a",
   "metadata": {},
   "outputs": [],
   "source": [
    "#Utiliza el label_encoder para asignar un valor numérico a Nacionalidad y a Go\n",
    "\n",
    "#verifica que las variables \"Nacionality\" y \"Go\" se cambiaron a valores numéricos \n"
   ]
  },
  {
   "cell_type": "code",
   "execution_count": 7,
   "id": "877bfd69-73e2-4583-998b-ceeab91fb602",
   "metadata": {},
   "outputs": [],
   "source": [
    "#Separa en dos partes el dataframe \n"
   ]
  },
  {
   "cell_type": "code",
   "execution_count": 8,
   "id": "d1e6c5af-bb69-4933-bb59-f1c1d04a4fe1",
   "metadata": {},
   "outputs": [],
   "source": [
    "#verifica que se haya hecho la separación "
   ]
  },
  {
   "cell_type": "code",
   "execution_count": 9,
   "id": "bfdd4315-8790-4a3a-968b-edca75437790",
   "metadata": {},
   "outputs": [],
   "source": [
    "#Carnita del asunto:Haz el clasificador de DecisionTree\n",
    "    #Importa la función\n",
    "\n",
    "    #Haz el objeto \n",
    "\n",
    "    #Haz el ajuste\n"
   ]
  },
  {
   "cell_type": "code",
   "execution_count": 10,
   "id": "b702bab9-2d8c-4a36-bfc0-1bc3fd601a25",
   "metadata": {},
   "outputs": [],
   "source": [
    "#Gráfica el árbol de decisión \n"
   ]
  },
  {
   "cell_type": "markdown",
   "id": "641fbd0e-8ce3-4e12-b30b-101002c146bc",
   "metadata": {},
   "source": [
    "***"
   ]
  },
  {
   "cell_type": "markdown",
   "id": "d4a4dbef-3e78-49b0-ba8a-defc0edd990b",
   "metadata": {},
   "source": [
    "## <span style=\"color:green\">2. Probabilidades</span>"
   ]
  },
  {
   "cell_type": "markdown",
   "id": "289b2636-936d-4369-a582-e2612b34c6bf",
   "metadata": {},
   "source": [
    "También permite estimar probabilidades 🥳. Lo veremos con un ejemplo:"
   ]
  },
  {
   "cell_type": "code",
   "execution_count": 11,
   "id": "8b18e425-6bd7-44c8-b07f-f627c38b23d4",
   "metadata": {},
   "outputs": [],
   "source": [
    "#Selecciona una persona aleatoria para estimar su probabilidad y juega con las variables "
   ]
  },
  {
   "cell_type": "markdown",
   "id": "f23653e7-d50d-4ce3-9ea7-74c7733776bf",
   "metadata": {},
   "source": [
    "👀 -El orden de las variables esta como: **Edad, experiencia, rango y nacionalidad**"
   ]
  },
  {
   "cell_type": "markdown",
   "id": "8082b6a2-278e-468c-bcc2-038d8078b3de",
   "metadata": {},
   "source": [
    "El resultado esta como : lado izquierdo= No comediante - lado derecho=Comediante"
   ]
  },
  {
   "cell_type": "markdown",
   "id": "5bc275b7-891c-4744-a737-b6e8f2b7562d",
   "metadata": {},
   "source": [
    "---"
   ]
  },
  {
   "cell_type": "markdown",
   "id": "f90cf876-63c5-4d5b-bb96-9a336ab2baa5",
   "metadata": {},
   "source": [
    "## <span style=\"color:green\">3. Regresión</span>"
   ]
  },
  {
   "cell_type": "markdown",
   "id": "6add2b03-0e33-475a-995e-302ff7351d59",
   "metadata": {},
   "source": [
    "Los árboles de decisión 🌳 tambien pueden hacer regresiones lineales."
   ]
  },
  {
   "cell_type": "code",
   "execution_count": 12,
   "id": "23c4790c-ce85-45bd-ac97-1dcf9302073f",
   "metadata": {},
   "outputs": [],
   "source": [
    "#Genera 100 número aleatorios y añade un poco de aleatoriedad \n",
    "\n",
    "#np.c_[([x])]\n"
   ]
  },
  {
   "cell_type": "code",
   "execution_count": 13,
   "id": "9c93c57b-046f-410a-bda2-dfe45b6482c6",
   "metadata": {},
   "outputs": [],
   "source": [
    "#Crea un  árbol de decisión con un hiperparametro de 2"
   ]
  },
  {
   "cell_type": "code",
   "execution_count": 14,
   "id": "bf67ed85-ee3e-45d4-8ac7-dd4802c5d220",
   "metadata": {},
   "outputs": [],
   "source": [
    "#Dale formato a tu arbolito bebé 🌳"
   ]
  },
  {
   "cell_type": "markdown",
   "id": "c768c245-38fe-446a-8fa9-bb230b44cf65",
   "metadata": {},
   "source": [
    "Recuerda que pusimos una profundidad máxima de 2, esto lo decides tu con base a tus objetivos."
   ]
  },
  {
   "cell_type": "markdown",
   "id": "eaceeb2e-ce67-4e93-80aa-2c6309a14e07",
   "metadata": {},
   "source": [
    "KEY: **mse**= Mean Square Error es equivalente al GINI. Te indica el nivel de impureza. **nsamples=** Cantidad de muestras por nodo. **nvalue=** Valor"
   ]
  },
  {
   "cell_type": "code",
   "execution_count": 15,
   "id": "02135985-9f06-4da3-bb89-a56df7b093b6",
   "metadata": {},
   "outputs": [],
   "source": [
    "#Hacer gráfica toda complicada :("
   ]
  },
  {
   "cell_type": "markdown",
   "id": "21a9707c-b8de-4c93-b2fc-c7ce33b36abf",
   "metadata": {},
   "source": [
    "Los nodos se ven representados por cada linea rojo"
   ]
  },
  {
   "cell_type": "code",
   "execution_count": 16,
   "id": "86acafb6-1eff-4950-84ef-e93d036c7a45",
   "metadata": {},
   "outputs": [],
   "source": [
    "#Arreglar el sobreajuste poniendo una profundidad máxima mayor a la anterior. Ej: 3. \n",
    "\n",
    "#Gráficalo \n",
    "\n",
    "#tree.plot_tree(arbol,rounded=True,filled=True,fontsize=15)Para hacer más grande la letra ajustar fontsize"
   ]
  },
  {
   "cell_type": "code",
   "execution_count": 17,
   "id": "704a2989-1cc1-4c84-a863-e76ef2b90f75",
   "metadata": {},
   "outputs": [],
   "source": [
    "#Haz un árbol de decisiones sin restricciones\n"
   ]
  },
  {
   "cell_type": "code",
   "execution_count": 18,
   "id": "fe10a0a3-f16d-4db4-9a9c-d8f35ed6d24a",
   "metadata": {},
   "outputs": [],
   "source": [
    "#Gráficalo y asómbrate \n"
   ]
  },
  {
   "cell_type": "code",
   "execution_count": null,
   "id": "f113e71a-f814-43fe-bcb4-93f523dcc290",
   "metadata": {},
   "outputs": [],
   "source": []
  }
 ],
 "metadata": {
  "kernelspec": {
   "display_name": "Python 3 (ipykernel)",
   "language": "python",
   "name": "python3"
  },
  "language_info": {
   "codemirror_mode": {
    "name": "ipython",
    "version": 3
   },
   "file_extension": ".py",
   "mimetype": "text/x-python",
   "name": "python",
   "nbconvert_exporter": "python",
   "pygments_lexer": "ipython3",
   "version": "3.9.7"
  }
 },
 "nbformat": 4,
 "nbformat_minor": 5
}
