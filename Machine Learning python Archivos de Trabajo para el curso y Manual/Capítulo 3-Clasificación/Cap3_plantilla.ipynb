{
 "cells": [
  {
   "cell_type": "markdown",
   "id": "9d85069a",
   "metadata": {},
   "source": [
    "# Capitulo 3. Clasificación"
   ]
  },
  {
   "cell_type": "markdown",
   "id": "f28483b2",
   "metadata": {},
   "source": [
    "Proyecto de clasificación, para diagnosticar medicamenttos basándose en las caracteristicas de los pacientes."
   ]
  },
  {
   "cell_type": "markdown",
   "id": "0f1b7738",
   "metadata": {},
   "source": [
    "## <span style=\"color:green\">1. Descargar los datos 📉</span>\n",
    "\n",
    "EN ESTE PROYECTO SOLO VAMOS A NECESITAR LA BASE DE DATOS drug300.csv.💊\n",
    "\n",
    "https://github.com/a2Proyectos/MachineLearning_Data\n",
    "\n"
   ]
  },
  {
   "cell_type": "code",
   "execution_count": 1,
   "id": "9778512d",
   "metadata": {},
   "outputs": [],
   "source": [
    "# Importa las librerias <3 \n"
   ]
  },
  {
   "cell_type": "code",
   "execution_count": 2,
   "id": "9602a08f",
   "metadata": {},
   "outputs": [],
   "source": [
    "## Define una función para extraer los datos\n",
    "#DOWNLOAD_ROOT es la base del GitHub donde vamos a estar descargando las bases de datos.\n",
    "\n",
    "#Complementos con la dirección especifica de la base de datos que queremos.\n"
   ]
  },
  {
   "cell_type": "code",
   "execution_count": 3,
   "id": "72270dd6",
   "metadata": {},
   "outputs": [],
   "source": [
    "# Visualiza el DataFrame\n"
   ]
  },
  {
   "cell_type": "code",
   "execution_count": 4,
   "id": "170ce4ae",
   "metadata": {},
   "outputs": [],
   "source": [
    "# Obten información de los datos.\n"
   ]
  },
  {
   "cell_type": "markdown",
   "id": "39f196f8-d5d5-466e-857b-fbde89d224f5",
   "metadata": {},
   "source": [
    "## <span style=\"color:green\">2. Análisis de cada Variable</span>"
   ]
  },
  {
   "cell_type": "code",
   "execution_count": 5,
   "id": "08e75eb2",
   "metadata": {},
   "outputs": [],
   "source": [
    "#Importa seaborn para tener gráficos más chidos \n",
    "\n",
    "#Gráfica la variable \n",
    "#Establece una área de figsize(9,5) es decir, el tamaño de la imagen\n",
    "\n",
    "#Crea un displot para de la edad (por ser una variable numérica)\n"
   ]
  },
  {
   "cell_type": "code",
   "execution_count": 6,
   "id": "6f180aa1",
   "metadata": {},
   "outputs": [],
   "source": [
    "# Género: cuenta cuántos hombres y mujeres hay\n"
   ]
  },
  {
   "cell_type": "code",
   "execution_count": 7,
   "id": "cdc6b68f",
   "metadata": {},
   "outputs": [],
   "source": [
    "# Crea una gráfica de barras para Presión Sanguinea\n"
   ]
  },
  {
   "cell_type": "code",
   "execution_count": 8,
   "id": "7189311b",
   "metadata": {},
   "outputs": [],
   "source": [
    "# Crea una gráfica de barras para Colesterol\n"
   ]
  },
  {
   "cell_type": "code",
   "execution_count": 9,
   "id": "60bded5c",
   "metadata": {},
   "outputs": [],
   "source": [
    "# Crea un displot para Sodio Potasio\n"
   ]
  },
  {
   "cell_type": "code",
   "execution_count": 10,
   "id": "49538c51",
   "metadata": {},
   "outputs": [],
   "source": [
    "# Crea una gráfica de barras para los Medicamentos (droga) 💊\n",
    "\n",
    "#Cuenta los medicamentos\n"
   ]
  },
  {
   "cell_type": "markdown",
   "id": "1797db2e-0be1-45a9-9496-6f7ce3580db6",
   "metadata": {},
   "source": [
    "***"
   ]
  },
  {
   "cell_type": "markdown",
   "id": "736b6587-e7a8-4000-b8d3-e1c74c4ad6a2",
   "metadata": {},
   "source": [
    "## <span style=\"color:green\">3. Análisis de Relación entre Variables</span>\n"
   ]
  },
  {
   "cell_type": "code",
   "execution_count": 11,
   "id": "b24725f4",
   "metadata": {},
   "outputs": [],
   "source": [
    "## Grafica (con swarmplot) la relación entre la Edad y los Medicamentos que se les da acorde a 💊\n"
   ]
  },
  {
   "cell_type": "code",
   "execution_count": 12,
   "id": "b2233b26",
   "metadata": {},
   "outputs": [],
   "source": [
    "# Grafica la relación entre el el Género y los Medicamentos 💊 que se les da\n",
    "#Primero armar una tablita para poder graficarlas\n",
    "\n",
    "#Grafica la tablita anterior con una gráfica de barras\n"
   ]
  },
  {
   "cell_type": "code",
   "execution_count": 13,
   "id": "7fba93fc",
   "metadata": {},
   "outputs": [],
   "source": [
    "# Grafica la relación entre la Presión Sanguínea y los Medicamentos 💊\n"
   ]
  },
  {
   "cell_type": "code",
   "execution_count": 14,
   "id": "a0d00f1e",
   "metadata": {},
   "outputs": [],
   "source": [
    "# Grafica (con una gráfica de barras)nla relación entre el nivel de colesterol y los medicamentos 💊\n"
   ]
  },
  {
   "cell_type": "code",
   "execution_count": 15,
   "id": "a1baac67",
   "metadata": {},
   "outputs": [],
   "source": [
    "#Grafica (con un swarmplot) la relación entre el nivel de Sodio-Potasio y los medicamentos 💊 que se les da\n"
   ]
  },
  {
   "cell_type": "markdown",
   "id": "71aa2c62-820d-4fe1-8d8a-11ee79ccb844",
   "metadata": {},
   "source": [
    "***"
   ]
  },
  {
   "cell_type": "markdown",
   "id": "443087ee-ad9e-4aea-ad74-29376817eabb",
   "metadata": {},
   "source": [
    "## <span style=\"color:green\">4. Limpieza y Separación de Datos</span>\n"
   ]
  },
  {
   "cell_type": "code",
   "execution_count": 16,
   "id": "29298ff4",
   "metadata": {},
   "outputs": [],
   "source": [
    "## Utilizar LabelEncoder para procesar variables alfanuméricas como el sexo, BP, Colesterol, étc\n",
    "\n"
   ]
  },
  {
   "cell_type": "code",
   "execution_count": 17,
   "id": "4144a67c",
   "metadata": {},
   "outputs": [],
   "source": [
    "# Crear set de entrenamiento y set de prueba\n"
   ]
  },
  {
   "cell_type": "markdown",
   "id": "795b737b-a8b5-47ec-b37a-25ddc33958a1",
   "metadata": {},
   "source": [
    "El 20% de los datos, serán de prueba. Shuffle será true. Semilla de Aleatoriedad=42"
   ]
  },
  {
   "cell_type": "markdown",
   "id": "f1683e08-1f3d-417a-9070-52503a64503a",
   "metadata": {},
   "source": [
    "***"
   ]
  },
  {
   "cell_type": "markdown",
   "id": "72cc823f",
   "metadata": {},
   "source": [
    "## <span style=\"color:green\">5. Modelo de Clasificación Binario</span>\n"
   ]
  },
  {
   "cell_type": "code",
   "execution_count": 18,
   "id": "c3288417",
   "metadata": {},
   "outputs": [],
   "source": [
    "## Crear modelo para medicamento\n"
   ]
  },
  {
   "cell_type": "markdown",
   "id": "58f623de-9a2c-440d-8e22-c431204df057",
   "metadata": {},
   "source": [
    "Empezaremos con la medicina Y porque es la más popular y, por ende la más fácil de predecir"
   ]
  },
  {
   "cell_type": "code",
   "execution_count": 19,
   "id": "fba21bcb",
   "metadata": {},
   "outputs": [],
   "source": [
    "## Modelo SGD= Stochastic Gradient Descent (próximamente)\n",
    "\n"
   ]
  },
  {
   "cell_type": "code",
   "execution_count": 20,
   "id": "bf5088ac-ad82-4826-a146-1019f6d44069",
   "metadata": {},
   "outputs": [],
   "source": [
    "#Predecir la medicina a tomar de un humano que ya sepas el resultado \n"
   ]
  },
  {
   "cell_type": "markdown",
   "id": "aa86fe0e-0bfa-4e4c-ba92-b74675da354f",
   "metadata": {},
   "source": [
    "👀: para saber que le esta yendo bien al modelo tienen que coincidir los resultados"
   ]
  },
  {
   "cell_type": "markdown",
   "id": "66e61519-7db0-4674-9d42-09a56e0aa4ad",
   "metadata": {},
   "source": [
    "***"
   ]
  },
  {
   "cell_type": "markdown",
   "id": "0a3c3270",
   "metadata": {},
   "source": [
    "## <span style=\"color:green\">6. Medidas de desempeño</span>\n"
   ]
  },
  {
   "cell_type": "markdown",
   "id": "f613829e-7173-4f3d-9134-419b8217e868",
   "metadata": {},
   "source": [
    "### <span style=\"color:blue\">6.1 Exactitud</span>"
   ]
  },
  {
   "cell_type": "code",
   "execution_count": 21,
   "id": "8429ae01",
   "metadata": {},
   "outputs": [],
   "source": [
    "# Realiza una Cross validation/K-Folds\n"
   ]
  },
  {
   "cell_type": "markdown",
   "id": "9c5b0b55-8ab3-4cc5-aed1-95f9e44727c1",
   "metadata": {},
   "source": [
    " \n",
    "**cv:** número de dobleses \n",
    "\n",
    "**scoring:** accuracy (será nuestra medida de desempeño)  "
   ]
  },
  {
   "cell_type": "code",
   "execution_count": 22,
   "id": "8b84c96e",
   "metadata": {},
   "outputs": [],
   "source": [
    "# Modelo que nunca es Y\n"
   ]
  },
  {
   "cell_type": "markdown",
   "id": "0cdfab5e-4809-46f5-91ef-5c6eb7338842",
   "metadata": {},
   "source": [
    "***"
   ]
  },
  {
   "cell_type": "markdown",
   "id": "199752d5",
   "metadata": {},
   "source": [
    "### <span style=\"color:blue\">6.2 Matriz de Confusión</span>"
   ]
  },
  {
   "cell_type": "code",
   "execution_count": 23,
   "id": "39275fad",
   "metadata": {},
   "outputs": [],
   "source": [
    "# Matriz de confusión\n",
    "#Importar cross_val_predict \n",
    "\n",
    "#Importar confusion_matrix\n"
   ]
  },
  {
   "attachments": {
    "3f90b91e-ff94-40c8-b015-0fd5b2eb1586.png": {
     "image/png": "[encoded data removed]"
    }
   },
   "cell_type": "markdown",
   "id": "f54a780c-183a-4fa2-84c9-fd6fb8d65503",
   "metadata": {},
   "source": [
    "![matriz.png](attachment:3f90b91e-ff94-40c8-b015-0fd5b2eb1586.png)"
   ]
  },
  {
   "cell_type": "markdown",
   "id": "f0f6a0ec-d9f6-47cb-b748-3c519715dd14",
   "metadata": {},
   "source": [
    "**Verdaderos Negativos**: esquina superior izquierda \n",
    "\n",
    "**Falsos positivos**: esquina superior derecha\n",
    "\n",
    "**Falsos Negativos**: esquina inferior izquierda\n",
    "\n",
    "**Verdaderos Positivos**: esquina inferior derecha "
   ]
  },
  {
   "cell_type": "markdown",
   "id": "38fd4cd1-2bcb-4a78-b36d-e1111764aa41",
   "metadata": {},
   "source": [
    "***"
   ]
  },
  {
   "cell_type": "markdown",
   "id": "cfe9e7be",
   "metadata": {},
   "source": [
    "### <span style=\"color:blue\">6.3 Precision y Recall</span>"
   ]
  },
  {
   "cell_type": "code",
   "execution_count": 24,
   "id": "edd6f25a",
   "metadata": {
    "scrolled": true
   },
   "outputs": [],
   "source": [
    "#Importar precision_score y recall_score \n"
   ]
  },
  {
   "attachments": {
    "7eddb0e3-9b2f-40e6-8859-a4ba9718b0b8.png": {
     "image/png": "[encoded data removed]"
    }
   },
   "cell_type": "markdown",
   "id": "45751f1a-3ba0-4263-bc49-7f2674f8b981",
   "metadata": {},
   "source": [
    "![image.png](attachment:7eddb0e3-9b2f-40e6-8859-a4ba9718b0b8.png)"
   ]
  },
  {
   "attachments": {
    "c3eee779-8ac5-44f2-ac4c-b18a71b57466.png": {
     "image/png": "[encoded data removed]"
    }
   },
   "cell_type": "markdown",
   "id": "5b055c17-6489-45da-8e6b-58426deddd31",
   "metadata": {},
   "source": [
    "![image.png](attachment:c3eee779-8ac5-44f2-ac4c-b18a71b57466.png)"
   ]
  },
  {
   "cell_type": "code",
   "execution_count": 25,
   "id": "cf491a28",
   "metadata": {},
   "outputs": [],
   "source": [
    "#Cambiar de clasificador\n",
    "#Importar RandomForestClassifier\n",
    "\n",
    "#Hacer la matriz de confusión otra vez\n"
   ]
  },
  {
   "cell_type": "code",
   "execution_count": 26,
   "id": "432e451f",
   "metadata": {},
   "outputs": [],
   "source": [
    "#Calcular la precisión y recall con el nuevo clasificador \n"
   ]
  },
  {
   "cell_type": "code",
   "execution_count": 27,
   "id": "c4769c66",
   "metadata": {},
   "outputs": [],
   "source": [
    "#Calcular F1\n"
   ]
  },
  {
   "attachments": {
    "5efcdf08-55c6-4026-990c-e851bc3241af.png": {
     "image/png": "[encoded data removed]"
    }
   },
   "cell_type": "markdown",
   "id": "09ac3e77-751f-4045-a07b-50c6869d2857",
   "metadata": {},
   "source": [
    "![image.png](attachment:5efcdf08-55c6-4026-990c-e851bc3241af.png)"
   ]
  },
  {
   "cell_type": "markdown",
   "id": "53fe39ca-eb18-40cb-ab4f-d2ba63dfe077",
   "metadata": {},
   "source": [
    "***"
   ]
  },
  {
   "cell_type": "markdown",
   "id": "8274b93b",
   "metadata": {},
   "source": [
    "### <span style=\"color:blue\">6.4 Umbral Precision y Recall</span>"
   ]
  },
  {
   "cell_type": "code",
   "execution_count": 28,
   "id": "eb8d1359",
   "metadata": {},
   "outputs": [],
   "source": [
    "#Puntación de un paciente aleatorio\n"
   ]
  },
  {
   "cell_type": "code",
   "execution_count": 29,
   "id": "8be91577",
   "metadata": {},
   "outputs": [],
   "source": [
    "#Graficar la precisión y recall \n",
    "\n",
    "#Puedes visualizar los y_scores pero no te dice nada, la gráfica si lo hará \n",
    "#Graficar la precisión y recall, ahora si\n"
   ]
  },
  {
   "cell_type": "markdown",
   "id": "92e7801d-2378-4178-b631-36ef5720bc65",
   "metadata": {},
   "source": [
    "El umbral te permite conocer qué medida priorizar acorde a tus objetivos. Ya sea que estemos hablando de videos de youtube para niños 🍭 o un sistema de seguridad 🔒."
   ]
  },
  {
   "cell_type": "code",
   "execution_count": 30,
   "id": "b62f43f9",
   "metadata": {},
   "outputs": [],
   "source": [
    "#Supon que ya lo pensaste y querías un umbral  90 \n"
   ]
  },
  {
   "cell_type": "code",
   "execution_count": 31,
   "id": "5806f78b",
   "metadata": {},
   "outputs": [],
   "source": [
    "#Arroja la precisión y recall para un umbral de 90\n"
   ]
  },
  {
   "cell_type": "markdown",
   "id": "890d33dd-25e6-4787-84bc-213b348648d5",
   "metadata": {},
   "source": [
    "***"
   ]
  },
  {
   "cell_type": "markdown",
   "id": "6a2caf78",
   "metadata": {},
   "source": [
    "### <span style=\"color:blue\">6.5 Curva ROC</span>\n"
   ]
  },
  {
   "cell_type": "markdown",
   "id": "c589757e-e8a3-45bc-b264-91a7844e0005",
   "metadata": {},
   "source": [
    "Grafica Recall contra el porcentaje de Falsos Positivos"
   ]
  },
  {
   "cell_type": "code",
   "execution_count": 32,
   "id": "174891b7",
   "metadata": {},
   "outputs": [],
   "source": [
    "#Importar roc_curve\n"
   ]
  },
  {
   "cell_type": "code",
   "execution_count": 33,
   "id": "5336e616",
   "metadata": {},
   "outputs": [],
   "source": [
    "#Graficar la curva ROC\n",
    "\n",
    "#Poner una cuadrícula\n"
   ]
  },
  {
   "cell_type": "markdown",
   "id": "5e87c17d-a9da-425c-80d3-40d541f3af9c",
   "metadata": {},
   "source": [
    "Un modelo perfecto se asimila a una escuadra entre la curva ROC y la línea punteada porque existe una mayor área bajo la curva"
   ]
  },
  {
   "cell_type": "code",
   "execution_count": 34,
   "id": "cb11a9f2",
   "metadata": {},
   "outputs": [],
   "source": [
    "#Calcular el puntaje de la curva\n"
   ]
  },
  {
   "cell_type": "code",
   "execution_count": 35,
   "id": "bd8ce8ec",
   "metadata": {},
   "outputs": [],
   "source": [
    "#Compararlo con el modelo de random forest\n"
   ]
  },
  {
   "cell_type": "code",
   "execution_count": 36,
   "id": "40ed836a",
   "metadata": {},
   "outputs": [],
   "source": [
    "#Graficar la curva ROC y la predicción de random forest \n"
   ]
  },
  {
   "cell_type": "code",
   "execution_count": 37,
   "id": "3da0b336",
   "metadata": {},
   "outputs": [],
   "source": [
    "#Calcular el puntaje (área bajo la curva) de random forest  \n"
   ]
  },
  {
   "cell_type": "markdown",
   "id": "ed57351c-fef1-43a2-abb8-000bb34d9e60",
   "metadata": {},
   "source": [
    "***"
   ]
  },
  {
   "cell_type": "markdown",
   "id": "869d66e8",
   "metadata": {},
   "source": [
    "## <span style=\"color:green\">7. Clasificadores Multiclase</span>\n"
   ]
  },
  {
   "cell_type": "code",
   "execution_count": 38,
   "id": "f3754467",
   "metadata": {},
   "outputs": [],
   "source": [
    "# Importar SVC=Support Vector Classifier\n",
    "\n",
    "\n",
    "\n",
    "#Predecir a un humano aleatorio para ver que todo este funcionando bien \n"
   ]
  },
  {
   "cell_type": "code",
   "execution_count": 39,
   "id": "ea8321ef",
   "metadata": {},
   "outputs": [],
   "source": [
    "#Utilizar decision_function para observar los puntajes de cada medicina \n",
    "\n",
    "#Decidirá por el qué tenga mayor puntaje"
   ]
  },
  {
   "cell_type": "code",
   "execution_count": 40,
   "id": "b254626c",
   "metadata": {},
   "outputs": [],
   "source": [
    "#Ahora, utiliza el clasificador multiclase \n",
    "\n",
    "#Predecir a un humano ahora con este clasificador\n"
   ]
  },
  {
   "cell_type": "code",
   "execution_count": 41,
   "id": "0977941f",
   "metadata": {},
   "outputs": [],
   "source": [
    "#Utilizar decision_function para observar los puntajes de cada medicina \n"
   ]
  },
  {
   "cell_type": "code",
   "execution_count": 42,
   "id": "f62ef031-ec16-45b1-9529-141f2a56fecd",
   "metadata": {},
   "outputs": [],
   "source": [
    "#campararlo con los datos obtenidos de sgd.fit \n"
   ]
  },
  {
   "cell_type": "markdown",
   "id": "01d14327-bb72-4e3d-8dde-e383892136b4",
   "metadata": {},
   "source": [
    "***"
   ]
  },
  {
   "cell_type": "markdown",
   "id": "db247461",
   "metadata": {},
   "source": [
    "## <span style=\"color:green\">8. Analizar Errores</span>"
   ]
  },
  {
   "cell_type": "code",
   "execution_count": 43,
   "id": "2f184f37-4640-4733-8c54-911f7c99ef2f",
   "metadata": {},
   "outputs": [],
   "source": [
    "#Hacer un clasificador de random forest\n"
   ]
  },
  {
   "cell_type": "code",
   "execution_count": 44,
   "id": "fb8f5f40",
   "metadata": {},
   "outputs": [],
   "source": [
    "#Utilizar la matriz de confusión \n"
   ]
  },
  {
   "cell_type": "code",
   "execution_count": 45,
   "id": "3489af35-b3f2-4001-9e2f-67b5696c44f7",
   "metadata": {},
   "outputs": [],
   "source": [
    "#utilizar ahora SGD\n"
   ]
  }
 ],
 "metadata": {
  "kernelspec": {
   "display_name": "Python 3 (ipykernel)",
   "language": "python",
   "name": "python3"
  },
  "language_info": {
   "codemirror_mode": {
    "name": "ipython",
    "version": 3
   },
   "file_extension": ".py",
   "mimetype": "text/x-python",
   "name": "python",
   "nbconvert_exporter": "python",
   "pygments_lexer": "ipython3",
   "version": "3.9.7"
  }
 },
 "nbformat": 4,
 "nbformat_minor": 5
}
