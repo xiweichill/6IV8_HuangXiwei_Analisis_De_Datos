{
 "cells": [
  {
   "cell_type": "markdown",
   "id": "24ccd45c-f156-4f17-8203-62cfd2dea1ee",
   "metadata": {},
   "source": [
    "# 8.- Cadenas"
   ]
  },
  {
   "cell_type": "markdown",
   "id": "0a48696e-f0e1-4ab7-9b69-03611bc76ff2",
   "metadata": {},
   "source": [
    "## 8.2.- Dando formato a Cadenas"
   ]
  },
  {
   "cell_type": "markdown",
   "id": "7af77bbe-9069-4c0e-a55a-566d5da7c5b4",
   "metadata": {},
   "source": [
    "### 8.2.1.- Tipos de Presentación"
   ]
  },
  {
   "cell_type": "markdown",
   "id": "2a458ccf-454b-4b93-b773-4749178e818c",
   "metadata": {},
   "source": [
    "Dale formato a 3.141592 a 3 decimales como cadena usando f'"
   ]
  },
  {
   "cell_type": "code",
   "execution_count": null,
   "id": "c47ac784-6fe5-4a24-abdc-3d0b2c537233",
   "metadata": {},
   "outputs": [],
   "source": []
  },
  {
   "cell_type": "markdown",
   "id": "68e1738d-d9be-4d08-b4ea-b764dc3a0f41",
   "metadata": {},
   "source": [
    "Enteros, con el tipo de presentación d"
   ]
  },
  {
   "cell_type": "code",
   "execution_count": null,
   "id": "93f73be0-08a4-40e6-bd6a-9a2ccd15f2e0",
   "metadata": {},
   "outputs": [],
   "source": []
  },
  {
   "cell_type": "markdown",
   "id": "74c5bcd8-f603-4aff-8c70-e41ba6c042d0",
   "metadata": {},
   "source": [
    "Caracteres con el tipo de presentación c"
   ]
  },
  {
   "cell_type": "code",
   "execution_count": null,
   "id": "ee39ec1f-dd90-457c-bcd1-0f6aec52f7ef",
   "metadata": {},
   "outputs": [],
   "source": []
  },
  {
   "cell_type": "markdown",
   "id": "5c625417-0ff1-456c-ba13-53a390e8223c",
   "metadata": {},
   "source": [
    "Cadenas (strings) con el tipo de presentación s"
   ]
  },
  {
   "cell_type": "code",
   "execution_count": null,
   "id": "174fb779-d902-4c17-a67a-13c768d26265",
   "metadata": {},
   "outputs": [],
   "source": []
  },
  {
   "cell_type": "markdown",
   "id": "e55fa6e7-4bc0-4304-9b82-f26dffd0feb0",
   "metadata": {},
   "source": [
    "#### Por tu cuenta\n",
    "\n",
    "Usa el tipo c para mostrar los caracteres que pertenecen a 58,45,41"
   ]
  },
  {
   "cell_type": "code",
   "execution_count": null,
   "id": "c30dd78d-a42f-4111-8c7e-9e40e8b6c402",
   "metadata": {},
   "outputs": [],
   "source": []
  },
  {
   "cell_type": "markdown",
   "id": "a650b097-f8ff-40ca-82e2-d31edd0bbdf5",
   "metadata": {},
   "source": [
    "### 8.2.2.- Anchos y alineación"
   ]
  },
  {
   "cell_type": "markdown",
   "id": "83a9d37d-8e88-446c-b46a-8a5202b39939",
   "metadata": {},
   "source": [
    "En una cadena f' puedes especificar la alineación y la cantidad de espacios al inicio y al final"
   ]
  },
  {
   "cell_type": "code",
   "execution_count": null,
   "id": "913a1c8c-61ea-4ff3-8ea9-f07e02c25a85",
   "metadata": {},
   "outputs": [],
   "source": []
  },
  {
   "cell_type": "code",
   "execution_count": null,
   "id": "44a6f0c8-b83c-47ef-a535-94138e443205",
   "metadata": {},
   "outputs": [],
   "source": []
  },
  {
   "cell_type": "code",
   "execution_count": null,
   "id": "0ab306c4-75ec-4586-ac09-a117fea3a899",
   "metadata": {},
   "outputs": [],
   "source": []
  },
  {
   "cell_type": "code",
   "execution_count": null,
   "id": "4e706515-938e-4fd2-8639-4fdd1fbb0d8f",
   "metadata": {},
   "outputs": [],
   "source": []
  },
  {
   "cell_type": "code",
   "execution_count": null,
   "id": "36ed4215-16da-4708-9b57-4d795fbc1749",
   "metadata": {},
   "outputs": [],
   "source": []
  },
  {
   "cell_type": "code",
   "execution_count": null,
   "id": "dfcc37b9-cf77-41ac-af98-3e50eac54112",
   "metadata": {},
   "outputs": [],
   "source": []
  },
  {
   "cell_type": "markdown",
   "id": "4e22e800-b810-46ed-84ea-6749ed492332",
   "metadata": {},
   "source": [
    "Pero además de especificar la longitud del campo y la cantidad de decimales, también puedes alinear a la cadena con los símbolos > y <."
   ]
  },
  {
   "cell_type": "code",
   "execution_count": null,
   "id": "b614baf4-7774-43cc-a54f-92d15e03cb7f",
   "metadata": {},
   "outputs": [],
   "source": []
  },
  {
   "cell_type": "code",
   "execution_count": null,
   "id": "85ad0a07-192f-4f49-920d-49c2fee4dc0a",
   "metadata": {},
   "outputs": [],
   "source": []
  },
  {
   "cell_type": "markdown",
   "id": "a7caa683-95b6-411c-9d7b-87a193001967",
   "metadata": {},
   "source": [
    "Y para centrar, tanto el texto como los valores"
   ]
  },
  {
   "cell_type": "code",
   "execution_count": null,
   "id": "b8de6f4f-af25-44fe-95df-298937ae0171",
   "metadata": {},
   "outputs": [],
   "source": []
  },
  {
   "cell_type": "code",
   "execution_count": null,
   "id": "4dd550df-a874-4969-b99e-49280cafc209",
   "metadata": {},
   "outputs": [],
   "source": []
  },
  {
   "cell_type": "code",
   "execution_count": null,
   "id": "e93a5ccb-efb8-478f-adbf-0a102d38d711",
   "metadata": {},
   "outputs": [],
   "source": []
  },
  {
   "cell_type": "markdown",
   "id": "3ba44945-c022-42a6-b133-d6372acbc34d",
   "metadata": {},
   "source": [
    "#### Por tu cuenta\n",
    "\n",
    "Muestra el nombre \"Daniel\" en 3 filas diferentes alineados a la derecha, centro e izquierda en un campo de 10 caracteres. Encierra cada fila de resultado en brackets"
   ]
  },
  {
   "cell_type": "code",
   "execution_count": null,
   "id": "ff33c3f4-25c5-4716-a631-371cde795344",
   "metadata": {},
   "outputs": [],
   "source": []
  },
  {
   "cell_type": "markdown",
   "id": "c896e587-4b4c-438a-9725-0e35e31b6e20",
   "metadata": {},
   "source": [
    "### 8.2.3.- Formato Númerico"
   ]
  },
  {
   "cell_type": "markdown",
   "id": "6feaf495-5336-4db5-a2bd-64c665ab5648",
   "metadata": {},
   "source": [
    "En el caso particular de cadenas de números, si requieres mostrar el signo. Puedes agregarlo en\n",
    "el f-string"
   ]
  },
  {
   "cell_type": "code",
   "execution_count": null,
   "id": "2edf017f-00ca-4401-98b6-0ecb0ce19bd4",
   "metadata": {},
   "outputs": [],
   "source": []
  },
  {
   "cell_type": "code",
   "execution_count": null,
   "id": "76f90f0d-afae-4ccd-a087-499ad7fda1cb",
   "metadata": {},
   "outputs": [],
   "source": []
  },
  {
   "cell_type": "markdown",
   "id": "9d42e4f7-d59a-4f77-8689-898e4e18677e",
   "metadata": {},
   "source": [
    "Para agregar ceros en los espacios en blanco."
   ]
  },
  {
   "cell_type": "code",
   "execution_count": null,
   "id": "7f70bec3-c2ed-4116-a529-fffada5e9734",
   "metadata": {},
   "outputs": [],
   "source": []
  },
  {
   "cell_type": "markdown",
   "id": "fa2db479-b131-4235-aa43-4947a5ebab45",
   "metadata": {},
   "source": [
    "Regularmente a los números positivos no se les agrega el signo +. Pero, si requieres dejar el espacio en blanco para este tipo de números, utiliza un código como el siguiente"
   ]
  },
  {
   "cell_type": "code",
   "execution_count": null,
   "id": "20155918-329f-411d-a795-17c1a7d7d762",
   "metadata": {},
   "outputs": [],
   "source": []
  },
  {
   "cell_type": "code",
   "execution_count": null,
   "id": "e175f898-9300-4695-bde6-7b264cb0f9b0",
   "metadata": {},
   "outputs": [],
   "source": []
  },
  {
   "cell_type": "code",
   "execution_count": null,
   "id": "e5da6324-0483-45b7-b7eb-682dadeeaef9",
   "metadata": {},
   "outputs": [],
   "source": []
  },
  {
   "cell_type": "markdown",
   "id": "180577e9-163d-4512-b65d-cee3056ed5ed",
   "metadata": {},
   "source": [
    "#### Por tu cuenta\n",
    "\n",
    "Imprime los valores 11483.528 y -4581.4413 cada uno precedido por su signo, en campos de 10 caracteres con separadores de miles, y su punto decimal alineado a 2 puntos de precisión."
   ]
  },
  {
   "cell_type": "code",
   "execution_count": null,
   "id": "09a0de50-d0d6-4a53-824e-fccf55f04a74",
   "metadata": {},
   "outputs": [],
   "source": []
  },
  {
   "cell_type": "markdown",
   "id": "d223ecab-5e4a-4b1b-b4a1-f365c346ce3c",
   "metadata": {},
   "source": [
    "### 8.2.5.- Concatenar Cadenas que se repiten"
   ]
  },
  {
   "cell_type": "markdown",
   "id": "f645859b-1241-4118-b850-540b65f61a84",
   "metadata": {},
   "source": [
    "Anteriormente utilizaste el símbolo + para concatenar cadenas. Además de esta operación puedes\n",
    "repetir una misma cadena"
   ]
  },
  {
   "cell_type": "code",
   "execution_count": null,
   "id": "0841aa9d-465d-4367-be3a-c128ce558fc9",
   "metadata": {},
   "outputs": [],
   "source": []
  },
  {
   "cell_type": "code",
   "execution_count": null,
   "id": "f1c932bd-d425-46a6-88d2-fd88a03d4136",
   "metadata": {},
   "outputs": [],
   "source": []
  },
  {
   "cell_type": "code",
   "execution_count": null,
   "id": "ae53e8fe-4c48-4603-9a6e-965c046a84ac",
   "metadata": {},
   "outputs": [],
   "source": []
  },
  {
   "cell_type": "code",
   "execution_count": null,
   "id": "51e78738-c381-4c5f-8d16-963312087da4",
   "metadata": {},
   "outputs": [],
   "source": []
  },
  {
   "cell_type": "markdown",
   "id": "82e2893c-bd47-4680-8ee2-1ae8b31d5d90",
   "metadata": {},
   "source": [
    "Si requieres repetir una cadena. "
   ]
  },
  {
   "cell_type": "code",
   "execution_count": null,
   "id": "5f8fc2a2-8dd4-4caf-afcf-66bd2d2ac439",
   "metadata": {},
   "outputs": [],
   "source": []
  },
  {
   "cell_type": "code",
   "execution_count": null,
   "id": "aa9c6e0e-3c4e-4737-99b2-e6af14286138",
   "metadata": {},
   "outputs": [],
   "source": []
  },
  {
   "cell_type": "code",
   "execution_count": null,
   "id": "5dff52f8-d80e-42ac-b858-256493776589",
   "metadata": {},
   "outputs": [],
   "source": []
  },
  {
   "cell_type": "markdown",
   "id": "219fe072-a45f-45ec-b73b-2f03c407bd4d",
   "metadata": {},
   "source": [
    "---"
   ]
  },
  {
   "cell_type": "markdown",
   "id": "46b2a44f-5db9-4063-b763-b5b8c32f0845",
   "metadata": {},
   "source": [
    "## 8.3.- Otras opciones para las cadenas"
   ]
  },
  {
   "cell_type": "markdown",
   "id": "60d85acd-aa22-4665-9cf6-347af4c84b17",
   "metadata": {},
   "source": [
    "### 8.3.1 - Quitar espacios en blanco"
   ]
  },
  {
   "cell_type": "markdown",
   "id": "4a7f5a74-cb0b-4910-b408-0f012dc8be73",
   "metadata": {},
   "source": [
    "Observa el siguiente enunciado (cadena)\n",
    "\n",
    "enunciado = '\\t \\n me gusta escuchar música alegre \\t\\t \\n'"
   ]
  },
  {
   "cell_type": "code",
   "execution_count": null,
   "id": "9b1005fb-d548-472a-bacc-91c4e332c429",
   "metadata": {},
   "outputs": [],
   "source": []
  },
  {
   "cell_type": "code",
   "execution_count": null,
   "id": "dba0c80f-fa7a-4a45-a28c-1be2f8b6c3e0",
   "metadata": {},
   "outputs": [],
   "source": []
  },
  {
   "cell_type": "markdown",
   "id": "c8cfd7bd-2c06-4f72-9ee0-1cf687d06f99",
   "metadata": {},
   "source": [
    "Requieres eliminar todos los espacios en blanco, el método strip realiza esta tarea"
   ]
  },
  {
   "cell_type": "code",
   "execution_count": null,
   "id": "3d983771-9fc9-45dd-8077-ff674937d7cf",
   "metadata": {},
   "outputs": [],
   "source": []
  },
  {
   "cell_type": "markdown",
   "id": "68f98056-6c4f-4a0e-9724-e3b3b65cde68",
   "metadata": {},
   "source": [
    "Para eliminar los espacios en blanco a la izquierda (inicio) de la cadena"
   ]
  },
  {
   "cell_type": "code",
   "execution_count": null,
   "id": "22be046c-91d6-4f6b-bf52-010252631a86",
   "metadata": {},
   "outputs": [],
   "source": []
  },
  {
   "cell_type": "markdown",
   "id": "d4532456-2734-4806-b25a-5b2f0dd3ccb5",
   "metadata": {},
   "source": [
    "O los espacios de la derecha (final) de la cadena."
   ]
  },
  {
   "cell_type": "code",
   "execution_count": null,
   "id": "3d32627f-f6a8-481d-ae69-7ada732e4261",
   "metadata": {},
   "outputs": [],
   "source": []
  },
  {
   "cell_type": "markdown",
   "id": "f272c64d-68b0-4d29-97e1-e990f788e9c2",
   "metadata": {},
   "source": [
    "#### Por tu cuenta\n",
    "\n",
    "Usa los métodos en esta sección para limpiar la siguiente oración\n",
    "\n",
    "name = \"                          Clark Kent                                          \""
   ]
  },
  {
   "cell_type": "markdown",
   "id": "5c1d2655-f828-4305-9920-bcefa7e95963",
   "metadata": {},
   "source": [
    "### 8.3.2 - Mayusculas y Minusculas"
   ]
  },
  {
   "cell_type": "markdown",
   "id": "32fbe5c8-a313-4485-a93d-825f28b7991f",
   "metadata": {},
   "source": [
    "Usa el método capitalize para convertir esta oración a mayusculas\n",
    "\n",
    "me gusta eschuchar música alegre"
   ]
  },
  {
   "cell_type": "code",
   "execution_count": null,
   "id": "bca4b7f1-fd58-4240-a73f-faba7817e418",
   "metadata": {},
   "outputs": [],
   "source": []
  },
  {
   "cell_type": "markdown",
   "id": "cd49c72e-5a9b-4a1c-80aa-5a474f0d1dbd",
   "metadata": {},
   "source": [
    "Usa el metodo Title para ponerle mayuscula a cada letra de la oración\n",
    "\n",
    "me gusta eschuchar música alegre. bailemos"
   ]
  },
  {
   "cell_type": "code",
   "execution_count": null,
   "id": "3b750c53-4452-4d0f-9299-c5b37b7439c6",
   "metadata": {},
   "outputs": [],
   "source": []
  },
  {
   "cell_type": "markdown",
   "id": "4b9aac30-53cf-45b2-bf63-7a1a1e6ca895",
   "metadata": {},
   "source": [
    "### 8.3.3 - Operadores de Comparación"
   ]
  },
  {
   "cell_type": "markdown",
   "id": "c89b9d9d-5e14-4f91-8108-18cfa8b3a1e0",
   "metadata": {},
   "source": [
    "Además de dar formato a las cadenas, Python permite compararlas. Esto se realiza con los valores numéricos que tiene cada carácter. Aquí algunos ejemplos."
   ]
  },
  {
   "cell_type": "code",
   "execution_count": null,
   "id": "09f11719-8d6d-4dfd-879a-f55f4960a8b3",
   "metadata": {},
   "outputs": [],
   "source": []
  },
  {
   "cell_type": "code",
   "execution_count": null,
   "id": "169f7f2e-3438-4bc8-b07f-f05ed8ddd203",
   "metadata": {},
   "outputs": [],
   "source": []
  },
  {
   "cell_type": "markdown",
   "id": "7ef0310a-acbe-4491-9df7-5fadbe1d8bc6",
   "metadata": {},
   "source": [
    "### 8.3.4 - Buscar Cadenas"
   ]
  },
  {
   "cell_type": "markdown",
   "id": "8006b899-deda-4471-b6ed-a08e5237489f",
   "metadata": {},
   "source": [
    "Para contar el número de veces que aparece un trozo de cadena (substring) en una cadena más\n",
    "grande, Python cuenta con el método count. Por ejemplo\n",
    "\n",
    "Cuenta quizas en \"quizás si quizás no quizás es una posibilidad\""
   ]
  },
  {
   "cell_type": "code",
   "execution_count": null,
   "id": "5f0028df-9be6-4a7e-8d69-f278baf7238d",
   "metadata": {},
   "outputs": [],
   "source": []
  },
  {
   "cell_type": "code",
   "execution_count": null,
   "id": "cb3989e0-0c8f-48d7-8001-878c7045c196",
   "metadata": {},
   "outputs": [],
   "source": []
  },
  {
   "cell_type": "markdown",
   "id": "0bdb2c9f-16d7-42dc-b461-eca10e3f977d",
   "metadata": {},
   "source": [
    "Si añades un segundo argumento, éste indica el índice de inicio de la búsqueda (recuerda que los\n",
    "índices inician en 0)."
   ]
  },
  {
   "cell_type": "code",
   "execution_count": null,
   "id": "cc71a3ce-13e3-47cc-afc2-6699198aab54",
   "metadata": {},
   "outputs": [],
   "source": []
  },
  {
   "cell_type": "code",
   "execution_count": null,
   "id": "d3650657-46fb-4dcc-a892-f1b3bdbd201b",
   "metadata": {},
   "outputs": [],
   "source": []
  },
  {
   "cell_type": "markdown",
   "id": "2733cb44-23b8-47f3-908a-ed5765e34809",
   "metadata": {},
   "source": [
    "El método index busca una subcadena dentro de una cadena, e indica el primer índice en donde\n",
    "aparece. "
   ]
  },
  {
   "cell_type": "code",
   "execution_count": null,
   "id": "d7e284a9-51cf-47b7-89a8-b108b1a8306e",
   "metadata": {},
   "outputs": [],
   "source": []
  },
  {
   "cell_type": "markdown",
   "id": "0a3e1ef2-49f8-41f6-b18e-31d224efd220",
   "metadata": {},
   "source": [
    "El método rindex realiza la misma tarea que index, pero inicia la búsqueda desde la parte final\n",
    "de la cadena. "
   ]
  },
  {
   "cell_type": "code",
   "execution_count": null,
   "id": "53e83d79-553c-46f7-85a7-05ec85632cb1",
   "metadata": {},
   "outputs": [],
   "source": []
  },
  {
   "cell_type": "markdown",
   "id": "6b991c26-511b-463a-85e3-4af3a8f9b623",
   "metadata": {},
   "source": [
    "Si solo necesitas conocer si en la cadena se encuentra una subcadena, es posible utilizar los operadores in o not in"
   ]
  },
  {
   "cell_type": "code",
   "execution_count": null,
   "id": "b7ba0e3f-f173-4a49-b65c-ae72bcc4cd98",
   "metadata": {},
   "outputs": [],
   "source": []
  },
  {
   "cell_type": "markdown",
   "id": "e62993de-d384-4393-8774-9dd72c3355ae",
   "metadata": {},
   "source": [
    "Los métodos startswith y endswith regresan True si la cadena inicia o termina"
   ]
  },
  {
   "cell_type": "code",
   "execution_count": null,
   "id": "628afeaa-177e-421d-9df5-029393f733aa",
   "metadata": {},
   "outputs": [],
   "source": []
  },
  {
   "cell_type": "markdown",
   "id": "a5451a68-e2f9-4639-801a-00e7268bfb5e",
   "metadata": {},
   "source": [
    "#### Por tu cuenta\n",
    "\n",
    "Crea un bucle for que ubica y muestra cada palabra que comienza con \"d\" en \"Por desenredar el enredo aque ayer enrede, hoy enredo el desenredo que desenredé ayer\""
   ]
  },
  {
   "cell_type": "code",
   "execution_count": null,
   "id": "e17272e7-4ab3-4e27-8e51-444ef071375e",
   "metadata": {},
   "outputs": [],
   "source": []
  },
  {
   "cell_type": "markdown",
   "id": "291453ec-2fd7-4084-9dd3-b193700eeb3b",
   "metadata": {},
   "source": [
    "### 8.3.5 - Reemplazar"
   ]
  },
  {
   "cell_type": "markdown",
   "id": "7f3975e9-9e50-49e5-a181-407195152e8c",
   "metadata": {},
   "source": [
    "Para reemplazar cadenas se usa el metoodo replace"
   ]
  },
  {
   "cell_type": "code",
   "execution_count": null,
   "id": "7262a9e8-984f-4242-a72d-90d436289f0c",
   "metadata": {},
   "outputs": [],
   "source": []
  },
  {
   "cell_type": "code",
   "execution_count": null,
   "id": "67dbe047-cafd-4c65-b935-993d33cdf0c3",
   "metadata": {},
   "outputs": [],
   "source": []
  },
  {
   "cell_type": "markdown",
   "id": "e3a52f2a-5631-41b6-b8e4-c2184ea036be",
   "metadata": {},
   "source": [
    "### 8.3.6.- Separar y Unir Cadenas"
   ]
  },
  {
   "cell_type": "markdown",
   "id": "51eb190e-54d9-4366-9f1d-323d9b7b3d1d",
   "metadata": {},
   "source": [
    "Para tokenizar una cadena puedes utilizar un delimitador personalizado como una coma o un espacio en blanco.\n",
    "\n",
    "letras='A,b,e,c,e,d,a,r,i,o'"
   ]
  },
  {
   "cell_type": "code",
   "execution_count": null,
   "id": "f7cb8f28-1e3c-45cc-8239-81c243c864f3",
   "metadata": {},
   "outputs": [],
   "source": []
  },
  {
   "cell_type": "code",
   "execution_count": null,
   "id": "9ee7b344-599d-4740-a6fa-87178c05a173",
   "metadata": {},
   "outputs": [],
   "source": []
  },
  {
   "cell_type": "markdown",
   "id": "a1ffcfc2-51b7-4b3c-ab27-0ae658a48d43",
   "metadata": {},
   "source": [
    "Si escribes un entero en la segunda parte del argumento, este, especifica el número máximo de\n",
    "divisiones de la cadena"
   ]
  },
  {
   "cell_type": "code",
   "execution_count": null,
   "id": "aeda73c8-fc55-490b-8e3d-a89398ddf17b",
   "metadata": {},
   "outputs": [],
   "source": []
  },
  {
   "cell_type": "markdown",
   "id": "3abe1231-cb06-4ff3-b979-2a85e83f7fcb",
   "metadata": {},
   "source": [
    "El siguiente snippet une los elementos de una comprensión de lista."
   ]
  },
  {
   "cell_type": "code",
   "execution_count": null,
   "id": "23332d24-a241-4119-9941-f39512852119",
   "metadata": {},
   "outputs": [],
   "source": []
  },
  {
   "cell_type": "code",
   "execution_count": null,
   "id": "baffdd4f-8acb-445e-b897-bc340237e224",
   "metadata": {},
   "outputs": [],
   "source": []
  },
  {
   "cell_type": "code",
   "execution_count": null,
   "id": "d99e9663-3541-44ba-aa7c-fe9762f478bc",
   "metadata": {},
   "outputs": [],
   "source": []
  },
  {
   "cell_type": "markdown",
   "id": "f1025619-c152-47f4-936d-4be71433e87d",
   "metadata": {},
   "source": [
    "El método splitlines regresa una lista de cadenas que representan líneas de\n",
    "texto. Como en el siguiente código."
   ]
  },
  {
   "cell_type": "code",
   "execution_count": null,
   "id": "41e83e8f-c7c2-4e62-b418-6c326c3c71ff",
   "metadata": {},
   "outputs": [],
   "source": []
  },
  {
   "cell_type": "markdown",
   "id": "a2945c75-a80d-4058-9edf-b10b145dbebe",
   "metadata": {},
   "source": [
    "Con el argumento True en splitlines, se muestran los respectivos saltos\n",
    "de línea."
   ]
  },
  {
   "cell_type": "code",
   "execution_count": null,
   "id": "44a25e16-75e8-4742-82ce-962488a9c496",
   "metadata": {},
   "outputs": [],
   "source": []
  },
  {
   "cell_type": "markdown",
   "id": "087f19a8-531e-45b3-ab4d-43130ec2ae4f",
   "metadata": {},
   "source": [
    "## 8.4.- Expresiones Regulares"
   ]
  },
  {
   "cell_type": "markdown",
   "id": "8f562309-5135-40fe-afed-cb05805c1058",
   "metadata": {},
   "source": [
    "### 8.4.1.- Modulo re y función Fullmatch"
   ]
  },
  {
   "cell_type": "markdown",
   "id": "682ce383-7c21-44bb-bc5e-93c7d25bdf17",
   "metadata": {},
   "source": [
    "Para utilizar expresiones regulares es necesario importar el módulo re.\n"
   ]
  },
  {
   "cell_type": "code",
   "execution_count": null,
   "id": "1c23acef-55f2-409c-aff2-64097ae14c17",
   "metadata": {},
   "outputs": [],
   "source": []
  },
  {
   "cell_type": "markdown",
   "id": "1efa0c73-41db-4fd0-8d5c-1f90a64b5f15",
   "metadata": {},
   "source": [
    "La función más simple para expresiones regulares es fullmatch. A continuación, se muestran\n",
    "algunos ejemplos de la forma en que se puede utilizar."
   ]
  },
  {
   "cell_type": "code",
   "execution_count": null,
   "id": "64c002bb-8d1a-4d6b-bc5f-3227db974977",
   "metadata": {},
   "outputs": [],
   "source": []
  },
  {
   "cell_type": "code",
   "execution_count": null,
   "id": "bc88dc77-a5ed-44c3-8975-8dd88f6f1f45",
   "metadata": {},
   "outputs": [],
   "source": []
  },
  {
   "cell_type": "markdown",
   "id": "aeecf54a-9da2-4375-9125-9fbf1b25f70d",
   "metadata": {},
   "source": [
    "Las expresiones regulares, en general contienen símbolos especiales llamados meta caracteres como\n",
    "\\, @, #, $ * y signos de agrupación como [ ], { }, ( )\n",
    "En consecuencia, resulta necesario utilizar los r-strings."
   ]
  },
  {
   "cell_type": "code",
   "execution_count": null,
   "id": "4618755b-d274-4c38-9986-547fecedee38",
   "metadata": {},
   "outputs": [],
   "source": []
  },
  {
   "cell_type": "markdown",
   "id": "46134b32-45c1-4666-a9be-f4da5d3e1102",
   "metadata": {},
   "source": [
    "También es posible verificar si, por ejemplo, el nombre de las personas está bien escrito (letra mayúscula al inicio del nombre)"
   ]
  },
  {
   "cell_type": "code",
   "execution_count": null,
   "id": "eb215151-7e46-4b5d-8d7b-37de92206f82",
   "metadata": {},
   "outputs": [],
   "source": []
  },
  {
   "cell_type": "markdown",
   "id": "63d9e7dc-93a9-4de1-b89f-a654aaa30154",
   "metadata": {},
   "source": [
    "Al escribir [^a-z], estarás verificando si algún caracter no coincide con las letras minúsculas"
   ]
  },
  {
   "cell_type": "code",
   "execution_count": null,
   "id": "d070aca5-7c9a-4559-a2c2-d005e98d3761",
   "metadata": {},
   "outputs": [],
   "source": []
  },
  {
   "cell_type": "markdown",
   "id": "f2e27a7e-e3ac-4b2e-a317-b87b2a148429",
   "metadata": {},
   "source": [
    "Si requieres verificar si al menos una letra minúscula aparece en el nombre, puedes utilizar [a-z]+\n"
   ]
  },
  {
   "cell_type": "code",
   "execution_count": null,
   "id": "7e9bc1b9-08af-44d8-a67c-900430e218fd",
   "metadata": {},
   "outputs": [],
   "source": []
  },
  {
   "cell_type": "markdown",
   "id": "ef763293-52aa-469c-8ff5-7d09785173bb",
   "metadata": {},
   "source": [
    "Las siguientes expresiones regulares verifican si las expresiones contienen al menos cuatro dígitos.\n"
   ]
  },
  {
   "cell_type": "code",
   "execution_count": null,
   "id": "a7186f93-2ec1-484f-8860-c1b8f91a71e5",
   "metadata": {},
   "outputs": [],
   "source": []
  },
  {
   "cell_type": "code",
   "execution_count": null,
   "id": "2ca900a9-4c41-412e-bb77-b422d2f61e21",
   "metadata": {},
   "outputs": [],
   "source": []
  },
  {
   "cell_type": "markdown",
   "id": "e3603fcb-5a77-4539-acb3-ebd48c75fe4b",
   "metadata": {},
   "source": [
    "Ahora, las expresiones regulares siguientes, verifican si las expresiones contienen entre 8 y 10 dígitos.\n"
   ]
  },
  {
   "cell_type": "code",
   "execution_count": null,
   "id": "939949e3-14ed-4899-908b-417423b6386d",
   "metadata": {},
   "outputs": [],
   "source": []
  },
  {
   "cell_type": "markdown",
   "id": "5a5858a3-e26f-422d-aa9e-577982ecb4d3",
   "metadata": {},
   "source": [
    "#### Por tu cuenta\n",
    "\n",
    "Crea y prueba una expresión regular que cuadra con una dirección de calle que consiste de un número con uno o más digitos seguido de 2 palabras de una o más caracteres. Por ejemplo 372 Callejón Rojo"
   ]
  },
  {
   "cell_type": "code",
   "execution_count": null,
   "id": "673b963e-1f48-46d9-8705-91e0451874ea",
   "metadata": {},
   "outputs": [],
   "source": []
  },
  {
   "cell_type": "code",
   "execution_count": null,
   "id": "03857c48-302a-40f8-96ce-a285610a4da4",
   "metadata": {},
   "outputs": [],
   "source": []
  },
  {
   "cell_type": "markdown",
   "id": "726003f7-826e-4fec-bd54-3e7af5601eb3",
   "metadata": {},
   "source": [
    "### 8.4.2.- Reemplazar subcadenas y separar cadenas"
   ]
  },
  {
   "cell_type": "markdown",
   "id": "b522f2ad-98e9-47fa-bdb3-251290cf113a",
   "metadata": {},
   "source": [
    "Otras dos funcionalidades del módulo re, son sub y split. Observa estos ejemplos\n"
   ]
  },
  {
   "cell_type": "code",
   "execution_count": null,
   "id": "b4a35f95-9017-460c-bf0f-4631e9846a9f",
   "metadata": {},
   "outputs": [],
   "source": []
  },
  {
   "cell_type": "markdown",
   "id": "8bdd39dc-f40d-4db8-8abd-e19dcc1a1dce",
   "metadata": {},
   "source": [
    "Al final, obtienes una cadena nueva. También puedes declarar un número máximo de reemplazos.\n"
   ]
  },
  {
   "cell_type": "code",
   "execution_count": null,
   "id": "caedce77-bd54-4dd9-8d8a-2845745bb415",
   "metadata": {},
   "outputs": [],
   "source": []
  },
  {
   "cell_type": "markdown",
   "id": "6781fde7-db46-446f-8ec5-6fcc18f472c3",
   "metadata": {},
   "source": [
    "La función split puede tokenizar una cadena utilizando una expresión regular al especificar un\n",
    "delimitador y regresar una cadena. Haremos una separación utilizando como delimitador, una\n",
    "coma, o una coma seguida por espacios en blanco"
   ]
  },
  {
   "cell_type": "code",
   "execution_count": null,
   "id": "583388b5-4389-4065-b19b-27a09e6d8fb3",
   "metadata": {},
   "outputs": [],
   "source": []
  },
  {
   "cell_type": "code",
   "execution_count": null,
   "id": "26b63003-3903-4c9f-b8e2-7c6d20b68001",
   "metadata": {},
   "outputs": [],
   "source": []
  },
  {
   "cell_type": "markdown",
   "id": "fb773ccf-284d-46de-a385-15b7c6763d5e",
   "metadata": {},
   "source": [
    "Como en el caso de sub, puedes declarar un máximo de divisiones\n"
   ]
  },
  {
   "cell_type": "code",
   "execution_count": null,
   "id": "ea242f4e-03e6-4307-87c9-df77ad9f430c",
   "metadata": {},
   "outputs": [],
   "source": []
  },
  {
   "cell_type": "markdown",
   "id": "7c92a399-74ac-4cff-9e1b-2d6d88a7d7c4",
   "metadata": {},
   "source": [
    "#### Por tu cuenta\n",
    "\n",
    "Reemplaza cada ocurrencia de uno o mas caracteres de siguiente linea con un coma y un espacio\n",
    "\n",
    "\"W\\nX\\n\\nY\\n\\n\\nZ\""
   ]
  },
  {
   "cell_type": "code",
   "execution_count": null,
   "id": "0fe73725-bb88-4eeb-b19e-7faf80223d99",
   "metadata": {},
   "outputs": [],
   "source": []
  },
  {
   "cell_type": "markdown",
   "id": "953fc61f-beef-4236-b9c3-d532838f2b77",
   "metadata": {},
   "source": [
    "### 8.4.3.- Otros métodos de búsqueda: accesar matches"
   ]
  },
  {
   "cell_type": "markdown",
   "id": "19c77f5b-e1b4-43d9-afe9-579a39cfc4b6",
   "metadata": {},
   "source": [
    "Python tiene otras funciones de búsqueda. La función search busca en una cadena la primera \n"
   ]
  },
  {
   "cell_type": "code",
   "execution_count": null,
   "id": "661e6eeb-c0a1-46e3-a424-4e3636e64b4e",
   "metadata": {},
   "outputs": [],
   "source": []
  },
  {
   "cell_type": "code",
   "execution_count": null,
   "id": "50699156-a5ef-4292-a66f-b5f0f327afcb",
   "metadata": {},
   "outputs": [],
   "source": []
  },
  {
   "cell_type": "markdown",
   "id": "a30e12bd-e68d-419a-9eb7-d3982209a41c",
   "metadata": {},
   "source": [
    "En este ejemplo, la función busca la subcadena 'texto' en la cadena 'Esto es solo texto\n",
    "de prueba'."
   ]
  },
  {
   "cell_type": "code",
   "execution_count": null,
   "id": "943387d8-5728-4287-bd37-c9c7a6faa762",
   "metadata": {},
   "outputs": [],
   "source": []
  },
  {
   "cell_type": "code",
   "execution_count": null,
   "id": "e8d0227c-0869-4470-ba83-569bf48640e5",
   "metadata": {},
   "outputs": [],
   "source": []
  },
  {
   "cell_type": "markdown",
   "id": "5aa4761d-aa2c-47d1-87ec-b8d9df62065c",
   "metadata": {},
   "source": [
    "El meta caracter ^ al principio de una cadena regular, es un ancla que indica a Python buscar la\n",
    "expresión que coincide solo con el inicio de la cadena. "
   ]
  },
  {
   "cell_type": "code",
   "execution_count": null,
   "id": "f4951654-4b48-4ac8-a0bf-d462c873bdc3",
   "metadata": {},
   "outputs": [],
   "source": []
  },
  {
   "cell_type": "markdown",
   "id": "b5b9f2ca-fb2c-4545-97ab-a0c6299f4da1",
   "metadata": {},
   "source": [
    "Para finalizar esta sección, utilizaremos un par de funciones de re, findall, que encuentra todas las subcadenas en una cadena y finditer que realiza la misma tarea que findall"
   ]
  },
  {
   "cell_type": "code",
   "execution_count": null,
   "id": "6d225b39-55f9-49b3-aa5f-88f11062a1fb",
   "metadata": {},
   "outputs": [],
   "source": []
  },
  {
   "cell_type": "code",
   "execution_count": null,
   "id": "510fcfb4-91d3-436d-9741-ae9783b9aa3e",
   "metadata": {},
   "outputs": [],
   "source": []
  },
  {
   "cell_type": "markdown",
   "id": "bd7676f3-700a-4ee8-9ad0-3a4caec01556",
   "metadata": {},
   "source": [
    "Con finditer.\n"
   ]
  },
  {
   "cell_type": "code",
   "execution_count": null,
   "id": "f948e8e4-d7e3-483e-ab6f-618d0072e337",
   "metadata": {},
   "outputs": [],
   "source": []
  },
  {
   "cell_type": "markdown",
   "id": "93cb864c-54a2-40e0-87b6-37f087eaab8f",
   "metadata": {},
   "source": [
    "#### Por tu cuenta\n",
    "\n",
    "Suponte que tienes la cadena\n",
    "\n",
    "\"14 + 8\"\n",
    "\n",
    "Usa una expresión regular para romper la cadena en 3 grupos representando los 2 operandos y el operador, luego muestra los grupos"
   ]
  },
  {
   "cell_type": "code",
   "execution_count": null,
   "id": "dba642aa-1a8e-42dc-8e9b-e676d750e912",
   "metadata": {},
   "outputs": [],
   "source": []
  },
  {
   "cell_type": "code",
   "execution_count": null,
   "id": "8551c5f9-4924-4946-a78a-42442b77efb0",
   "metadata": {},
   "outputs": [],
   "source": []
  },
  {
   "cell_type": "code",
   "execution_count": null,
   "id": "4656f059-e287-4a59-b88c-4976d9d6fbe3",
   "metadata": {},
   "outputs": [],
   "source": []
  },
  {
   "cell_type": "code",
   "execution_count": null,
   "id": "2d8c9961-a04a-4e1f-9ad4-d8e3af2f416a",
   "metadata": {},
   "outputs": [],
   "source": []
  },
  {
   "cell_type": "code",
   "execution_count": null,
   "id": "59334d74-9620-499b-983f-ee07a5ba1252",
   "metadata": {},
   "outputs": [],
   "source": []
  },
  {
   "cell_type": "markdown",
   "id": "c59a9db3-8ca0-4864-8885-c124d5350429",
   "metadata": {},
   "source": [
    "## 8.5.- Pandas y Expresiones Regulares"
   ]
  },
  {
   "cell_type": "markdown",
   "id": "ef74700e-6891-4cd9-80f2-da28f7157bd3",
   "metadata": {},
   "source": [
    "El siguiente código crea una Series de Pandas con los RFC de dos usuarios. Intencionalmente\n",
    "uno de ellos tiene un error. El objetivo es ver la forma en que Python lo identifica este error."
   ]
  },
  {
   "cell_type": "code",
   "execution_count": null,
   "id": "dafaeca3-a87f-41f9-b629-406d92bdbbef",
   "metadata": {},
   "outputs": [],
   "source": []
  },
  {
   "cell_type": "code",
   "execution_count": null,
   "id": "9a18d9cb-5074-465a-9ffc-532141cece0c",
   "metadata": {},
   "outputs": [],
   "source": []
  },
  {
   "cell_type": "code",
   "execution_count": null,
   "id": "55590407-216d-454c-8ba7-fb3794a59dfa",
   "metadata": {},
   "outputs": [],
   "source": []
  },
  {
   "cell_type": "markdown",
   "id": "1614f57a-232d-4400-83a9-547ed7a8a3d2",
   "metadata": {},
   "source": [
    "Para definir la expresión regular y determinar las coincidencias.\n"
   ]
  },
  {
   "cell_type": "code",
   "execution_count": null,
   "id": "c809784b-cd3d-4c18-8cbb-9dfab3f973d2",
   "metadata": {},
   "outputs": [],
   "source": []
  },
  {
   "cell_type": "markdown",
   "id": "000f1d91-c284-4771-aeb6-0b24d55455b1",
   "metadata": {},
   "source": [
    "Ahora crearemos una cadena que contiene los nombres de tres países, su código ISO 3 y el prefijo\n",
    "telefónico."
   ]
  },
  {
   "cell_type": "code",
   "execution_count": null,
   "id": "3d71cb47-8597-4976-b606-e4a63b1a9b55",
   "metadata": {},
   "outputs": [],
   "source": []
  },
  {
   "cell_type": "code",
   "execution_count": null,
   "id": "3e00ae2f-0c40-44ec-936e-2b87b498848c",
   "metadata": {},
   "outputs": [],
   "source": []
  },
  {
   "cell_type": "code",
   "execution_count": null,
   "id": "943c6314-84c5-41a2-a87c-71e183e44fc3",
   "metadata": {},
   "outputs": [],
   "source": []
  },
  {
   "cell_type": "markdown",
   "id": "b2381b9d-fd19-4150-8812-790ff42398a3",
   "metadata": {},
   "source": [
    "#### Por tu cuenta\n",
    "\n",
    "Arma un programa que tome 3 numeros telefonicos de 10 digitos y te los devuelva en el formato (###) ###-#### "
   ]
  },
  {
   "cell_type": "code",
   "execution_count": null,
   "id": "57ff0d28-4506-40f5-94d9-952faa9e3db5",
   "metadata": {},
   "outputs": [],
   "source": []
  },
  {
   "cell_type": "code",
   "execution_count": null,
   "id": "507590c8-cc9b-4b04-a05e-dcf584f1fd0a",
   "metadata": {},
   "outputs": [],
   "source": []
  }
 ],
 "metadata": {
  "kernelspec": {
   "display_name": "Python 3",
   "language": "python",
   "name": "python3"
  },
  "language_info": {
   "codemirror_mode": {
    "name": "ipython",
    "version": 3
   },
   "file_extension": ".py",
   "mimetype": "text/x-python",
   "name": "python",
   "nbconvert_exporter": "python",
   "pygments_lexer": "ipython3",
   "version": "3.8.8"
  }
 },
 "nbformat": 4,
 "nbformat_minor": 5
}
