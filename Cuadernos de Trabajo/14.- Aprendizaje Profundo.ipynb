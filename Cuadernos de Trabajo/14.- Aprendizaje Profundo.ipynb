{
 "cells": [
  {
   "cell_type": "markdown",
   "id": "effa394c-d3a8-4dc1-82a0-a410b4576d10",
   "metadata": {},
   "source": [
    "## Clasificación Múltiple con el Dataset MINST"
   ]
  },
  {
   "cell_type": "markdown",
   "id": "7dbe36b3-6f98-42ce-bc6b-8abf22aa4356",
   "metadata": {},
   "source": [
    "### Cargar el Dataset de MINST"
   ]
  },
  {
   "cell_type": "markdown",
   "id": "2ec99d1e-acda-47f7-ba5b-3e34ca925729",
   "metadata": {},
   "source": [
    "IMportemos el mdoulo de MINST desde keras"
   ]
  },
  {
   "cell_type": "code",
   "execution_count": null,
   "id": "bd902d6e-b4e4-4333-9504-4f9a972a8f76",
   "metadata": {},
   "outputs": [],
   "source": []
  },
  {
   "cell_type": "markdown",
   "id": "0d8c1cd0-9791-4b18-8308-ec2e6c95c410",
   "metadata": {},
   "source": [
    "Carguemos los datos a nuestras tuplas clásicas de Train y test"
   ]
  },
  {
   "cell_type": "code",
   "execution_count": null,
   "id": "8ef48c18-bd69-4955-b384-5cd5e9e7f05e",
   "metadata": {},
   "outputs": [],
   "source": []
  },
  {
   "cell_type": "markdown",
   "id": "6fc7aeb2-bab8-41b2-9467-61ce0f467c3b",
   "metadata": {},
   "source": [
    "### Exploración de Datos"
   ]
  },
  {
   "cell_type": "markdown",
   "id": "655bc987-bd1b-477c-8770-f9d0326c8181",
   "metadata": {},
   "source": [
    "Obten el Shape de XTrain"
   ]
  },
  {
   "cell_type": "code",
   "execution_count": null,
   "id": "60113bf6-0316-41be-8f7a-73c83dada43b",
   "metadata": {},
   "outputs": [],
   "source": []
  },
  {
   "cell_type": "markdown",
   "id": "c20cb0a2-9f1f-42b7-a941-4d1c80545f25",
   "metadata": {},
   "source": [
    "Obten el Shape de yTrain"
   ]
  },
  {
   "cell_type": "code",
   "execution_count": null,
   "id": "86cabfda-faca-479f-8473-1996bad3c10e",
   "metadata": {},
   "outputs": [],
   "source": []
  },
  {
   "cell_type": "markdown",
   "id": "f6a146ad-bc01-4c09-a1a5-8a688a2d76fd",
   "metadata": {},
   "source": [
    "Obten el Shape de XTest"
   ]
  },
  {
   "cell_type": "code",
   "execution_count": null,
   "id": "916ef597-192b-4b70-9ee1-ddc58e6863b2",
   "metadata": {},
   "outputs": [],
   "source": []
  },
  {
   "cell_type": "markdown",
   "id": "6e66d2d4-ab44-4b5b-82cb-b2fe1cf8321c",
   "metadata": {},
   "source": [
    "Obten el Shape de yTrain"
   ]
  },
  {
   "cell_type": "code",
   "execution_count": null,
   "id": "479392af-6df1-456d-b8ce-e6a50a2c6c79",
   "metadata": {},
   "outputs": [],
   "source": []
  },
  {
   "cell_type": "markdown",
   "id": "c643450f-2bc6-4f8f-a13a-bc3910e13c6c",
   "metadata": {},
   "source": [
    "Activa Matplotlib inline"
   ]
  },
  {
   "cell_type": "code",
   "execution_count": null,
   "id": "2c87d195-9e50-4f25-8d98-b9d93b62774e",
   "metadata": {},
   "outputs": [],
   "source": []
  },
  {
   "cell_type": "markdown",
   "id": "08035ef9-acb5-42fe-b5ea-5a0346cb48f6",
   "metadata": {},
   "source": [
    "Importa matplotlib como plt"
   ]
  },
  {
   "cell_type": "code",
   "execution_count": null,
   "id": "24e071b8-2403-4225-a5a0-5ca3585a4cb0",
   "metadata": {},
   "outputs": [],
   "source": []
  },
  {
   "cell_type": "markdown",
   "id": "ad511334-ab4e-496d-8bc9-9958a38018f6",
   "metadata": {},
   "source": [
    "Importa Seaborn"
   ]
  },
  {
   "cell_type": "code",
   "execution_count": null,
   "id": "55d5f04b-ab0d-4d7a-bed1-6aa61c57eae1",
   "metadata": {},
   "outputs": [],
   "source": []
  },
  {
   "cell_type": "markdown",
   "id": "59d1e48b-4417-4a04-afa2-e3c41ed55fcb",
   "metadata": {},
   "source": [
    "Pon su escala a 2"
   ]
  },
  {
   "cell_type": "code",
   "execution_count": null,
   "id": "609e2364-6c72-4990-af16-935799ba66b9",
   "metadata": {},
   "outputs": [],
   "source": []
  },
  {
   "cell_type": "markdown",
   "id": "09f6ab82-af4c-44ff-bba4-afdc275ab1a8",
   "metadata": {},
   "source": [
    "Importa Numpy"
   ]
  },
  {
   "cell_type": "code",
   "execution_count": null,
   "id": "21911cc9-1236-440d-84b2-92539b6fa561",
   "metadata": {},
   "outputs": [],
   "source": []
  },
  {
   "cell_type": "markdown",
   "id": "ff06b5bf-fa97-4900-a818-768ddc84131b",
   "metadata": {},
   "source": [
    "Ahora armate un programa que muestre 24 digitos"
   ]
  },
  {
   "cell_type": "code",
   "execution_count": null,
   "id": "5cfe49de-bf24-4e66-8537-60da981c7132",
   "metadata": {},
   "outputs": [],
   "source": []
  },
  {
   "cell_type": "code",
   "execution_count": null,
   "id": "a26a18dd-e7de-4199-9a7a-cfad3aa7f4d8",
   "metadata": {},
   "outputs": [],
   "source": []
  },
  {
   "cell_type": "code",
   "execution_count": null,
   "id": "a4c4fcce-6dff-453b-ae92-172e0668bafd",
   "metadata": {},
   "outputs": [],
   "source": []
  },
  {
   "cell_type": "code",
   "execution_count": null,
   "id": "a180de8e-268c-4e90-94d0-59ae8fe87893",
   "metadata": {},
   "outputs": [],
   "source": []
  },
  {
   "cell_type": "markdown",
   "id": "e848d250-7181-4ce9-b482-71c9c6d82857",
   "metadata": {},
   "source": [
    "### Preparar los datos"
   ]
  },
  {
   "cell_type": "markdown",
   "id": "28bc2386-45d0-45b3-b95d-610e19a80a2f",
   "metadata": {},
   "source": [
    "Cambia la figura de Xtrain a 60000 x 28 x 28 x 1"
   ]
  },
  {
   "cell_type": "code",
   "execution_count": null,
   "id": "4eb4494e-12b3-4a0d-86a2-dfbee1853907",
   "metadata": {},
   "outputs": [],
   "source": []
  },
  {
   "cell_type": "markdown",
   "id": "07fd91c2-c4f2-458f-a815-9de4b9b86250",
   "metadata": {},
   "source": [
    "Checa su shape"
   ]
  },
  {
   "cell_type": "code",
   "execution_count": null,
   "id": "3853d775-bb30-4ca7-92ad-dc36d10dd117",
   "metadata": {},
   "outputs": [],
   "source": []
  },
  {
   "cell_type": "markdown",
   "id": "d74c336f-0462-4a99-babb-d348b99c72cd",
   "metadata": {},
   "source": [
    "Cambia la figura de Xshape a 10000 x 28 x 28 x 1"
   ]
  },
  {
   "cell_type": "code",
   "execution_count": null,
   "id": "bae501d9-d1a3-4a9b-80ba-c3382c270443",
   "metadata": {},
   "outputs": [],
   "source": []
  },
  {
   "cell_type": "markdown",
   "id": "260f8ff9-bda8-4a83-9dad-f23ce7b7a0d9",
   "metadata": {},
   "source": [
    "Checa su Shape"
   ]
  },
  {
   "cell_type": "code",
   "execution_count": null,
   "id": "a8ad2896-9f03-4d85-867b-21857e138265",
   "metadata": {},
   "outputs": [],
   "source": []
  },
  {
   "cell_type": "markdown",
   "id": "a6ac6b59-a54a-4a24-a005-6b0a9fa8a91c",
   "metadata": {},
   "source": [
    "Normaliza con astype Xtrain"
   ]
  },
  {
   "cell_type": "code",
   "execution_count": null,
   "id": "b9b26a6c-ba06-4cd4-9814-ab43b7ad62ba",
   "metadata": {},
   "outputs": [],
   "source": []
  },
  {
   "cell_type": "markdown",
   "id": "139fa20c-abd7-463f-b4dd-aedd354e0f35",
   "metadata": {},
   "source": [
    "Normaliza con astype Xtest"
   ]
  },
  {
   "cell_type": "code",
   "execution_count": null,
   "id": "e8c5e76f-29c7-4047-a6a9-b06304faaa88",
   "metadata": {},
   "outputs": [],
   "source": []
  },
  {
   "cell_type": "markdown",
   "id": "7cee3b47-e1df-4835-91e0-90a5ecc9a38a",
   "metadata": {},
   "source": [
    "Desde tensorflow importa to_categorical"
   ]
  },
  {
   "cell_type": "code",
   "execution_count": null,
   "id": "9a115845-b19b-4593-919e-2e19b91c7ad1",
   "metadata": {},
   "outputs": [],
   "source": []
  },
  {
   "cell_type": "markdown",
   "id": "79aa6046-521b-4516-8fb3-a3dc5dd9d3c1",
   "metadata": {},
   "source": [
    "aplicalo a Y_train"
   ]
  },
  {
   "cell_type": "code",
   "execution_count": null,
   "id": "1a15cfc6-a827-4f10-9267-9f881029c18d",
   "metadata": {},
   "outputs": [],
   "source": []
  },
  {
   "cell_type": "markdown",
   "id": "cc7ae7e4-a8b5-43f9-a3e1-a45ba2e21945",
   "metadata": {},
   "source": [
    "Checa su shape"
   ]
  },
  {
   "cell_type": "code",
   "execution_count": null,
   "id": "6f06f02a-507c-44e0-a3f2-eb08868034e7",
   "metadata": {},
   "outputs": [],
   "source": []
  },
  {
   "cell_type": "markdown",
   "id": "7686fa07-1aa6-415e-af15-a218612f0642",
   "metadata": {},
   "source": [
    "Checa el primer dato de Y_train"
   ]
  },
  {
   "cell_type": "code",
   "execution_count": null,
   "id": "810b786b-eafe-4b58-90ae-cdb782adb6bc",
   "metadata": {},
   "outputs": [],
   "source": []
  },
  {
   "cell_type": "markdown",
   "id": "a9ad08cf-1e68-4153-b4c8-2217cdc219c2",
   "metadata": {},
   "source": [
    "Aplica to_categorical a Y-test"
   ]
  },
  {
   "cell_type": "code",
   "execution_count": null,
   "id": "efcd16b6-1216-4ae3-85a3-7a702a18b459",
   "metadata": {},
   "outputs": [],
   "source": []
  },
  {
   "cell_type": "markdown",
   "id": "c8bbcaed-7500-418e-b59d-3e0e015b0429",
   "metadata": {},
   "source": [
    "Checa su figura"
   ]
  },
  {
   "cell_type": "code",
   "execution_count": null,
   "id": "4ade61b0-e453-4395-95c9-9ec9840bc1a3",
   "metadata": {},
   "outputs": [],
   "source": []
  },
  {
   "cell_type": "markdown",
   "id": "a10a678a-7843-4cc8-bcd1-43909c2d589a",
   "metadata": {},
   "source": [
    "### Crear la Red Neuronal"
   ]
  },
  {
   "cell_type": "markdown",
   "id": "e0192ecc-3739-4e08-95e8-dfc8beeef1ea",
   "metadata": {},
   "source": [
    "Importa Sequential desde tf"
   ]
  },
  {
   "cell_type": "code",
   "execution_count": null,
   "id": "6207963f-634f-41f2-bf59-365c492f76c1",
   "metadata": {},
   "outputs": [],
   "source": []
  },
  {
   "cell_type": "markdown",
   "id": "fb8bfb91-da1a-481a-bd04-c3b6c10d6a0f",
   "metadata": {},
   "source": [
    "Crea tu objeto cnn"
   ]
  },
  {
   "cell_type": "code",
   "execution_count": null,
   "id": "13659451-101b-46c2-81a4-f0d60b67c740",
   "metadata": {},
   "outputs": [],
   "source": []
  },
  {
   "cell_type": "markdown",
   "id": "f10c9340-2f81-4937-b114-56d1ae545fa8",
   "metadata": {},
   "source": [
    "importa las capas que necesitaras desde tf"
   ]
  },
  {
   "cell_type": "code",
   "execution_count": null,
   "id": "e7ded461-34f9-4a7a-b1aa-f5a4f56846f1",
   "metadata": {},
   "outputs": [],
   "source": []
  },
  {
   "cell_type": "markdown",
   "id": "070c565e-911c-44bf-8c1d-67c8a0b8914f",
   "metadata": {},
   "source": [
    "agrega la capa de Conv2d"
   ]
  },
  {
   "cell_type": "code",
   "execution_count": null,
   "id": "22d28712-60a5-4f70-8288-fd4c8348f12b",
   "metadata": {},
   "outputs": [],
   "source": []
  },
  {
   "cell_type": "markdown",
   "id": "9fae62b9-85f1-4f19-a265-8e6f36d07dc3",
   "metadata": {},
   "source": [
    "Ahora agrega una capa de Pooling2d"
   ]
  },
  {
   "cell_type": "code",
   "execution_count": null,
   "id": "f2db3659-b658-40bd-b857-d3845316aeec",
   "metadata": {},
   "outputs": [],
   "source": []
  },
  {
   "cell_type": "markdown",
   "id": "dda0b019-1c3a-4a9d-ae3c-f4ff0c810a2d",
   "metadata": {},
   "source": [
    "Agrega otra caba de Conv2D"
   ]
  },
  {
   "cell_type": "code",
   "execution_count": null,
   "id": "132d2600-2788-450a-aeaf-9f62350ac98d",
   "metadata": {},
   "outputs": [],
   "source": []
  },
  {
   "cell_type": "markdown",
   "id": "b08c80e7-d5cc-4184-9d73-41de58820303",
   "metadata": {},
   "source": [
    "Y otra de Pooling"
   ]
  },
  {
   "cell_type": "code",
   "execution_count": null,
   "id": "3a3c7f8f-6f8d-460e-9c9f-ba7d380d3609",
   "metadata": {},
   "outputs": [],
   "source": []
  },
  {
   "cell_type": "markdown",
   "id": "cd53350b-2020-4d7e-ac74-010ef79a2a94",
   "metadata": {},
   "source": [
    "Aplana los resultados"
   ]
  },
  {
   "cell_type": "code",
   "execution_count": null,
   "id": "ae0e8c3e-63b2-49fd-b00c-e5a20fd87ddc",
   "metadata": {},
   "outputs": [],
   "source": [
    "cnn.add(Flatten())"
   ]
  },
  {
   "cell_type": "markdown",
   "id": "1a453f93-5e1b-4c55-9e7e-8b6085f7fc17",
   "metadata": {},
   "source": [
    "Agrega una capa DENSE"
   ]
  },
  {
   "cell_type": "code",
   "execution_count": null,
   "id": "0c644d94-0134-490a-8f9d-a25d2045daff",
   "metadata": {},
   "outputs": [],
   "source": []
  },
  {
   "cell_type": "markdown",
   "id": "cf347883-1b66-497e-b440-b5774dd6b993",
   "metadata": {},
   "source": [
    "Y otra DENSE"
   ]
  },
  {
   "cell_type": "code",
   "execution_count": null,
   "id": "273232b8-db59-403d-b178-7ac4c5c990ca",
   "metadata": {},
   "outputs": [],
   "source": []
  },
  {
   "cell_type": "markdown",
   "id": "daf5fb6e-d085-43db-853f-53c29a7cf6f2",
   "metadata": {},
   "source": [
    "Imprime el resultado en un resumen"
   ]
  },
  {
   "cell_type": "code",
   "execution_count": null,
   "id": "6c5c36a7-1c02-4737-90aa-df029cd13589",
   "metadata": {},
   "outputs": [],
   "source": []
  },
  {
   "cell_type": "markdown",
   "id": "11060745-95e9-44b6-9ee5-857ee40c5280",
   "metadata": {},
   "source": [
    "Visualiza la estructura del modelo"
   ]
  },
  {
   "cell_type": "code",
   "execution_count": null,
   "id": "be278372-88d6-47ec-9c49-36cb76f9f7dd",
   "metadata": {},
   "outputs": [],
   "source": []
  },
  {
   "cell_type": "markdown",
   "id": "29617e38-d74f-4259-9c74-2672297630b8",
   "metadata": {},
   "source": [
    "Compila tu modelo"
   ]
  },
  {
   "cell_type": "code",
   "execution_count": null,
   "id": "055671d7-4211-42e4-84a8-1a3213876a62",
   "metadata": {},
   "outputs": [],
   "source": []
  },
  {
   "cell_type": "markdown",
   "id": "3e677d3c-75c5-4301-9c53-70b343903101",
   "metadata": {},
   "source": [
    "### Entrenar y Evaluar el modelo"
   ]
  },
  {
   "cell_type": "markdown",
   "id": "f3ab9d31-bb3c-4472-997c-03ec97966032",
   "metadata": {},
   "source": [
    "Entrena tu modelo con fit"
   ]
  },
  {
   "cell_type": "code",
   "execution_count": null,
   "id": "1b8d88d4-abc0-4c62-a05a-c5461aef2207",
   "metadata": {},
   "outputs": [],
   "source": []
  },
  {
   "cell_type": "markdown",
   "id": "fe9cd8d5-94f0-43af-8812-7e37aa1a5e4f",
   "metadata": {},
   "source": [
    "Evalua le modelo con Evaluate"
   ]
  },
  {
   "cell_type": "code",
   "execution_count": null,
   "id": "d9d042a3-d4a9-4401-b22f-99d3438ceb24",
   "metadata": {},
   "outputs": [],
   "source": []
  },
  {
   "cell_type": "code",
   "execution_count": null,
   "id": "82d5fef6-6547-47ef-98e7-0c7a41825caa",
   "metadata": {},
   "outputs": [],
   "source": []
  },
  {
   "cell_type": "code",
   "execution_count": null,
   "id": "fe7d6467-7eb8-414b-bb53-36414b309749",
   "metadata": {},
   "outputs": [],
   "source": []
  },
  {
   "cell_type": "markdown",
   "id": "cb6ffc06-88b3-4f3b-97c4-82bb3baf3569",
   "metadata": {},
   "source": [
    "Vamos a hacer predicciones"
   ]
  },
  {
   "cell_type": "code",
   "execution_count": null,
   "id": "d29935c7-c685-4dcb-afef-5229b4d2b39f",
   "metadata": {},
   "outputs": [],
   "source": []
  },
  {
   "cell_type": "markdown",
   "id": "5b9a6377-c5eb-4ce6-ab41-7abe6a10b404",
   "metadata": {},
   "source": [
    "checa que dice el primer elemento de ytest"
   ]
  },
  {
   "cell_type": "code",
   "execution_count": null,
   "id": "d38424d7-6c6e-4af3-ac25-c4fb61b17dee",
   "metadata": {},
   "outputs": [],
   "source": []
  },
  {
   "cell_type": "markdown",
   "id": "3bd1394d-6c57-4b5e-956d-2f8f8a1f6d39",
   "metadata": {},
   "source": [
    "Y ahora que dice el primer elemento del modelo"
   ]
  },
  {
   "cell_type": "code",
   "execution_count": null,
   "id": "f4b1b3db-57a3-445f-ae64-9db2aff22439",
   "metadata": {},
   "outputs": [],
   "source": []
  },
  {
   "cell_type": "markdown",
   "id": "d0f7943f-bfdb-4230-a261-7c14d046289b",
   "metadata": {},
   "source": [
    "Ubiquemos las predicciones incorreectas"
   ]
  },
  {
   "cell_type": "code",
   "execution_count": null,
   "id": "a9c8d00b-140e-4b03-9c6a-2626f9198481",
   "metadata": {},
   "outputs": [],
   "source": []
  },
  {
   "cell_type": "code",
   "execution_count": null,
   "id": "9086dec0-0a7b-46ce-afca-4f0f2310d238",
   "metadata": {},
   "outputs": [],
   "source": []
  },
  {
   "cell_type": "markdown",
   "id": "80577a6c-e804-4eac-8ec6-f78438425828",
   "metadata": {},
   "source": [
    "Obten el largo de esa lista"
   ]
  },
  {
   "cell_type": "code",
   "execution_count": null,
   "id": "f9e6f74b-dbf1-425a-8552-4a18db2774dc",
   "metadata": {},
   "outputs": [],
   "source": []
  },
  {
   "cell_type": "markdown",
   "id": "16baeca6-fea3-43cc-8ce4-9b9cdba7be00",
   "metadata": {},
   "source": [
    "Visualiza las predicciones incorrectas"
   ]
  },
  {
   "cell_type": "code",
   "execution_count": null,
   "id": "2a4b6272-3d1c-46db-b814-341331852edc",
   "metadata": {},
   "outputs": [],
   "source": []
  },
  {
   "cell_type": "markdown",
   "id": "1bded1e9-a959-4f41-ad79-c20ea20d4706",
   "metadata": {},
   "source": [
    "Arma una funcion que genere un listado de las probabilidades para predicciones incorrectas"
   ]
  },
  {
   "cell_type": "code",
   "execution_count": null,
   "id": "9cc934ea-981e-48ce-84f5-898d732cee43",
   "metadata": {},
   "outputs": [],
   "source": []
  },
  {
   "cell_type": "markdown",
   "id": "f3765a74-0de3-40d6-9ca0-4a862bbd875b",
   "metadata": {},
   "source": [
    "Muestra una que otra predicción incorrecta a detalles"
   ]
  },
  {
   "cell_type": "code",
   "execution_count": null,
   "id": "5a2974b7-7fc4-4937-8c7c-dbb5f247ab70",
   "metadata": {},
   "outputs": [],
   "source": []
  },
  {
   "cell_type": "markdown",
   "id": "e9c29f76-72b3-4f0b-aafc-ba625108e756",
   "metadata": {},
   "source": [
    "### Guardar tu Modelo"
   ]
  },
  {
   "cell_type": "code",
   "execution_count": null,
   "id": "294e984d-d848-432e-86d1-8ad319731436",
   "metadata": {},
   "outputs": [],
   "source": []
  },
  {
   "cell_type": "code",
   "execution_count": null,
   "id": "5f63b3f1-f7ce-45f9-8fef-4ef5f57efa8f",
   "metadata": {},
   "outputs": [],
   "source": []
  },
  {
   "cell_type": "code",
   "execution_count": null,
   "id": "9c3c7490-8ff9-46e1-b13a-ed5df3eeb1b2",
   "metadata": {},
   "outputs": [],
   "source": []
  },
  {
   "cell_type": "markdown",
   "id": "3bd26c94-294c-434b-b80c-cbd5c2c93ae8",
   "metadata": {},
   "source": [
    "## Analisis de Sentimientos con Redes Neuronales - IMDB"
   ]
  },
  {
   "cell_type": "markdown",
   "id": "468e7db1-8efb-4695-ac70-4a68f430f158",
   "metadata": {},
   "source": [
    "### Cargar el dataset de IMBD"
   ]
  },
  {
   "cell_type": "markdown",
   "id": "cb7f2d03-95f1-4f5c-be0d-33fcde74258a",
   "metadata": {},
   "source": [
    "Import el dataset de imdb desde tensorlfow.keras.datasets"
   ]
  },
  {
   "cell_type": "code",
   "execution_count": null,
   "id": "1da741cb-176d-4e40-83a4-7433ea48d1f8",
   "metadata": {},
   "outputs": [],
   "source": []
  },
  {
   "cell_type": "markdown",
   "id": "7c72e076-26ca-4296-8859-fdfd8e26ff76",
   "metadata": {},
   "source": [
    "Carga las 10000 palabras que mas ocurren"
   ]
  },
  {
   "cell_type": "code",
   "execution_count": null,
   "id": "2eea9e77-4b3d-4aec-b542-9cbeaac58b70",
   "metadata": {},
   "outputs": [],
   "source": []
  },
  {
   "cell_type": "markdown",
   "id": "71239f38-381d-474b-ab25-8adebca85352",
   "metadata": {},
   "source": [
    "Carga tus palabras en tus datasets X_train y X_test y asi"
   ]
  },
  {
   "cell_type": "code",
   "execution_count": null,
   "id": "2b5682a1-3298-4a99-b327-2004b6d1fef4",
   "metadata": {},
   "outputs": [],
   "source": []
  },
  {
   "cell_type": "markdown",
   "id": "327923f4-f66d-4edd-a0a5-0f4049c499b4",
   "metadata": {},
   "source": [
    "### Exploracion de Datos"
   ]
  },
  {
   "cell_type": "markdown",
   "id": "6ff05689-beb1-4552-9a17-1855fa7c54e3",
   "metadata": {},
   "source": [
    "Figura de X_train"
   ]
  },
  {
   "cell_type": "code",
   "execution_count": null,
   "id": "f48d87b8-45d5-427a-87f2-b6a39f37f83c",
   "metadata": {},
   "outputs": [],
   "source": []
  },
  {
   "cell_type": "markdown",
   "id": "2f53adf6-7e86-495f-ba18-d82170e7c77f",
   "metadata": {},
   "source": [
    "Figura de Y_train"
   ]
  },
  {
   "cell_type": "code",
   "execution_count": null,
   "id": "a3f768f8-71af-4132-92a0-8b14251fbd8d",
   "metadata": {},
   "outputs": [],
   "source": []
  },
  {
   "cell_type": "markdown",
   "id": "d2bba90f-a255-44aa-9da6-28eb3bf93412",
   "metadata": {},
   "source": [
    "Figura de X_test"
   ]
  },
  {
   "cell_type": "code",
   "execution_count": null,
   "id": "9b857e90-bca4-4d38-b780-39d4f81418cf",
   "metadata": {},
   "outputs": [],
   "source": []
  },
  {
   "cell_type": "markdown",
   "id": "3dd934d2-7a2e-45d4-86fb-dc2854f8bae2",
   "metadata": {},
   "source": [
    "Figura de y_test"
   ]
  },
  {
   "cell_type": "code",
   "execution_count": null,
   "id": "6eaa46b4-61e4-48c5-997b-a95b6ae41006",
   "metadata": {},
   "outputs": [],
   "source": []
  },
  {
   "cell_type": "markdown",
   "id": "e4ff036e-ec9e-4e40-85ee-4d2b387c07de",
   "metadata": {},
   "source": [
    "Apaga pretty print"
   ]
  },
  {
   "cell_type": "code",
   "execution_count": null,
   "id": "1ec1a6fb-b6ca-4159-86e0-6d39d713dcd5",
   "metadata": {},
   "outputs": [],
   "source": []
  },
  {
   "cell_type": "markdown",
   "id": "0d5d5526-4ecc-4111-9c61-6ccb273ff9e4",
   "metadata": {},
   "source": [
    "Checa un elemento cualquiera de X_train"
   ]
  },
  {
   "cell_type": "code",
   "execution_count": null,
   "id": "eb12be4a-a304-4c28-9fb9-52d9ea09fc44",
   "metadata": {},
   "outputs": [],
   "source": []
  },
  {
   "cell_type": "markdown",
   "id": "2d435e34-6a96-40b4-b039-9a2495d67e1c",
   "metadata": {},
   "source": [
    "Llama la función word to index"
   ]
  },
  {
   "cell_type": "code",
   "execution_count": null,
   "id": "7bb2e1c1-4925-4035-8203-06f83bd21fff",
   "metadata": {},
   "outputs": [],
   "source": []
  },
  {
   "cell_type": "markdown",
   "id": "4616fec2-2ab0-4f98-aa11-063734dd2bfd",
   "metadata": {},
   "source": [
    "Checa el indice de la palabra \"bad\""
   ]
  },
  {
   "cell_type": "code",
   "execution_count": null,
   "id": "63b9b812-5d66-4d60-8bbd-02c4daec7a01",
   "metadata": {},
   "outputs": [],
   "source": []
  },
  {
   "cell_type": "markdown",
   "id": "e92c3838-c948-476c-976a-5c151cc639cb",
   "metadata": {},
   "source": [
    "Reversa el mapeo del diccionario Word to INdex a Index to Word"
   ]
  },
  {
   "cell_type": "code",
   "execution_count": null,
   "id": "4c1a8311-648e-4ab0-b9b5-16ebb25f4115",
   "metadata": {},
   "outputs": [],
   "source": []
  },
  {
   "cell_type": "code",
   "execution_count": null,
   "id": "21ef13b2-3436-45a7-8382-e2a33f8c9bce",
   "metadata": {},
   "outputs": [],
   "source": []
  },
  {
   "cell_type": "markdown",
   "id": "5b91ca62-eabf-4bec-b6a8-f1c49acf0443",
   "metadata": {},
   "source": [
    "Armate una lista para revisar las 50 palabras mas comunes en el diccionario"
   ]
  },
  {
   "cell_type": "code",
   "execution_count": null,
   "id": "2fc2f738-3b19-4c29-a42c-f20d39068a31",
   "metadata": {},
   "outputs": [],
   "source": []
  },
  {
   "cell_type": "markdown",
   "id": "77302b74-9035-41de-bc05-d824fe46185c",
   "metadata": {},
   "source": [
    "Ok, ya estamos listos para leer una reseña"
   ]
  },
  {
   "cell_type": "code",
   "execution_count": null,
   "id": "ec1e1149-773e-483c-a86c-ba65295fa9e3",
   "metadata": {},
   "outputs": [],
   "source": []
  },
  {
   "cell_type": "markdown",
   "id": "a28f4c55-7258-4510-aa6a-42f8af7d4676",
   "metadata": {},
   "source": [
    "Y revisa de Y_train la clasificacion de esta reseña"
   ]
  },
  {
   "cell_type": "code",
   "execution_count": null,
   "id": "a69f03ef-73e2-466d-971b-3a6b7749834a",
   "metadata": {},
   "outputs": [],
   "source": []
  },
  {
   "cell_type": "markdown",
   "id": "5c4a69f5-ce87-47b6-92d8-1625e93f48d0",
   "metadata": {},
   "source": [
    "### Preparación de datos"
   ]
  },
  {
   "cell_type": "markdown",
   "id": "518719da-d571-40e3-8b0a-258b6ae2add6",
   "metadata": {},
   "source": [
    "Define palabras_por_reseña en 200"
   ]
  },
  {
   "cell_type": "code",
   "execution_count": null,
   "id": "0b185fc6-2150-4a22-b240-fb9ec9c54526",
   "metadata": {},
   "outputs": [],
   "source": []
  },
  {
   "cell_type": "markdown",
   "id": "2a3f1449-9197-41d9-8047-7366cca9d6f1",
   "metadata": {},
   "source": [
    "Importa pad_sequences de tensroflow"
   ]
  },
  {
   "cell_type": "code",
   "execution_count": null,
   "id": "d87b7d0f-a6c3-412b-a7a8-4a5814670faa",
   "metadata": {},
   "outputs": [],
   "source": []
  },
  {
   "cell_type": "markdown",
   "id": "070faf90-e409-4005-b6a5-0c2a6a2f960f",
   "metadata": {},
   "source": [
    "Define X_train como pad_sequences del viejo X_train"
   ]
  },
  {
   "cell_type": "code",
   "execution_count": null,
   "id": "309ed94b-bb46-40d3-a39c-3edcdfcf5306",
   "metadata": {},
   "outputs": [],
   "source": []
  },
  {
   "cell_type": "markdown",
   "id": "20e7343f-944b-4ab9-adad-a17f66fda774",
   "metadata": {},
   "source": [
    "Checa el nuevo shape de X_train"
   ]
  },
  {
   "cell_type": "code",
   "execution_count": null,
   "id": "47395757-dce8-4db7-9ea1-dca4a12e0633",
   "metadata": {},
   "outputs": [],
   "source": []
  },
  {
   "cell_type": "markdown",
   "id": "a307b8fc-ab1d-483f-952c-66e392ff396a",
   "metadata": {},
   "source": [
    "Hay que reconfigurar X_Test tambien"
   ]
  },
  {
   "cell_type": "code",
   "execution_count": null,
   "id": "60ea6388-8882-4a74-84a3-63648c99a737",
   "metadata": {},
   "outputs": [],
   "source": []
  },
  {
   "cell_type": "markdown",
   "id": "1762f64e-2aca-43c9-820b-3b19cbde7fef",
   "metadata": {},
   "source": [
    "Checa su figura"
   ]
  },
  {
   "cell_type": "code",
   "execution_count": null,
   "id": "827cf554-1ddd-42a9-9b01-894c33910e2b",
   "metadata": {},
   "outputs": [],
   "source": []
  },
  {
   "cell_type": "markdown",
   "id": "fb067c82-ac74-4be6-a176-921990e4f33d",
   "metadata": {},
   "source": [
    "Importa el Train_test_split y definelo sobre tus variables, semilla 11 y tamaño de prueba de .20"
   ]
  },
  {
   "cell_type": "code",
   "execution_count": null,
   "id": "f2be9629-c0d4-48ad-b0b1-ab0050b340df",
   "metadata": {},
   "outputs": [],
   "source": []
  },
  {
   "cell_type": "code",
   "execution_count": null,
   "id": "ac05b05e-4e61-4d12-ae85-1f7c4e59cee2",
   "metadata": {},
   "outputs": [],
   "source": []
  },
  {
   "cell_type": "markdown",
   "id": "505b2f28-778e-490d-808c-123acfe1aca5",
   "metadata": {},
   "source": [
    "Checa la figura de xtest"
   ]
  },
  {
   "cell_type": "code",
   "execution_count": null,
   "id": "006dddf3-7498-4ebf-a64d-3659a3f82199",
   "metadata": {},
   "outputs": [],
   "source": []
  },
  {
   "cell_type": "markdown",
   "id": "ba089592-e3ef-436b-b190-5a22d7ce314f",
   "metadata": {},
   "source": [
    "Y la de XVal"
   ]
  },
  {
   "cell_type": "code",
   "execution_count": null,
   "id": "594b4362-16cd-40a8-b081-a8606aa5c5cc",
   "metadata": {},
   "outputs": [],
   "source": []
  },
  {
   "cell_type": "code",
   "execution_count": null,
   "id": "3750958f-9820-45bb-a4f9-732d4619226f",
   "metadata": {},
   "outputs": [],
   "source": []
  },
  {
   "cell_type": "markdown",
   "id": "13c1cb2e-7a8d-4aa2-a863-a833740830ec",
   "metadata": {},
   "source": [
    "### Crear la red neuronal"
   ]
  },
  {
   "cell_type": "markdown",
   "id": "2d5ef505-3858-4823-8917-fbea81d983dc",
   "metadata": {},
   "source": [
    "Desde Tensorflow importa Sequencial"
   ]
  },
  {
   "cell_type": "code",
   "execution_count": null,
   "id": "395df404-8241-411c-82a6-30b28c41ac83",
   "metadata": {},
   "outputs": [],
   "source": []
  },
  {
   "cell_type": "markdown",
   "id": "553bb7e8-3ec3-437b-b5b5-dcd7aad84e9a",
   "metadata": {},
   "source": [
    "arma el objeto rnn com oun sequential"
   ]
  },
  {
   "cell_type": "code",
   "execution_count": null,
   "id": "9460b67c-0ef0-4ee7-9fae-e0c7fed48679",
   "metadata": {},
   "outputs": [],
   "source": []
  },
  {
   "cell_type": "markdown",
   "id": "b5d4c846-b572-4655-81a0-1c09639c4ed9",
   "metadata": {},
   "source": [
    "Importa las capas Dense y LSTM"
   ]
  },
  {
   "cell_type": "code",
   "execution_count": null,
   "id": "cd16f561-182d-4a0a-bad5-2599e2f7e54f",
   "metadata": {},
   "outputs": [],
   "source": []
  },
  {
   "cell_type": "markdown",
   "id": "82430225-dbb7-4443-89e2-c7b867e5521e",
   "metadata": {},
   "source": [
    "Importa Embedding"
   ]
  },
  {
   "cell_type": "code",
   "execution_count": null,
   "id": "198f5ad2-6183-4077-add3-575cff39655e",
   "metadata": {},
   "outputs": [],
   "source": []
  },
  {
   "cell_type": "markdown",
   "id": "e800cb76-ee92-475f-ad3c-9496db7c6639",
   "metadata": {},
   "source": [
    "Agrega la capa de Embedding, que salgan 128 dimensiones"
   ]
  },
  {
   "cell_type": "code",
   "execution_count": null,
   "id": "b2dc296c-ce8c-48f6-8429-d5956a2c20a1",
   "metadata": {},
   "outputs": [],
   "source": []
  },
  {
   "cell_type": "markdown",
   "id": "2ec1ed3b-3d5d-460d-a772-33cd2b9acfa1",
   "metadata": {},
   "source": [
    "agrega la capa de LSTM"
   ]
  },
  {
   "cell_type": "code",
   "execution_count": null,
   "id": "64f90ccd-7253-4e2c-9f73-401112d7c36e",
   "metadata": {},
   "outputs": [],
   "source": []
  },
  {
   "cell_type": "markdown",
   "id": "6b58cf40-0030-408f-83aa-3185a9d41234",
   "metadata": {},
   "source": [
    "Agrega una capa DENSE"
   ]
  },
  {
   "cell_type": "code",
   "execution_count": null,
   "id": "f8ce47af-3907-48f2-85f9-1c365a0abf7b",
   "metadata": {},
   "outputs": [],
   "source": []
  },
  {
   "cell_type": "markdown",
   "id": "c8ec5dde-e8b0-4a8f-80a1-20f1477b0032",
   "metadata": {},
   "source": [
    "Compila el RNN"
   ]
  },
  {
   "cell_type": "code",
   "execution_count": null,
   "id": "0d9ad69b-c748-465e-b89d-35b0240e926d",
   "metadata": {},
   "outputs": [],
   "source": []
  },
  {
   "cell_type": "markdown",
   "id": "1a6a71c4-9f62-4ba2-ba37-1409482e4f4f",
   "metadata": {},
   "source": [
    "Y resvisa el resultado de RNN"
   ]
  },
  {
   "cell_type": "code",
   "execution_count": null,
   "id": "c284152c-1937-439b-84f0-8270541fe6fe",
   "metadata": {},
   "outputs": [],
   "source": []
  },
  {
   "cell_type": "markdown",
   "id": "e1794693-7174-414a-b9f2-7489cf090a73",
   "metadata": {},
   "source": [
    "### Entrenar y evaluar el modelo"
   ]
  },
  {
   "cell_type": "markdown",
   "id": "de04a938-4dab-4621-ae19-c3dd519d1e62",
   "metadata": {},
   "source": [
    "Usa Fit para entrenar el mdoelo"
   ]
  },
  {
   "cell_type": "code",
   "execution_count": null,
   "id": "d1a60a72-b2d5-4546-98a7-c09f9fa9ec59",
   "metadata": {},
   "outputs": [],
   "source": []
  },
  {
   "cell_type": "markdown",
   "id": "0254744e-27ef-4441-a727-ffd2cccf874a",
   "metadata": {},
   "source": [
    "Checa tus resultados"
   ]
  },
  {
   "cell_type": "code",
   "execution_count": null,
   "id": "9df1c9ea-0d10-4d3f-a8c9-560f8156d445",
   "metadata": {},
   "outputs": [],
   "source": []
  },
  {
   "cell_type": "markdown",
   "id": "3f98788c-b8e3-425c-8444-e2d75a8882b0",
   "metadata": {},
   "source": [
    "Y revisa el resultado"
   ]
  },
  {
   "cell_type": "code",
   "execution_count": null,
   "id": "f8a6c24d-a4d8-4abb-b78c-ac37de7336f7",
   "metadata": {},
   "outputs": [],
   "source": []
  }
 ],
 "metadata": {
  "kernelspec": {
   "display_name": "Python 3",
   "language": "python",
   "name": "python3"
  },
  "language_info": {
   "codemirror_mode": {
    "name": "ipython",
    "version": 3
   },
   "file_extension": ".py",
   "mimetype": "text/x-python",
   "name": "python",
   "nbconvert_exporter": "python",
   "pygments_lexer": "ipython3",
   "version": "3.8.8"
  }
 },
 "nbformat": 4,
 "nbformat_minor": 5
}
