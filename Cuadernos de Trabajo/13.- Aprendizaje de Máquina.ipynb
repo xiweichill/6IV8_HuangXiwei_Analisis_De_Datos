{
 "cells": [
  {
   "cell_type": "markdown",
   "id": "66659774-8664-45cf-aa1c-e09cedd76fbd",
   "metadata": {},
   "source": [
    "## 15.2- Caso de Estudio - Clasificación"
   ]
  },
  {
   "cell_type": "markdown",
   "id": "1368abb2-87b1-4759-8025-ba13f65336d1",
   "metadata": {},
   "source": [
    "### 15.2.1.- Cargar el dataset"
   ]
  },
  {
   "cell_type": "markdown",
   "id": "bc223100-ea08-48e9-a5ee-4fa491bb183b",
   "metadata": {},
   "source": [
    "Carga load_digits desde sklearn.datasets y luego metelo en un objeto"
   ]
  },
  {
   "cell_type": "code",
   "execution_count": null,
   "id": "a75b0ef9-9ce5-41e8-8799-dd8c53e85380",
   "metadata": {},
   "outputs": [],
   "source": []
  },
  {
   "cell_type": "markdown",
   "id": "7c252f6c-4f7a-4b15-a90b-4932f77a01fb",
   "metadata": {},
   "source": [
    "Imprime la descripcion del dataset"
   ]
  },
  {
   "cell_type": "code",
   "execution_count": null,
   "id": "53e8639e-a9fb-4527-92e8-b646a8c218a4",
   "metadata": {},
   "outputs": [],
   "source": []
  },
  {
   "cell_type": "code",
   "execution_count": null,
   "id": "a5ffabea-c5a9-4676-8b8c-f0ff32c84bfb",
   "metadata": {},
   "outputs": [],
   "source": []
  },
  {
   "cell_type": "markdown",
   "id": "1159cda1-e0ab-4233-90d7-40f20bbfc40a",
   "metadata": {},
   "source": [
    "Checa el target de tu nuevo objeto digitos"
   ]
  },
  {
   "cell_type": "code",
   "execution_count": null,
   "id": "d534c916-3b8a-4d1d-802c-ca22caaeae90",
   "metadata": {},
   "outputs": [],
   "source": []
  },
  {
   "cell_type": "markdown",
   "id": "2f1292a2-51d5-4178-ad95-f64cdd0040a8",
   "metadata": {},
   "source": [
    "Ahora prueba revisando la forma del arreglo digitos"
   ]
  },
  {
   "cell_type": "code",
   "execution_count": null,
   "id": "87a5fe7c-5677-4e4f-b40b-592f0ab46ba6",
   "metadata": {},
   "outputs": [],
   "source": []
  },
  {
   "cell_type": "markdown",
   "id": "2c6e620b-2584-4121-a891-51359b225e94",
   "metadata": {},
   "source": [
    "Y la forma del arreglo target"
   ]
  },
  {
   "cell_type": "code",
   "execution_count": null,
   "id": "82d7e338-f6af-4d91-afb2-d4a0a8fba3ff",
   "metadata": {},
   "outputs": [],
   "source": []
  },
  {
   "cell_type": "markdown",
   "id": "ade920b6-f318-4917-a37e-02b694e2e344",
   "metadata": {},
   "source": [
    "Vamos revisando la imagen 15 del arreglo... no es lo que esperas"
   ]
  },
  {
   "cell_type": "code",
   "execution_count": null,
   "id": "98c980bb-83e0-48c0-95c4-0dfdc5b5a674",
   "metadata": {},
   "outputs": [],
   "source": []
  },
  {
   "cell_type": "markdown",
   "id": "ffbd47b6-761c-437f-8c4a-2ad64c41c249",
   "metadata": {},
   "source": [
    "y ahora veamos el .data para ver el arreglo en 1x64"
   ]
  },
  {
   "cell_type": "code",
   "execution_count": null,
   "id": "39a27523-1d69-44b0-83ed-f0e7cbe6acd4",
   "metadata": {},
   "outputs": [],
   "source": []
  },
  {
   "cell_type": "markdown",
   "id": "66da1355-fd87-4e11-8aad-ce35cdeb4858",
   "metadata": {},
   "source": [
    "### 15.2.2.- Visualizar los datos"
   ]
  },
  {
   "cell_type": "markdown",
   "id": "10558a16-9258-473a-af9b-9963a3aaa565",
   "metadata": {},
   "source": [
    "Veamos los datos utilizando matplotlib, comienza importando esta libreria"
   ]
  },
  {
   "cell_type": "code",
   "execution_count": null,
   "id": "88ed208f-3b07-427e-af62-2e7a45e17201",
   "metadata": {},
   "outputs": [],
   "source": []
  },
  {
   "cell_type": "markdown",
   "id": "f9a06e62-4bfe-4fe1-9363-f024f9f2e56d",
   "metadata": {},
   "source": [
    "Ahor adibuja una cuadricula para lograr tu cometido"
   ]
  },
  {
   "cell_type": "code",
   "execution_count": null,
   "id": "ccc3632e-39fe-4712-a612-982f68f660ab",
   "metadata": {},
   "outputs": [],
   "source": []
  },
  {
   "cell_type": "markdown",
   "id": "24e99395-fa4b-45f4-a988-905300df7a3e",
   "metadata": {},
   "source": [
    "a continuación, vamos a usar un for paraiterar en paralelo a traves de los 24 cuadritos y traer las priemras 24 imagenes"
   ]
  },
  {
   "cell_type": "code",
   "execution_count": null,
   "id": "3e08ccfb-9bf0-4bf8-b6bd-d72f774bd210",
   "metadata": {},
   "outputs": [],
   "source": []
  },
  {
   "cell_type": "markdown",
   "id": "a9998b01-92f4-4706-bf8a-02c5e0b097ae",
   "metadata": {},
   "source": [
    "### 15.2.3.- Separar el dataset para entrenamientos y pruebas"
   ]
  },
  {
   "cell_type": "markdown",
   "id": "d76cd7e5-3c39-403f-9006-a658a540f6bc",
   "metadata": {},
   "source": [
    "ok, ahora vamos a importar train_test_split desde sklearn.model_selection"
   ]
  },
  {
   "cell_type": "code",
   "execution_count": null,
   "id": "56b6b765-d913-4775-b40e-b8ce4a7ba160",
   "metadata": {},
   "outputs": [],
   "source": []
  },
  {
   "cell_type": "markdown",
   "id": "8f574e33-8b2a-4639-bef5-93e086bab654",
   "metadata": {},
   "source": [
    "Y a continuación generar el split entre test y train"
   ]
  },
  {
   "cell_type": "code",
   "execution_count": null,
   "id": "16d269bb-3892-4162-b7bf-9d5ef5037287",
   "metadata": {},
   "outputs": [],
   "source": []
  },
  {
   "cell_type": "markdown",
   "id": "726c76da-0b3c-44ff-9581-55be26e8c17d",
   "metadata": {},
   "source": [
    "Veamos las shapes de nuestros sets para X (muestras)"
   ]
  },
  {
   "cell_type": "code",
   "execution_count": null,
   "id": "f2327c48-7561-4167-aea5-68d58048e772",
   "metadata": {},
   "outputs": [],
   "source": []
  },
  {
   "cell_type": "code",
   "execution_count": null,
   "id": "9606c61e-87f5-46f1-b6f7-3b0f1d0933a5",
   "metadata": {},
   "outputs": [],
   "source": []
  },
  {
   "cell_type": "markdown",
   "id": "22292fd6-2cba-48b0-9265-4c6bda2604c7",
   "metadata": {},
   "source": [
    "### 15.2.4.- Crear el modelo"
   ]
  },
  {
   "cell_type": "markdown",
   "id": "2a3ea503-a440-446c-a169-6184d4b25f97",
   "metadata": {},
   "source": [
    "Ahora importamos el KNeighborsClassifier"
   ]
  },
  {
   "cell_type": "code",
   "execution_count": null,
   "id": "ebd8f27c-9f76-4f94-95cd-41ea688936a7",
   "metadata": {},
   "outputs": [],
   "source": []
  },
  {
   "cell_type": "markdown",
   "id": "c5f8308b-7a1c-41b3-9f45-3dfa96670d8b",
   "metadata": {},
   "source": [
    "y armamos un objeto llamado KNN de este Clasificador"
   ]
  },
  {
   "cell_type": "code",
   "execution_count": null,
   "id": "78b63a3d-5d16-4253-aaf0-a6731d6845dc",
   "metadata": {},
   "outputs": [],
   "source": []
  },
  {
   "cell_type": "markdown",
   "id": "4e70a922-cafc-4b9d-94f6-b87a424ea6e5",
   "metadata": {},
   "source": [
    "### 15.2.5.- Entrenar el modelo"
   ]
  },
  {
   "cell_type": "markdown",
   "id": "8223bce9-8674-42ff-84ec-2c2528b91578",
   "metadata": {},
   "source": [
    "Ahora arma el método fit para cargar los datos en el estimador"
   ]
  },
  {
   "cell_type": "code",
   "execution_count": null,
   "id": "f08b5da6-9f72-4a4d-9eb1-8312ce972b08",
   "metadata": {},
   "outputs": [],
   "source": []
  },
  {
   "cell_type": "markdown",
   "id": "400ff29c-dada-4d4b-9fc2-3b5e4fcaa3e8",
   "metadata": {},
   "source": [
    "### 15.2.6.- Predecir clases de dígitos"
   ]
  },
  {
   "cell_type": "markdown",
   "id": "bffae350-6cf8-4c6c-a106-340b25187af8",
   "metadata": {
    "tags": []
   },
   "source": [
    "Arma un objeto llamdo prediccion"
   ]
  },
  {
   "cell_type": "code",
   "execution_count": null,
   "id": "c4c5fe74-540c-4892-b589-4fea55c498b0",
   "metadata": {},
   "outputs": [],
   "source": []
  },
  {
   "cell_type": "markdown",
   "id": "a3a3b2d6-be45-4dbf-b4ed-02eb63f14a8c",
   "metadata": {},
   "source": [
    "Arma un objeto llamado esperado"
   ]
  },
  {
   "cell_type": "code",
   "execution_count": null,
   "id": "30360ec4-3afe-4e6e-aead-bb97bcbd24bd",
   "metadata": {},
   "outputs": [],
   "source": []
  },
  {
   "cell_type": "markdown",
   "id": "41ad9a4f-b23c-44e2-b45e-962183e714f8",
   "metadata": {},
   "source": [
    "Comparemos predicho vs esperado"
   ]
  },
  {
   "cell_type": "code",
   "execution_count": null,
   "id": "51f23ce5-1c89-4d54-97a3-6d653abb5151",
   "metadata": {},
   "outputs": [],
   "source": []
  },
  {
   "cell_type": "code",
   "execution_count": null,
   "id": "02bcd5e5-c152-4629-9f0a-d184962bb172",
   "metadata": {},
   "outputs": [],
   "source": []
  },
  {
   "cell_type": "markdown",
   "id": "fb53082f-3282-47cb-8492-acdab80ccca5",
   "metadata": {},
   "source": [
    "armamos una comprension de lista para localizar todas las predicciones incorrectas"
   ]
  },
  {
   "cell_type": "code",
   "execution_count": null,
   "id": "53e086e6-efff-4784-bfc9-c32ef56ed8d7",
   "metadata": {},
   "outputs": [],
   "source": []
  },
  {
   "cell_type": "code",
   "execution_count": null,
   "id": "0e6d9065-fefe-4414-9ac0-7d785c79c3d5",
   "metadata": {},
   "outputs": [],
   "source": []
  },
  {
   "cell_type": "markdown",
   "id": "f98e3d53-6ab7-4823-b1d7-285bc5e97247",
   "metadata": {},
   "source": [
    "## 15.3 Clasificación parte 2 - Dataset de digitos"
   ]
  },
  {
   "cell_type": "markdown",
   "id": "27d9c8d6-ee3a-449d-a425-17c63460417e",
   "metadata": {},
   "source": [
    "### 15.3.1.- Metricas para la exactitud del modelo"
   ]
  },
  {
   "cell_type": "markdown",
   "id": "051f649d-419b-4d66-beab-48242813a57b",
   "metadata": {},
   "source": [
    "Usa knn.score para conocer que tan bien se desempeño tu estimador"
   ]
  },
  {
   "cell_type": "code",
   "execution_count": null,
   "id": "1dc43c6c-85b3-4aa5-b6e5-93c2756f7dda",
   "metadata": {},
   "outputs": [],
   "source": []
  },
  {
   "cell_type": "markdown",
   "id": "ec80de30-6ed4-4c5c-b6bd-bb9f5165b77a",
   "metadata": {},
   "source": [
    "Ahora vamos a ahacer una matriz de confusion para ver los hits y misses para una clase dada, llama la funcion matriz de confusión desde sklearn metricsModule"
   ]
  },
  {
   "cell_type": "code",
   "execution_count": null,
   "id": "e15188ec-9e68-4b9a-ae26-7dbc20bfb6ab",
   "metadata": {},
   "outputs": [],
   "source": []
  },
  {
   "cell_type": "markdown",
   "id": "c9b94c9b-1a53-468d-a478-eca6d0677fed",
   "metadata": {},
   "source": [
    "Y ahora armar tu matriz de confusion"
   ]
  },
  {
   "cell_type": "code",
   "execution_count": null,
   "id": "655e13bc-e49e-4006-beb0-bbab290404d4",
   "metadata": {},
   "outputs": [],
   "source": []
  },
  {
   "cell_type": "markdown",
   "id": "5fa7425d-1d5f-4805-bb71-f08b2bbbf389",
   "metadata": {},
   "source": [
    "Checa los resultados"
   ]
  },
  {
   "cell_type": "code",
   "execution_count": null,
   "id": "bccba9c4-c673-4118-9fd7-44467ac47ba2",
   "metadata": {},
   "outputs": [],
   "source": []
  },
  {
   "cell_type": "markdown",
   "id": "5137a837-b1a9-4285-9b34-36a3ccfbbba0",
   "metadata": {},
   "source": [
    "Ahora sigue un reporte de calsificación, importa classification_report desde sklearn.metrics"
   ]
  },
  {
   "cell_type": "code",
   "execution_count": null,
   "id": "3784f7b8-1d99-447b-9396-b3adb4063fac",
   "metadata": {},
   "outputs": [],
   "source": []
  },
  {
   "cell_type": "markdown",
   "id": "e30a4ed2-2a38-4a9b-8d33-6f9fdd3adc64",
   "metadata": {},
   "source": [
    "Y ahora crea una comprension de lista que nos de los nombres de los digitos"
   ]
  },
  {
   "cell_type": "code",
   "execution_count": null,
   "id": "0d6ecedc-46cd-4121-9389-be60fb38f3d7",
   "metadata": {},
   "outputs": [],
   "source": []
  },
  {
   "cell_type": "markdown",
   "id": "582cbe18-e5d7-4acf-a374-d180c64768c7",
   "metadata": {},
   "source": [
    "Y termina haciendo tu reporte de clasificacion"
   ]
  },
  {
   "cell_type": "code",
   "execution_count": null,
   "id": "e15fe30a-1f23-4bf6-91c9-a51f7b8799e0",
   "metadata": {},
   "outputs": [],
   "source": []
  },
  {
   "cell_type": "code",
   "execution_count": null,
   "id": "161df8a0-ffdc-4299-b735-48646338d8ea",
   "metadata": {},
   "outputs": [],
   "source": []
  },
  {
   "cell_type": "markdown",
   "id": "34eceb5d-1f9b-4722-98cf-32348fd30e9e",
   "metadata": {},
   "source": [
    "Y ahora ahremos un heatmap con la matriz de confusion"
   ]
  },
  {
   "cell_type": "code",
   "execution_count": null,
   "id": "c358c447-69f2-45ae-956e-c16e8c89648b",
   "metadata": {},
   "outputs": [],
   "source": []
  },
  {
   "cell_type": "code",
   "execution_count": null,
   "id": "77471bd7-2c5e-45c1-9efe-ce921556912d",
   "metadata": {},
   "outputs": [],
   "source": []
  },
  {
   "cell_type": "code",
   "execution_count": null,
   "id": "43017c80-71ae-45f9-8336-df8b55cfa315",
   "metadata": {},
   "outputs": [],
   "source": []
  },
  {
   "cell_type": "code",
   "execution_count": null,
   "id": "1d605c32-20c1-47b8-b401-cfe7d4d19471",
   "metadata": {},
   "outputs": [],
   "source": []
  },
  {
   "cell_type": "markdown",
   "id": "4bb2a9a2-2605-4ae3-b6e3-ee6fb77828e1",
   "metadata": {},
   "source": [
    "### 15.3.2.- K-Fold Validación Cruzada"
   ]
  },
  {
   "cell_type": "markdown",
   "id": "15435524-6cfb-4dfa-a575-cc3198db0cb3",
   "metadata": {},
   "source": [
    "Importa kfold desde sklearn.modelselection"
   ]
  },
  {
   "cell_type": "code",
   "execution_count": null,
   "id": "f273eafd-7f2e-4aca-873d-aa1e5e404fc3",
   "metadata": {},
   "outputs": [],
   "source": []
  },
  {
   "cell_type": "markdown",
   "id": "da3d75e9-6ce7-491f-a080-70971bd543a0",
   "metadata": {},
   "source": [
    "Crea tu primer objeto kfold"
   ]
  },
  {
   "cell_type": "code",
   "execution_count": null,
   "id": "d71e3048-7000-4ffe-a58c-484b2f45071e",
   "metadata": {},
   "outputs": [],
   "source": []
  },
  {
   "cell_type": "markdown",
   "id": "1bfd7fd5-5858-46aa-83d2-91eefb64ebf2",
   "metadata": {},
   "source": [
    "Ahora importa cross_val_score"
   ]
  },
  {
   "cell_type": "code",
   "execution_count": null,
   "id": "234f9bf6-af76-484b-8b85-6c07201a8ac4",
   "metadata": {},
   "outputs": [],
   "source": []
  },
  {
   "cell_type": "markdown",
   "id": "47a4c6ad-b28c-4498-abe3-de6c30868b83",
   "metadata": {},
   "source": [
    "Y crea un objeto llamado puntuacion para probar tu modelo"
   ]
  },
  {
   "cell_type": "code",
   "execution_count": null,
   "id": "7e2b2c1d-a795-44f0-96a6-9b8b5aed4688",
   "metadata": {},
   "outputs": [],
   "source": []
  },
  {
   "cell_type": "markdown",
   "id": "1c9934ac-9e3d-4072-99ab-374eefb3060d",
   "metadata": {},
   "source": [
    "Checa los resultados"
   ]
  },
  {
   "cell_type": "code",
   "execution_count": null,
   "id": "88cbca36-c63f-4db7-8f7b-ab3e5d9433f9",
   "metadata": {},
   "outputs": [],
   "source": []
  },
  {
   "cell_type": "code",
   "execution_count": null,
   "id": "f742bacc-4463-4dab-8272-7cd3b21fc2c9",
   "metadata": {},
   "outputs": [],
   "source": []
  },
  {
   "cell_type": "code",
   "execution_count": null,
   "id": "8ec1488c-352e-4a83-b18f-a74e972075e1",
   "metadata": {},
   "outputs": [],
   "source": []
  },
  {
   "cell_type": "code",
   "execution_count": null,
   "id": "73944e40-dec2-41e7-a466-1a2d57d480c6",
   "metadata": {},
   "outputs": [],
   "source": []
  },
  {
   "cell_type": "markdown",
   "id": "43ea7612-ba94-4d9f-bf08-c8a45de25deb",
   "metadata": {},
   "source": [
    "### 15.3.3.- Varios Modelos hasta dar con el bueno"
   ]
  },
  {
   "cell_type": "markdown",
   "id": "ea4fa4d8-8d8b-48a1-a946-1b4fbef27b98",
   "metadata": {},
   "source": [
    "Importa SVC y GaussianNB"
   ]
  },
  {
   "cell_type": "code",
   "execution_count": null,
   "id": "357084db-9852-4f6d-8681-5b02451222fb",
   "metadata": {},
   "outputs": [],
   "source": []
  },
  {
   "cell_type": "markdown",
   "id": "aaffb0e9-cf25-4617-8ed9-2dd261cea9e1",
   "metadata": {},
   "source": [
    "Crea los estimadores en un diccionario"
   ]
  },
  {
   "cell_type": "code",
   "execution_count": null,
   "id": "0e43bb3b-874a-4a69-9efc-d2fbb42d8866",
   "metadata": {},
   "outputs": [],
   "source": []
  },
  {
   "cell_type": "markdown",
   "id": "d49140b0-dc76-44ab-9273-96bbaa4b151d",
   "metadata": {},
   "source": [
    "Ejecuta los modelos con un for"
   ]
  },
  {
   "cell_type": "code",
   "execution_count": null,
   "id": "90d44906-3718-46e6-94ae-c16e66cd2ca1",
   "metadata": {},
   "outputs": [],
   "source": []
  },
  {
   "cell_type": "markdown",
   "id": "31b8144f-a636-4f34-9a6f-c54817292860",
   "metadata": {},
   "source": [
    "### 15.3.3.- Ajustar Hiperparametros"
   ]
  },
  {
   "cell_type": "markdown",
   "id": "4bf5a569-8f8f-494a-93c6-714e43d4b01c",
   "metadata": {},
   "source": [
    "Ajusta el hiperparametro para ver si alguno nos da mejor exactitud"
   ]
  },
  {
   "cell_type": "code",
   "execution_count": null,
   "id": "4381e1cb-a0c4-4e7b-916e-50157e2c5c62",
   "metadata": {},
   "outputs": [],
   "source": []
  },
  {
   "cell_type": "markdown",
   "id": "3c758299-fd28-49f5-9e10-4d82c6e498cb",
   "metadata": {},
   "source": [
    "## 15.4 Series de tiempo y simple regresión lineal"
   ]
  },
  {
   "cell_type": "markdown",
   "id": "8df07666-2a3c-49cb-a8fa-3a737310b56c",
   "metadata": {},
   "source": [
    "Importa pandas si no lo has hecho, carga los datos de casas"
   ]
  },
  {
   "cell_type": "code",
   "execution_count": null,
   "id": "914c4bb9-7c18-47fc-8c38-d876280d978c",
   "metadata": {},
   "outputs": [],
   "source": []
  },
  {
   "cell_type": "code",
   "execution_count": null,
   "id": "4b8c5faa-bdd4-4626-8f78-306fd839da6a",
   "metadata": {},
   "outputs": [],
   "source": []
  },
  {
   "cell_type": "markdown",
   "id": "ba89f971-06af-4729-8fca-a466e0a7f6f6",
   "metadata": {},
   "source": [
    "Dale nombre a las columnas del dataframe"
   ]
  },
  {
   "cell_type": "code",
   "execution_count": null,
   "id": "7bad34c4-c720-47d0-94ab-731001e7ed36",
   "metadata": {},
   "outputs": [],
   "source": []
  },
  {
   "cell_type": "markdown",
   "id": "4c467e19-1621-4250-a8f8-6e48d8602de6",
   "metadata": {},
   "source": [
    "Muestra los primeros 20 datos"
   ]
  },
  {
   "cell_type": "code",
   "execution_count": null,
   "id": "8a503100-fb7a-4d64-9498-232393121cb9",
   "metadata": {},
   "outputs": [],
   "source": []
  },
  {
   "cell_type": "markdown",
   "id": "f0abf30e-af3c-4f5d-850c-0c880e7eeb72",
   "metadata": {},
   "source": [
    "usemos train test split para training y pruebas"
   ]
  },
  {
   "cell_type": "code",
   "execution_count": null,
   "id": "db3e2b89-ae1d-4056-b89f-d3618e0fe687",
   "metadata": {},
   "outputs": [],
   "source": []
  },
  {
   "cell_type": "code",
   "execution_count": null,
   "id": "93d30fe9-bebd-46a6-8e25-9e378595edb9",
   "metadata": {},
   "outputs": [],
   "source": []
  },
  {
   "cell_type": "markdown",
   "id": "983dc80f-88c7-45f0-8ef5-e25f3406184e",
   "metadata": {},
   "source": [
    "Chequemos los tamaños de train y test"
   ]
  },
  {
   "cell_type": "code",
   "execution_count": null,
   "id": "657be462-00d3-46e9-babf-5010ad2b939c",
   "metadata": {},
   "outputs": [],
   "source": []
  },
  {
   "cell_type": "code",
   "execution_count": null,
   "id": "c24ef13e-c920-4e24-82b9-0397e307f35f",
   "metadata": {},
   "outputs": [],
   "source": []
  },
  {
   "cell_type": "markdown",
   "id": "5ab0d14b-9230-45fa-b5ba-4dae30497ae5",
   "metadata": {},
   "source": [
    "importa LinearRegression de sklearn"
   ]
  },
  {
   "cell_type": "code",
   "execution_count": null,
   "id": "65268b54-2d3c-4dd9-ba00-4e1c2ca3bbd7",
   "metadata": {},
   "outputs": [],
   "source": []
  },
  {
   "cell_type": "markdown",
   "id": "8daa17f6-7986-4a0b-9c05-ac2090f71a35",
   "metadata": {},
   "source": [
    "Arma el estimador y haz el fit"
   ]
  },
  {
   "cell_type": "code",
   "execution_count": null,
   "id": "e576385d-096d-4dcb-b6ff-899a2efac773",
   "metadata": {},
   "outputs": [],
   "source": []
  },
  {
   "cell_type": "code",
   "execution_count": null,
   "id": "a9c2a0a6-81b9-4bc8-b34d-4efba3fda9bf",
   "metadata": {},
   "outputs": [],
   "source": []
  },
  {
   "cell_type": "markdown",
   "id": "f157b949-1d76-4ebd-921f-8cf5bcb54593",
   "metadata": {},
   "source": [
    "Obten el Coef y el INtercept"
   ]
  },
  {
   "cell_type": "code",
   "execution_count": null,
   "id": "2a6b2af6-f2f4-4f91-ad1b-f04d016e3027",
   "metadata": {},
   "outputs": [],
   "source": []
  },
  {
   "cell_type": "code",
   "execution_count": null,
   "id": "fb03b726-cd0a-407f-ba4a-10e6370eb635",
   "metadata": {},
   "outputs": [],
   "source": []
  },
  {
   "cell_type": "markdown",
   "id": "c6cc9ed2-8caf-49e3-b5dd-8803a5c48c05",
   "metadata": {},
   "source": [
    "Probemos el modelo, crea los objetos prediccion y esperado"
   ]
  },
  {
   "cell_type": "code",
   "execution_count": null,
   "id": "fb226239-2ae0-4f10-b85c-a72456eec02c",
   "metadata": {},
   "outputs": [],
   "source": []
  },
  {
   "cell_type": "code",
   "execution_count": null,
   "id": "829d29ff-abf1-41ae-ba3e-3ded4878a53c",
   "metadata": {},
   "outputs": [],
   "source": []
  },
  {
   "cell_type": "markdown",
   "id": "302f10b9-2a5f-48fd-b819-7391c42166ab",
   "metadata": {},
   "source": [
    "Arma un ciclo que muestre p vs e para los datos de 5 en 5"
   ]
  },
  {
   "cell_type": "code",
   "execution_count": null,
   "id": "bf1f9e37-f05a-493f-97c8-70e825b5417a",
   "metadata": {},
   "outputs": [],
   "source": []
  },
  {
   "cell_type": "markdown",
   "id": "077afad3-b6fe-4b61-b44e-18e2d4daee76",
   "metadata": {},
   "source": [
    "Vamos a predecir precios de casas usando area en sqft"
   ]
  },
  {
   "cell_type": "code",
   "execution_count": null,
   "id": "73ba783d-185a-4647-88c7-f2aca0865870",
   "metadata": {},
   "outputs": [],
   "source": []
  },
  {
   "cell_type": "code",
   "execution_count": null,
   "id": "0fdb0447-ad93-4a20-b64e-9069e9da64d4",
   "metadata": {},
   "outputs": [],
   "source": []
  },
  {
   "cell_type": "code",
   "execution_count": null,
   "id": "b32961a7-d0fd-4289-939a-44ef2d9a0085",
   "metadata": {},
   "outputs": [],
   "source": []
  },
  {
   "cell_type": "markdown",
   "id": "869618c9-aaaf-4f3d-b28d-a5f2e34756ae",
   "metadata": {},
   "source": [
    "Y ahora visaulizemos la regresion lineal con seaborn"
   ]
  },
  {
   "cell_type": "code",
   "execution_count": null,
   "id": "c3f4f14e-6b6e-49f9-9ada-23085759bdf7",
   "metadata": {},
   "outputs": [],
   "source": []
  },
  {
   "cell_type": "markdown",
   "id": "4dde219d-ff4c-41de-ae9f-35fc5fa105a0",
   "metadata": {},
   "source": [
    "## 15.5 Regresion lineal multiple con los datos de California"
   ]
  },
  {
   "cell_type": "markdown",
   "id": "9b04af43-c0fa-462a-8985-19cb4fc96031",
   "metadata": {},
   "source": [
    "### 15.5.1 Cargar el dataset"
   ]
  },
  {
   "cell_type": "code",
   "execution_count": null,
   "id": "538e7e0f-8ba4-4a06-be71-46a9b03529cf",
   "metadata": {},
   "outputs": [],
   "source": []
  },
  {
   "cell_type": "code",
   "execution_count": null,
   "id": "4f8ef19d-cf22-4956-b48a-d883e54e90c5",
   "metadata": {},
   "outputs": [],
   "source": []
  },
  {
   "cell_type": "code",
   "execution_count": null,
   "id": "84e65eda-185f-4c66-8ee4-ac3d319cdeb0",
   "metadata": {},
   "outputs": [],
   "source": []
  },
  {
   "cell_type": "code",
   "execution_count": null,
   "id": "8b655bf9-0f4a-4233-bf53-2259e21b2fc8",
   "metadata": {},
   "outputs": [],
   "source": []
  },
  {
   "cell_type": "code",
   "execution_count": null,
   "id": "d71ec3ce-5905-42fa-8533-009861aced89",
   "metadata": {},
   "outputs": [],
   "source": []
  },
  {
   "cell_type": "code",
   "execution_count": null,
   "id": "4eaf6fe3-cc01-4ae5-99a3-f1b8d0d12c6d",
   "metadata": {},
   "outputs": [],
   "source": []
  },
  {
   "cell_type": "markdown",
   "id": "79b0c9c2-1d26-47a4-b008-3664a0711952",
   "metadata": {},
   "source": [
    "### 15.5.2 Explorar los datos"
   ]
  },
  {
   "cell_type": "markdown",
   "id": "f175c2a9-e29a-435b-9238-5019ffff1588",
   "metadata": {},
   "source": [
    "Importa Pandas si no lo has hecho, altera las precisiones a 4, max columns a 9 y display width a none"
   ]
  },
  {
   "cell_type": "code",
   "execution_count": null,
   "id": "d1f74397-c07f-48dc-96c7-3459b95be7eb",
   "metadata": {},
   "outputs": [],
   "source": []
  },
  {
   "cell_type": "code",
   "execution_count": null,
   "id": "d204d755-773b-4a0a-a554-de28c8f52b27",
   "metadata": {},
   "outputs": [],
   "source": []
  },
  {
   "cell_type": "code",
   "execution_count": null,
   "id": "b83c7be0-87d9-4e07-a0a4-5812ad96ba42",
   "metadata": {},
   "outputs": [],
   "source": []
  },
  {
   "cell_type": "code",
   "execution_count": null,
   "id": "f32a99a3-4869-4151-bf6c-ce6920a50fa1",
   "metadata": {},
   "outputs": [],
   "source": []
  },
  {
   "cell_type": "code",
   "execution_count": null,
   "id": "23275680-b33a-4b6f-ba3e-d214a8fdd142",
   "metadata": {},
   "outputs": [],
   "source": []
  },
  {
   "cell_type": "markdown",
   "id": "81296b86-2000-41fd-bfe6-148e14cceb53",
   "metadata": {},
   "source": [
    "Carga los datos de california en un dataframe"
   ]
  },
  {
   "cell_type": "code",
   "execution_count": null,
   "id": "6858b48c-82a8-491d-b152-07e530eb2847",
   "metadata": {},
   "outputs": [],
   "source": []
  },
  {
   "cell_type": "markdown",
   "id": "15ecb890-42bc-4091-a40f-5c84e8cd5635",
   "metadata": {},
   "source": [
    "Agrega el target de california al mismo dataframe como una columna (Serie) adicional"
   ]
  },
  {
   "cell_type": "code",
   "execution_count": null,
   "id": "42394b47-557e-4472-8965-9035764d457c",
   "metadata": {},
   "outputs": [],
   "source": []
  },
  {
   "cell_type": "markdown",
   "id": "98f692ad-3862-41f4-b058-61d9c4dbc3f8",
   "metadata": {},
   "source": [
    "Checa el head de california"
   ]
  },
  {
   "cell_type": "code",
   "execution_count": null,
   "id": "7c17fcc8-883a-4134-90e5-6b9c37e7bac7",
   "metadata": {},
   "outputs": [],
   "source": []
  },
  {
   "cell_type": "markdown",
   "id": "64ef48c7-305f-4acd-b515-2f871fca32e0",
   "metadata": {},
   "source": [
    "Hagamos un describe para ver que onda"
   ]
  },
  {
   "cell_type": "code",
   "execution_count": null,
   "id": "3f680b52-5775-4f75-b612-08190cae0684",
   "metadata": {},
   "outputs": [],
   "source": []
  },
  {
   "cell_type": "markdown",
   "id": "4e7ca26c-0609-42b8-8b42-0700e481590a",
   "metadata": {},
   "source": [
    "### 15.5.3 Visualizar los datos"
   ]
  },
  {
   "cell_type": "markdown",
   "id": "e5ac7227-8931-4a77-8504-31c921bb9c0e",
   "metadata": {},
   "source": [
    "Vamos a armar un muestreo del 10% del dataset para ver mas facil las visualizaciones"
   ]
  },
  {
   "cell_type": "code",
   "execution_count": null,
   "id": "c0f812b9-a8a2-4894-9752-e2de760eaaf4",
   "metadata": {},
   "outputs": [],
   "source": []
  },
  {
   "cell_type": "markdown",
   "id": "c04fc5ea-495e-4593-8a45-791ae2370a06",
   "metadata": {},
   "source": [
    "Importa Matplotlib"
   ]
  },
  {
   "cell_type": "code",
   "execution_count": null,
   "id": "4559668b-1db3-467b-bac7-8adbda579d02",
   "metadata": {},
   "outputs": [],
   "source": []
  },
  {
   "cell_type": "markdown",
   "id": "376656d0-2d40-4fa6-8201-398682472717",
   "metadata": {},
   "source": [
    "IMporta Seaborn"
   ]
  },
  {
   "cell_type": "code",
   "execution_count": null,
   "id": "473b6a75-f326-4db5-a254-a8dac1ffb420",
   "metadata": {},
   "outputs": [],
   "source": []
  },
  {
   "cell_type": "markdown",
   "id": "99197116-6ad3-4055-a74c-c8cf04baed0a",
   "metadata": {},
   "source": [
    "Cambia la fuente de seaborn"
   ]
  },
  {
   "cell_type": "code",
   "execution_count": null,
   "id": "5ccc9813-85b8-45aa-9e1d-e537945a0bbb",
   "metadata": {},
   "outputs": [],
   "source": []
  },
  {
   "cell_type": "markdown",
   "id": "ba42a25b-9b4c-4595-bae3-f5b8028b6fa2",
   "metadata": {},
   "source": [
    "Ponlo tipo Whitegrid"
   ]
  },
  {
   "cell_type": "code",
   "execution_count": null,
   "id": "4d9edfd0-73ed-4a39-9016-53f71feadd3d",
   "metadata": {},
   "outputs": [],
   "source": []
  },
  {
   "cell_type": "markdown",
   "id": "3a16be37-7a3a-44cd-977f-ae5690a8e9d9",
   "metadata": {},
   "source": [
    "Arma graficas de precio vs cada feature"
   ]
  },
  {
   "cell_type": "code",
   "execution_count": null,
   "id": "edcb2938-e97f-4110-8b19-ce962771072d",
   "metadata": {},
   "outputs": [],
   "source": []
  },
  {
   "cell_type": "markdown",
   "id": "90b409cb-2d57-4a0a-a1f0-a2977b80f3c0",
   "metadata": {},
   "source": [
    "### 15.5.4 Separar los datos para training y pruebas"
   ]
  },
  {
   "cell_type": "markdown",
   "id": "c3153812-ee95-4c5a-add5-e662840600c2",
   "metadata": {},
   "source": [
    "Importa de sklearn.model_selection el train_test_split"
   ]
  },
  {
   "cell_type": "code",
   "execution_count": null,
   "id": "7281da09-5bb8-4f3f-8464-30f07833d7e3",
   "metadata": {},
   "outputs": [],
   "source": []
  },
  {
   "cell_type": "markdown",
   "id": "d8309b22-5da9-4bfd-99c7-41dd6f8e830a",
   "metadata": {},
   "source": [
    "Arma tu train test split"
   ]
  },
  {
   "cell_type": "code",
   "execution_count": null,
   "id": "817ef0ad-9a80-4ac0-82c9-076eac520e1c",
   "metadata": {},
   "outputs": [],
   "source": []
  },
  {
   "cell_type": "markdown",
   "id": "5f994405-4e6f-4d2d-8b58-25fd2c47b9f0",
   "metadata": {},
   "source": [
    "Checa las figura de train"
   ]
  },
  {
   "cell_type": "code",
   "execution_count": null,
   "id": "2315d24b-25a0-4d53-bb36-22cea5bd15d2",
   "metadata": {},
   "outputs": [],
   "source": []
  },
  {
   "cell_type": "markdown",
   "id": "f0c712da-4160-4592-96b1-a97827f036a0",
   "metadata": {},
   "source": [
    "Checa la figura de test"
   ]
  },
  {
   "cell_type": "code",
   "execution_count": null,
   "id": "3271aa7c-e8ab-449c-8969-5807502ff6d4",
   "metadata": {},
   "outputs": [],
   "source": []
  },
  {
   "cell_type": "markdown",
   "id": "186b51f4-15dd-4e15-b4c1-8df05cb9ff26",
   "metadata": {},
   "source": [
    "### 15.5.5 Entrenar el modelo"
   ]
  },
  {
   "cell_type": "markdown",
   "id": "bc58f7a5-747c-4b42-bf61-ad7d472eb2d0",
   "metadata": {},
   "source": [
    "Importa LinearRegression desde sklearn.linear_model"
   ]
  },
  {
   "cell_type": "code",
   "execution_count": null,
   "id": "e28692be-4e1a-4c87-8127-acb65e038c3e",
   "metadata": {},
   "outputs": [],
   "source": []
  },
  {
   "cell_type": "markdown",
   "id": "d4d7ae66-7ff7-454e-a3dd-aa409f20316d",
   "metadata": {},
   "source": [
    "arma tu objeto reglin"
   ]
  },
  {
   "cell_type": "code",
   "execution_count": null,
   "id": "c78bcbfa-8315-4563-a926-e89ae5161fcd",
   "metadata": {},
   "outputs": [],
   "source": []
  },
  {
   "cell_type": "markdown",
   "id": "7605cea5-cbe2-452b-a1ca-777607bd0d08",
   "metadata": {},
   "source": [
    "Haz el fit"
   ]
  },
  {
   "cell_type": "code",
   "execution_count": null,
   "id": "cf0aad43-3602-4674-b92a-42c2704a568f",
   "metadata": {},
   "outputs": [],
   "source": []
  },
  {
   "cell_type": "markdown",
   "id": "31425f8d-1dd2-4b67-bc36-6a89da22589c",
   "metadata": {},
   "source": [
    "Arma tu for para enumerar todos los coeficientes"
   ]
  },
  {
   "cell_type": "code",
   "execution_count": null,
   "id": "082b1330-36f5-4174-9789-9400d6d76b05",
   "metadata": {},
   "outputs": [],
   "source": []
  },
  {
   "cell_type": "markdown",
   "id": "1959fffb-ef53-46d2-9b68-bcd1dad53dbb",
   "metadata": {},
   "source": [
    "Obten el intercept"
   ]
  },
  {
   "cell_type": "code",
   "execution_count": null,
   "id": "f7d86ec8-7286-4808-aa64-ec10652b27d0",
   "metadata": {},
   "outputs": [],
   "source": []
  },
  {
   "cell_type": "markdown",
   "id": "bdf4b49e-02d5-47e1-ba47-fe89c5a0fc54",
   "metadata": {},
   "source": [
    "### 15.5.6  Probar el modelo"
   ]
  },
  {
   "cell_type": "markdown",
   "id": "ec5e7633-27c6-4582-a760-db5dc9621d3f",
   "metadata": {},
   "source": [
    "Arma tu prediccion"
   ]
  },
  {
   "cell_type": "code",
   "execution_count": null,
   "id": "651fea23-aabe-4389-a87e-3c90fb06e1b8",
   "metadata": {},
   "outputs": [],
   "source": []
  },
  {
   "cell_type": "markdown",
   "id": "cef66b11-6cfb-44bc-9582-42179d93168c",
   "metadata": {},
   "source": [
    "Arma tu lista de valores esperados"
   ]
  },
  {
   "cell_type": "code",
   "execution_count": null,
   "id": "bcc8d4b2-086e-4011-b652-016ed943926c",
   "metadata": {},
   "outputs": [],
   "source": []
  },
  {
   "cell_type": "markdown",
   "id": "ac6b0916-78c0-4200-b550-b6348ffaeacf",
   "metadata": {},
   "source": [
    "vamos a ver las primeras 5 predicciones"
   ]
  },
  {
   "cell_type": "code",
   "execution_count": null,
   "id": "d90066f0-0f86-4f47-bdbc-ed3648b10c86",
   "metadata": {},
   "outputs": [],
   "source": []
  },
  {
   "cell_type": "markdown",
   "id": "9860e346-e634-4e93-a606-e6e4bc99619e",
   "metadata": {},
   "source": [
    "vs los primeros 5 valores esperados"
   ]
  },
  {
   "cell_type": "code",
   "execution_count": null,
   "id": "ed571b94-fc43-46ba-8fd7-877e2971375d",
   "metadata": {},
   "outputs": [],
   "source": []
  },
  {
   "cell_type": "markdown",
   "id": "794b49d8-bb37-46c7-80a9-22decf584806",
   "metadata": {},
   "source": [
    "### 15.5.7  Visualizar los precios esperados vs predecidos"
   ]
  },
  {
   "cell_type": "markdown",
   "id": "f02d2071-7c4a-46a2-8891-8a3f88a79389",
   "metadata": {},
   "source": [
    "Arma un Dataframe vacio"
   ]
  },
  {
   "cell_type": "code",
   "execution_count": null,
   "id": "62e0f786-ad46-435a-ad19-2224205a26e9",
   "metadata": {},
   "outputs": [],
   "source": []
  },
  {
   "cell_type": "markdown",
   "id": "b3f07edb-ac1a-4316-af02-72792ba12889",
   "metadata": {},
   "source": [
    "Agregale una columna con los precios esperados"
   ]
  },
  {
   "cell_type": "code",
   "execution_count": null,
   "id": "9ebcafeb-68af-4d29-8c4e-259b82c4fd4f",
   "metadata": {},
   "outputs": [],
   "source": []
  },
  {
   "cell_type": "markdown",
   "id": "e97e2e3d-ae63-4363-aa11-4320e9d8f336",
   "metadata": {},
   "source": [
    "Otra con los precios predichos"
   ]
  },
  {
   "cell_type": "code",
   "execution_count": null,
   "id": "888f04d2-0a13-4b2a-9bd7-1e95d951da5d",
   "metadata": {},
   "outputs": [],
   "source": []
  },
  {
   "cell_type": "markdown",
   "id": "6d7dea42-98a6-43f7-8d1e-becf7715d4d3",
   "metadata": {},
   "source": [
    "Arma una figura de plt"
   ]
  },
  {
   "cell_type": "markdown",
   "id": "30b842f9-d4cb-474d-9de6-ba0a586eb984",
   "metadata": {},
   "source": [
    "Metele un scatterplot de seaborn"
   ]
  },
  {
   "cell_type": "code",
   "execution_count": null,
   "id": "116f64f6-9992-474d-a0b1-a8bdf74ae916",
   "metadata": {},
   "outputs": [],
   "source": []
  },
  {
   "cell_type": "markdown",
   "id": "a2ab29f5-3c68-40f5-a77c-26cd6219e569",
   "metadata": {},
   "source": [
    "### 15.5.8  Métricas del modelo de regresión"
   ]
  },
  {
   "cell_type": "markdown",
   "id": "5eb0636d-9c0e-428f-9ba5-dfc670331f1c",
   "metadata": {},
   "source": [
    "Importa metrics de sklearn"
   ]
  },
  {
   "cell_type": "code",
   "execution_count": null,
   "id": "873666a2-2ef3-4db0-8ff2-04511b111f81",
   "metadata": {},
   "outputs": [],
   "source": []
  },
  {
   "cell_type": "markdown",
   "id": "b189d89f-da41-45f1-8a6e-3c2409fd6586",
   "metadata": {},
   "source": [
    "Saca el r2"
   ]
  },
  {
   "cell_type": "code",
   "execution_count": null,
   "id": "7f0344f0-3612-4f5b-ae7a-6248dfd06d21",
   "metadata": {},
   "outputs": [],
   "source": []
  },
  {
   "cell_type": "markdown",
   "id": "97b7bdae-8b49-4205-b348-d7a098989e55",
   "metadata": {},
   "source": [
    "Saca el Mean Squared Error (Promedio de Errores Cuadrados)"
   ]
  },
  {
   "cell_type": "code",
   "execution_count": null,
   "id": "03a96ee6-1135-42e4-8061-5aced0e694b7",
   "metadata": {},
   "outputs": [],
   "source": []
  },
  {
   "cell_type": "markdown",
   "id": "c8839fd5-83de-4d34-bbdf-4d34c3e8f7e6",
   "metadata": {},
   "source": [
    "### 15.5.9  Escoger el mejor modelo"
   ]
  },
  {
   "cell_type": "code",
   "execution_count": null,
   "id": "ed6777b9-3d25-4768-ba38-52d37a4a2078",
   "metadata": {},
   "outputs": [],
   "source": []
  },
  {
   "cell_type": "code",
   "execution_count": null,
   "id": "aa4ffe7a-7559-412e-8701-c8b62529ac69",
   "metadata": {},
   "outputs": [],
   "source": []
  },
  {
   "cell_type": "code",
   "execution_count": null,
   "id": "c55b4d4e-b1d4-4a56-ac89-146410cde434",
   "metadata": {},
   "outputs": [],
   "source": []
  },
  {
   "cell_type": "code",
   "execution_count": null,
   "id": "c19773b1-ce8d-43ca-a3c8-8a06af7adcb9",
   "metadata": {},
   "outputs": [],
   "source": []
  },
  {
   "cell_type": "markdown",
   "id": "3eb4eeb8-e7be-4462-9670-2485ff516715",
   "metadata": {},
   "source": [
    "## 15.6 Aprendizaje no supervisado parte 1"
   ]
  },
  {
   "cell_type": "markdown",
   "id": "c24648f3-f098-44da-93d1-ac541112d0fb",
   "metadata": {},
   "source": [
    "Importa load_digits (de nuevo) desde sklearn.datasets"
   ]
  },
  {
   "cell_type": "code",
   "execution_count": null,
   "id": "1de0e5ca-f8b7-4f88-a83d-1da9d7b057bc",
   "metadata": {},
   "outputs": [],
   "source": []
  },
  {
   "cell_type": "markdown",
   "id": "eb708cd1-7e10-4025-ad88-56ba3a21e0b6",
   "metadata": {},
   "source": [
    "arma tu objeto load_digits"
   ]
  },
  {
   "cell_type": "code",
   "execution_count": null,
   "id": "f8dc658a-07ef-4a52-a4ea-14a3bb8540fe",
   "metadata": {},
   "outputs": [],
   "source": []
  },
  {
   "cell_type": "markdown",
   "id": "1e8c9865-2a2d-4358-9845-24374320f74f",
   "metadata": {},
   "source": [
    "Importa TSNE desde sklearn.manifold"
   ]
  },
  {
   "cell_type": "code",
   "execution_count": null,
   "id": "e2ab7cb9-4ed8-4e40-bd33-1193cc236fe8",
   "metadata": {},
   "outputs": [],
   "source": []
  },
  {
   "cell_type": "markdown",
   "id": "a75c00b2-33e6-40c4-aee2-37c66bb2c392",
   "metadata": {},
   "source": [
    "arma tu objeto tsne"
   ]
  },
  {
   "cell_type": "code",
   "execution_count": null,
   "id": "4a209829-f5f3-4726-b5dc-4d1ac8ae45ef",
   "metadata": {},
   "outputs": [],
   "source": []
  },
  {
   "cell_type": "markdown",
   "id": "7e3295cd-a62f-4b40-b490-41f6026fbec3",
   "metadata": {},
   "source": [
    "Transforma tus datos al numero especifico de dimensiones y entrena al estimador"
   ]
  },
  {
   "cell_type": "code",
   "execution_count": null,
   "id": "ecf0c1b6-2b1e-4961-865d-a24a577965d9",
   "metadata": {},
   "outputs": [],
   "source": []
  },
  {
   "cell_type": "markdown",
   "id": "08e6477e-a87a-4a01-9b60-11fe3bc4ad7d",
   "metadata": {},
   "source": [
    "Checa la forma de tus datos"
   ]
  },
  {
   "cell_type": "code",
   "execution_count": null,
   "id": "2542010d-9cbd-41f4-a9cf-bbdf0f4606e3",
   "metadata": {},
   "outputs": [],
   "source": []
  },
  {
   "cell_type": "markdown",
   "id": "960173e7-cbb6-4056-af1f-fb10f18fa7d9",
   "metadata": {},
   "source": [
    "Vamos a mostrar los datos uasndo el scatter de matplotlib, importa matplotlib"
   ]
  },
  {
   "cell_type": "code",
   "execution_count": null,
   "id": "9ec5c039-b439-48dc-949b-1db6a784880c",
   "metadata": {},
   "outputs": [],
   "source": []
  },
  {
   "cell_type": "code",
   "execution_count": null,
   "id": "2335c158-ef3f-4d4f-8422-d472ee6cfcce",
   "metadata": {},
   "outputs": [],
   "source": []
  },
  {
   "cell_type": "markdown",
   "id": "e3de5de0-2621-44af-b581-5a7e20a83be4",
   "metadata": {},
   "source": [
    "Y el sacatter"
   ]
  },
  {
   "cell_type": "markdown",
   "id": "537818f4-2cfa-409a-84e2-ef23dbd3a67c",
   "metadata": {},
   "source": [
    "Ahora haz el scatter con colores diferentes"
   ]
  },
  {
   "cell_type": "code",
   "execution_count": null,
   "id": "ded23671-eeb1-49f7-8099-202246acd993",
   "metadata": {},
   "outputs": [],
   "source": []
  },
  {
   "cell_type": "markdown",
   "id": "03208001-9245-4743-ac44-8b99bf50833d",
   "metadata": {},
   "source": [
    "## 15.7 Aprendizaje no supervisado parte 2"
   ]
  },
  {
   "cell_type": "markdown",
   "id": "286e4534-0c49-4fde-99b6-ba4410e21918",
   "metadata": {},
   "source": [
    "### 15.7.1  Cargar el Dataset de Iris"
   ]
  },
  {
   "cell_type": "markdown",
   "id": "fdde2352-e59b-4236-ba05-6040b14dcc1a",
   "metadata": {},
   "source": [
    "Carga load_iris de sklearn.datasets"
   ]
  },
  {
   "cell_type": "code",
   "execution_count": null,
   "id": "be9e4c80-e085-4739-8aea-906367e53190",
   "metadata": {},
   "outputs": [],
   "source": []
  },
  {
   "cell_type": "markdown",
   "id": "a96c97cb-3f0b-4add-800d-9b970d93a5d3",
   "metadata": {},
   "source": [
    "Arma un objeto iris de load_iris"
   ]
  },
  {
   "cell_type": "code",
   "execution_count": null,
   "id": "d2612fd1-693f-43b2-9e25-c2762ba78f3f",
   "metadata": {},
   "outputs": [],
   "source": []
  },
  {
   "cell_type": "markdown",
   "id": "7cf87894-304a-462f-ae57-7bda1dc55922",
   "metadata": {},
   "source": [
    "Veamos la descripción del dataset"
   ]
  },
  {
   "cell_type": "code",
   "execution_count": null,
   "id": "f6292d84-ffd7-4cd1-ba29-cec769058c20",
   "metadata": {},
   "outputs": [],
   "source": []
  },
  {
   "cell_type": "markdown",
   "id": "4758ca5e-08bf-4cb1-913e-620a39274777",
   "metadata": {},
   "source": [
    "Veamos la figura del iris.data"
   ]
  },
  {
   "cell_type": "code",
   "execution_count": null,
   "id": "8b8a0664-0f21-4d1d-b870-0c034383ea4a",
   "metadata": {},
   "outputs": [],
   "source": []
  },
  {
   "cell_type": "markdown",
   "id": "eb640a74-3eb6-4b36-b952-f86a8b7fbcad",
   "metadata": {},
   "source": [
    "La figura del iris.shape"
   ]
  },
  {
   "cell_type": "code",
   "execution_count": null,
   "id": "81541876-179b-48ac-881b-3542532682ef",
   "metadata": {},
   "outputs": [],
   "source": []
  },
  {
   "cell_type": "markdown",
   "id": "d66c3ade-7899-4383-82c1-15c29f1ab730",
   "metadata": {},
   "source": [
    "Conozcamos los posibles targets con target_names"
   ]
  },
  {
   "cell_type": "code",
   "execution_count": null,
   "id": "aaaf269d-4214-4946-8f56-e7cdf979046d",
   "metadata": {},
   "outputs": [],
   "source": []
  },
  {
   "cell_type": "markdown",
   "id": "8fa9e2ac-f2fd-4d43-a502-37b7a6f87fa9",
   "metadata": {},
   "source": [
    "Y también los feature names"
   ]
  },
  {
   "cell_type": "code",
   "execution_count": null,
   "id": "866f7796-3583-4a8f-bfba-609fbe6ffe42",
   "metadata": {},
   "outputs": [],
   "source": []
  },
  {
   "cell_type": "markdown",
   "id": "55cb2936-f120-4b9a-9ddc-c6e1fa31dbe2",
   "metadata": {},
   "source": [
    "### 15.7.2  Explorar el dataset de Iris"
   ]
  },
  {
   "cell_type": "markdown",
   "id": "f03a953d-5df2-4fc4-a7a4-ef96bac41956",
   "metadata": {},
   "source": [
    "Importamos pandas"
   ]
  },
  {
   "cell_type": "code",
   "execution_count": null,
   "id": "ccd065ea-f4bb-4f72-a75a-02a580799043",
   "metadata": {},
   "outputs": [],
   "source": []
  },
  {
   "cell_type": "markdown",
   "id": "45938ae5-2ade-4d11-af0a-63755b77f05b",
   "metadata": {},
   "source": [
    "Le decimos que maximo 5 columans"
   ]
  },
  {
   "cell_type": "code",
   "execution_count": null,
   "id": "abe80b62-a983-4e40-ba14-a954fcf69c13",
   "metadata": {},
   "outputs": [],
   "source": []
  },
  {
   "cell_type": "markdown",
   "id": "8562f779-889e-4c3f-8242-3c2c19053a1f",
   "metadata": {},
   "source": [
    "Y sin display width"
   ]
  },
  {
   "cell_type": "code",
   "execution_count": null,
   "id": "74143e7b-fe21-4522-9cfe-0295d765ec75",
   "metadata": {},
   "outputs": [],
   "source": []
  },
  {
   "cell_type": "markdown",
   "id": "ac3b3c80-a321-45ad-9d15-a8083d11f0fe",
   "metadata": {},
   "source": [
    "Cargamos un dataframe con iris.data"
   ]
  },
  {
   "cell_type": "code",
   "execution_count": null,
   "id": "e9d898b5-2c51-40e5-8d56-391d71032e1b",
   "metadata": {},
   "outputs": [],
   "source": []
  },
  {
   "cell_type": "markdown",
   "id": "b098ee67-5f6f-4e91-a285-4812d3e89651",
   "metadata": {},
   "source": [
    "Y le pegamos las especies que vienen de iris.target_names"
   ]
  },
  {
   "cell_type": "code",
   "execution_count": null,
   "id": "9cc8eb9f-0844-474d-b89c-ad77f994beab",
   "metadata": {},
   "outputs": [],
   "source": []
  },
  {
   "cell_type": "markdown",
   "id": "10bdaec9-3995-474d-9eaa-5c52015f8521",
   "metadata": {},
   "source": [
    "Checa el head del dataset"
   ]
  },
  {
   "cell_type": "code",
   "execution_count": null,
   "id": "949af570-e540-4ace-a202-bb3a229bf55b",
   "metadata": {},
   "outputs": [],
   "source": []
  },
  {
   "cell_type": "markdown",
   "id": "ee064313-c7ac-4810-99c3-05ae7583a6dc",
   "metadata": {},
   "source": [
    "Pon la precision de pandas a 2 decimales"
   ]
  },
  {
   "cell_type": "code",
   "execution_count": null,
   "id": "5b619ce6-bda0-4618-80fc-800e8019664e",
   "metadata": {},
   "outputs": [],
   "source": []
  },
  {
   "cell_type": "markdown",
   "id": "610e7784-106a-43fe-a4ac-ca2e681c6153",
   "metadata": {},
   "source": [
    "Armate un describe del dataframe"
   ]
  },
  {
   "cell_type": "code",
   "execution_count": null,
   "id": "1ec079c6-3aad-4cf7-af5d-d2645e663fb6",
   "metadata": {},
   "outputs": [],
   "source": []
  },
  {
   "cell_type": "markdown",
   "id": "daddf4b0-7bbb-4659-81f8-6bf3c2d1c1dd",
   "metadata": {},
   "source": [
    "Y un describe de la columna de species solamente"
   ]
  },
  {
   "cell_type": "code",
   "execution_count": null,
   "id": "a6df2379-16ad-4e2a-a48b-5d8f0523a781",
   "metadata": {},
   "outputs": [],
   "source": []
  },
  {
   "cell_type": "markdown",
   "id": "60424698-b5d6-44e9-a90a-f7639782fbc2",
   "metadata": {},
   "source": [
    "### 15.7.3  Visualizar el Dataset con Pairplot"
   ]
  },
  {
   "cell_type": "markdown",
   "id": "5416b68a-a224-4d22-8306-63395b41ed9c",
   "metadata": {},
   "source": [
    "Importa seaborn si no lo has hecho"
   ]
  },
  {
   "cell_type": "code",
   "execution_count": null,
   "id": "48886db4-1416-410d-933a-f5549f04d8ad",
   "metadata": {},
   "outputs": [],
   "source": []
  },
  {
   "cell_type": "markdown",
   "id": "5d9f64f5-224b-4b22-99d7-d9425c13b668",
   "metadata": {},
   "source": [
    "Cambia la fuente a 1.1"
   ]
  },
  {
   "cell_type": "code",
   "execution_count": null,
   "id": "a1c808c3-935c-47ed-9d4f-3b43088a540f",
   "metadata": {},
   "outputs": [],
   "source": []
  },
  {
   "cell_type": "markdown",
   "id": "193ade9d-1538-42fd-a0ca-2f746eb5aaf1",
   "metadata": {},
   "source": [
    "Ponlo estilo whitegrid"
   ]
  },
  {
   "cell_type": "code",
   "execution_count": null,
   "id": "0620b42b-cdde-41bc-86fb-9bbb793b679c",
   "metadata": {},
   "outputs": [],
   "source": []
  },
  {
   "cell_type": "markdown",
   "id": "df2076e8-c6e0-4548-a513-e8653a381e96",
   "metadata": {},
   "source": [
    "Arma tu pairplot en un objeto llamado cuadricula"
   ]
  },
  {
   "cell_type": "code",
   "execution_count": null,
   "id": "309dfd3d-9861-4240-bb3f-1714d1542a04",
   "metadata": {},
   "outputs": [],
   "source": []
  },
  {
   "cell_type": "markdown",
   "id": "57ea5b30-0012-42b4-b64a-b5ea2dca7ba2",
   "metadata": {},
   "source": [
    "Ahora mostremos el pairplot en un solo color"
   ]
  },
  {
   "cell_type": "code",
   "execution_count": null,
   "id": "c28d6c27-2cee-4a0a-a7c7-5edbd58e4d38",
   "metadata": {},
   "outputs": [],
   "source": []
  },
  {
   "cell_type": "markdown",
   "id": "c6947fac-53f4-4139-b6a8-66e77242156a",
   "metadata": {},
   "source": [
    "### 15.7.4  Usar un estimador KMeans"
   ]
  },
  {
   "cell_type": "markdown",
   "id": "795ffa9b-56f1-45f8-96cf-71eba4dcf077",
   "metadata": {},
   "source": [
    "Vamos a importar Kmeans desde sklearn.cluster"
   ]
  },
  {
   "cell_type": "code",
   "execution_count": null,
   "id": "dceafe34-47cf-46db-b4b8-4f0014063a0a",
   "metadata": {},
   "outputs": [],
   "source": []
  },
  {
   "cell_type": "markdown",
   "id": "a7b040c6-ee96-42d3-9b43-f444a4cf03f3",
   "metadata": {},
   "source": [
    "Ahora creamos el estimador"
   ]
  },
  {
   "cell_type": "code",
   "execution_count": null,
   "id": "2e80ee04-3f58-4e56-ba9a-8bcab225cce4",
   "metadata": {},
   "outputs": [],
   "source": []
  },
  {
   "cell_type": "markdown",
   "id": "d831656a-6848-46e2-b088-7b2a94d07e41",
   "metadata": {},
   "source": [
    "Entrenamos el modelo con el metodo .fit"
   ]
  },
  {
   "cell_type": "code",
   "execution_count": null,
   "id": "016df048-1193-402a-882c-efdbc95d87de",
   "metadata": {},
   "outputs": [],
   "source": []
  },
  {
   "cell_type": "markdown",
   "id": "eae8693c-0b64-4bcf-9968-2bf706021a5d",
   "metadata": {},
   "source": [
    "Imprimimos los primeros 50 resultados"
   ]
  },
  {
   "cell_type": "code",
   "execution_count": null,
   "id": "3a4a4725-41ff-491d-ad6a-f9fc99186e0a",
   "metadata": {},
   "outputs": [],
   "source": []
  },
  {
   "cell_type": "markdown",
   "id": "5a182abd-da89-42d6-8246-8941655a637f",
   "metadata": {},
   "source": [
    "Ahora los segundos 50"
   ]
  },
  {
   "cell_type": "code",
   "execution_count": null,
   "id": "c6f8056a-0dd1-4944-a3a5-14e7f7ca7e12",
   "metadata": {},
   "outputs": [],
   "source": []
  },
  {
   "cell_type": "markdown",
   "id": "98c07b58-350b-4e9f-a510-20c075fb15ec",
   "metadata": {},
   "source": [
    "Y los ultimos 50"
   ]
  },
  {
   "cell_type": "code",
   "execution_count": null,
   "id": "c1d89565-0809-4de8-8d87-0b6e8730b9d8",
   "metadata": {},
   "outputs": [],
   "source": []
  },
  {
   "cell_type": "markdown",
   "id": "09693f9a-ef6c-46b1-b16d-38393306d0c8",
   "metadata": {},
   "source": [
    "### 15.7.4  Reducción de dimensionalidad con PCA"
   ]
  },
  {
   "cell_type": "markdown",
   "id": "d6525a7d-164c-41b9-9e26-763321b11bf1",
   "metadata": {},
   "source": [
    "Importa PCA de sklearn.decomposition"
   ]
  },
  {
   "cell_type": "code",
   "execution_count": null,
   "id": "120c2a02-e1f2-4f9a-8b79-7549547f25bd",
   "metadata": {},
   "outputs": [],
   "source": []
  },
  {
   "cell_type": "markdown",
   "id": "426fa601-7501-410b-8314-da515989fc60",
   "metadata": {},
   "source": [
    "Arma tu estimador PCA"
   ]
  },
  {
   "cell_type": "code",
   "execution_count": null,
   "id": "7fa0657f-b214-4ae7-8e87-d24c0c60bf3e",
   "metadata": {},
   "outputs": [],
   "source": []
  },
  {
   "cell_type": "markdown",
   "id": "e2d56252-9910-43a6-b573-5356f92809dc",
   "metadata": {},
   "source": [
    "Arma el fit"
   ]
  },
  {
   "cell_type": "code",
   "execution_count": null,
   "id": "18d18cec-01cb-4028-885f-dca6a3cd276d",
   "metadata": {},
   "outputs": [],
   "source": []
  },
  {
   "cell_type": "markdown",
   "id": "9a4c4378-02d7-43a9-b3ae-5447e0c9ef2a",
   "metadata": {},
   "source": [
    "Y luego transforma los datos usando transform"
   ]
  },
  {
   "cell_type": "code",
   "execution_count": null,
   "id": "883875d1-e0bf-464c-944e-8424eae40e7b",
   "metadata": {},
   "outputs": [],
   "source": []
  },
  {
   "cell_type": "markdown",
   "id": "ecbc0b96-95b4-42c6-a568-6618c77dfe01",
   "metadata": {},
   "source": [
    "checa la figura de los datos que devolvió"
   ]
  },
  {
   "cell_type": "code",
   "execution_count": null,
   "id": "02d18ea6-3551-455f-ad0e-298263262e32",
   "metadata": {},
   "outputs": [],
   "source": []
  },
  {
   "cell_type": "markdown",
   "id": "a030d590-4e83-463f-b149-5b08e424fd7d",
   "metadata": {},
   "source": [
    "Veamos losd datos reducidos, pasa esos nuevos datos a un dataframe"
   ]
  },
  {
   "cell_type": "code",
   "execution_count": null,
   "id": "2084a967-d786-41fa-a449-03a866107b43",
   "metadata": {},
   "outputs": [],
   "source": []
  },
  {
   "cell_type": "markdown",
   "id": "371dba41-c808-4606-a3ec-ff42c09d0287",
   "metadata": {},
   "source": [
    "pegale la especie a ese dataframe"
   ]
  },
  {
   "cell_type": "code",
   "execution_count": null,
   "id": "9a780d13-ec07-49b2-8f24-a3e7ca8cf80d",
   "metadata": {},
   "outputs": [],
   "source": []
  },
  {
   "cell_type": "markdown",
   "id": "3db09379-3355-442e-8ed0-e2b59367648a",
   "metadata": {},
   "source": [
    "arma un scatterplot en seaborn"
   ]
  },
  {
   "cell_type": "code",
   "execution_count": null,
   "id": "57014798-5558-49f1-8cb0-996b359c3bd1",
   "metadata": {},
   "outputs": [],
   "source": []
  },
  {
   "cell_type": "markdown",
   "id": "63352fcf-bc85-4c2f-8408-fc0b548ec21a",
   "metadata": {},
   "source": [
    "Vamos armando un objeto centroide para mostrar en seaborn"
   ]
  },
  {
   "cell_type": "code",
   "execution_count": null,
   "id": "49208a63-9eaa-4f19-881c-b179d2173ecf",
   "metadata": {},
   "outputs": [],
   "source": []
  },
  {
   "cell_type": "markdown",
   "id": "6e3d94c1-da57-4227-9387-0669752db839",
   "metadata": {},
   "source": [
    "importa matplotlib"
   ]
  },
  {
   "cell_type": "code",
   "execution_count": null,
   "id": "e5cd38c5-c391-46ff-96af-2d48188e7514",
   "metadata": {},
   "outputs": [],
   "source": []
  },
  {
   "cell_type": "markdown",
   "id": "539ee7c8-315e-4496-b2e8-890f168f7d64",
   "metadata": {},
   "source": [
    "Muestra los scatter"
   ]
  },
  {
   "cell_type": "code",
   "execution_count": null,
   "id": "d4acf40d-4916-4671-b7eb-96b3e562753d",
   "metadata": {},
   "outputs": [],
   "source": []
  },
  {
   "cell_type": "markdown",
   "id": "f2c459e0-1b44-494e-a8af-0d40a1db6707",
   "metadata": {},
   "source": [
    "### 15.7.4  Escoger el mejor estimador de CLustering"
   ]
  },
  {
   "cell_type": "markdown",
   "id": "70da816a-a428-42aa-9ef2-3064210cb4bb",
   "metadata": {},
   "source": [
    "importa DBSCAN, Meanshift, spectral clustering, agglomerative clustering"
   ]
  },
  {
   "cell_type": "code",
   "execution_count": null,
   "id": "4787e2e8-4637-45ef-b3a2-6d7cb398e7d8",
   "metadata": {},
   "outputs": [],
   "source": []
  },
  {
   "cell_type": "markdown",
   "id": "876f0b94-3791-432a-9ffd-60e9a5cded14",
   "metadata": {},
   "source": [
    "Arma un diccionario con los estimadores"
   ]
  },
  {
   "cell_type": "code",
   "execution_count": null,
   "id": "f36974b2-54a5-447b-89cf-229ee5c7ba3e",
   "metadata": {},
   "outputs": [],
   "source": []
  },
  {
   "cell_type": "markdown",
   "id": "ba7bdef2-494e-4514-90d5-e50e8ff267d3",
   "metadata": {},
   "source": [
    "importa Numpy as np"
   ]
  },
  {
   "cell_type": "code",
   "execution_count": null,
   "id": "ce29ca86-c10a-42df-86aa-765569812581",
   "metadata": {},
   "outputs": [],
   "source": []
  },
  {
   "cell_type": "markdown",
   "id": "983ee023-d68b-4308-b8f9-7290eb4bcf56",
   "metadata": {},
   "source": [
    "arma el for que va a hacer los estimadores"
   ]
  },
  {
   "cell_type": "code",
   "execution_count": null,
   "id": "699eda59-dd59-41a3-82f8-fcb2e7955ee6",
   "metadata": {},
   "outputs": [],
   "source": []
  },
  {
   "cell_type": "code",
   "execution_count": null,
   "id": "bb0e7319-c113-4534-9b90-72ee5a85423c",
   "metadata": {},
   "outputs": [],
   "source": []
  }
 ],
 "metadata": {
  "kernelspec": {
   "display_name": "Python 3",
   "language": "python",
   "name": "python3"
  },
  "language_info": {
   "codemirror_mode": {
    "name": "ipython",
    "version": 3
   },
   "file_extension": ".py",
   "mimetype": "text/x-python",
   "name": "python",
   "nbconvert_exporter": "python",
   "pygments_lexer": "ipython3",
   "version": "3.8.8"
  }
 },
 "nbformat": 4,
 "nbformat_minor": 5
}
