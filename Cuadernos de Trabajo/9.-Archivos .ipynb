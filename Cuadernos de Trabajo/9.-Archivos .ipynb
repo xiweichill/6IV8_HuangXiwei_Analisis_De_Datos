{
 "cells": [
  {
   "cell_type": "markdown",
   "id": "3f723dd1-7f92-4ab8-923e-98de3a1db9fb",
   "metadata": {},
   "source": [
    "# 9.- Archivos"
   ]
  },
  {
   "cell_type": "markdown",
   "id": "d43b7e5b-7609-4259-9bdb-5cbb52f30d79",
   "metadata": {},
   "source": [
    "## 9.2.-Archivos TXT"
   ]
  },
  {
   "cell_type": "markdown",
   "id": "2aae30a5-95f2-4e6f-8fe5-b40c43766518",
   "metadata": {},
   "source": [
    "Lo primero que haremos será escribir a un archivo de texto con información extraordinariamente importante. \n",
    "\n",
    "A continuación los 4 influencers con más seguidores en tiktok del mundo (Febrero 2021)\n",
    "\n",
    "@charlidamelio D’Amelio 108.1\n",
    "@addisonre Addison 76.4\n",
    "@zachking Zach 56.6\n",
    "@bellapoarch Bella 56.3"
   ]
  },
  {
   "cell_type": "code",
   "execution_count": 1,
   "id": "3b645420-c1cd-4977-b392-37fde45251c2",
   "metadata": {},
   "outputs": [],
   "source": [
    "with open('seguidores.txt',mode='w') as seguidores:\n",
    "    seguidores.write('@charlidamelio D’Amelio 108.1\\n')\n",
    "    seguidores.write('@addisonre Addison 76.4\\n')\n",
    "    seguidores.write('@zachking Zach 56.6\\n')\n",
    "    seguidores.write('@bellapoarch Bella 56.3\\n')"
   ]
  },
  {
   "cell_type": "markdown",
   "id": "280440b0-730b-42a1-bf2d-14e57a25f019",
   "metadata": {},
   "source": [
    "Ahora revisaremos los contenidos en python con el siguiente código:"
   ]
  },
  {
   "cell_type": "code",
   "execution_count": 3,
   "id": "a573ef82-eb54-4fcb-85b6-b398a6eb8576",
   "metadata": {},
   "outputs": [
    {
     "name": "stdout",
     "output_type": "stream",
     "text": [
      "Handle              Nombre       num_seg\n",
      "@bellapoarch        Bella           56.3\n"
     ]
    }
   ],
   "source": [
    "with open('seguidores.txt', mode = 'r') as seguidores:\n",
    "    print(f'{\"Handle\" :<20}{\"Nombre\" :<10}{\"num_seg\" :>10}')\n",
    "    for record in seguidores:\n",
    "        handle,nombre,num_seg = record.split()\n",
    "print(f'{handle:<20}{nombre:<10}{num_seg:>10}')\n"
   ]
  },
  {
   "cell_type": "markdown",
   "id": "01d17b73-6e87-4f8a-a923-6501929e7e3a",
   "metadata": {},
   "source": [
    "Que pasa si queremos modificar el carhivo desde python? Es un problema"
   ]
  },
  {
   "cell_type": "code",
   "execution_count": 5,
   "id": "347ba2e9-2241-403d-b485-c5e6fe88b03c",
   "metadata": {},
   "outputs": [],
   "source": [
    "seguidores = open('seguidores.txt','r')\n",
    "temporal = open('temporal.txt','w')\n",
    "with seguidores,temporal:\n",
    "    for record in seguidores:\n",
    "        handle,nombre,num_seg = record.split()\n",
    "        if handle != '@charlidamelio':\n",
    "            temporal.write(record)\n",
    "        else:\n",
    "            nuevo_nombre = ' '.join([handle,'Charlie',num_seg])\n",
    "            temporal.write(nuevo_nombre + '\\n')"
   ]
  },
  {
   "cell_type": "markdown",
   "id": "9e9fd794-614b-4af9-8e19-ecf187e7096e",
   "metadata": {},
   "source": [
    "## 9.3.- Archivos JSON"
   ]
  },
  {
   "cell_type": "markdown",
   "id": "b2f0e150-64e6-4a0c-bf9a-01b14b0474e5",
   "metadata": {},
   "source": [
    "Consideremos el siguiente diccionario que habla de tiktok\n",
    "\n",
    "seguidores_dicc={'seguidores\\n':[\n",
    " {'handle':'@charlidamelio', 'name':'Charlie', 'num_seg':108.1},\n",
    " {'handle':'@addisonre', 'name':'Addison', 'num_seg':76.4},\n",
    " {'handle':'@zachking', 'name':'Zach', 'num_seg':56.6},\n",
    " {'handle':'@bellapoarch', 'name':'Bella', 'num_seg':56.3}]}\n"
   ]
  },
  {
   "cell_type": "code",
   "execution_count": 6,
   "id": "03037689-e74d-4a37-a700-e7e8bb4548a4",
   "metadata": {},
   "outputs": [],
   "source": [
    "seguidores_dicc={'seguidores\\n':[\n",
    " {'handle':'@charlidamelio', 'name':'Charlie', 'num_seg':108.1},\n",
    " {'handle':'@addisonre', 'name':'Addison', 'num_seg':76.4},\n",
    " {'handle':'@zachking', 'name':'Zach', 'num_seg':56.6},\n",
    " {'handle':'@bellapoarch', 'name':'Bella', 'num_seg':56.3}]}"
   ]
  },
  {
   "cell_type": "code",
   "execution_count": null,
   "id": "4cc74381-4415-4e2d-a6e9-22ab5cbe564a",
   "metadata": {},
   "outputs": [],
   "source": []
  },
  {
   "cell_type": "markdown",
   "id": "ad19770f-e6b3-45cd-a0f2-cabdac51d79b",
   "metadata": {},
   "source": [
    "Para escribir este objeto con el formato JSON"
   ]
  },
  {
   "cell_type": "code",
   "execution_count": 8,
   "id": "47e2a67a-3f55-418d-8808-f496fcbaa2b3",
   "metadata": {},
   "outputs": [],
   "source": [
    "import json\n",
    "with open('seguidores.json','w') as seguidores:\n",
    "    json.dump(seguidores_dicc,seguidores)"
   ]
  },
  {
   "cell_type": "code",
   "execution_count": null,
   "id": "669a083d-9292-492c-9025-ae504add8ac4",
   "metadata": {},
   "outputs": [],
   "source": []
  },
  {
   "cell_type": "markdown",
   "id": "024fa392-219c-4b12-ae18-a42ee73dcfe7",
   "metadata": {},
   "source": [
    "Ahora recuperemos los datos del archivo JSON con la función load"
   ]
  },
  {
   "cell_type": "code",
   "execution_count": 9,
   "id": "c7a73524-4bd7-49d2-802d-c9ae25d47984",
   "metadata": {},
   "outputs": [
    {
     "data": {
      "text/plain": [
       "<_io.TextIOWrapper name='seguidores.json' mode='r' encoding='cp1252'>"
      ]
     },
     "execution_count": 9,
     "metadata": {},
     "output_type": "execute_result"
    }
   ],
   "source": [
    "with open('seguidores.json','r') as seguidores:\n",
    "    seguidores_json = json.load(seguidores)\n",
    "seguidores"
   ]
  },
  {
   "cell_type": "code",
   "execution_count": 10,
   "id": "ed9d27d0-34f0-463d-95d8-8cf689b4a5bf",
   "metadata": {},
   "outputs": [
    {
     "data": {
      "text/plain": [
       "{'seguidores': [{'handle': '@charlidamelio',\n",
       "   'name': 'Charlie',\n",
       "   'num_seg': 108.1},\n",
       "  {'handle': '@addisonre', 'name': 'Addison', 'num_seg': 76.4},\n",
       "  {'handle': '@zachking', 'name': 'Zach', 'num_seg': 56.6},\n",
       "  {'handle': '@bellapoarch', 'name': 'Bella', 'num_seg': 56.3}]}"
      ]
     },
     "execution_count": 10,
     "metadata": {},
     "output_type": "execute_result"
    }
   ],
   "source": [
    "{'seguidores':\n",
    "[{'handle': '@charlidamelio', 'name': 'Charlie', 'num_seg': 108.1},\n",
    "{'handle': '@addisonre', 'name': 'Addison', 'num_seg': 76.4},\n",
    "{'handle': '@zachking', 'name': 'Zach', 'num_seg': 56.6},\n",
    "{'handle': '@bellapoarch', 'name': 'Bella', 'num_seg': 56.3}]}\n"
   ]
  },
  {
   "cell_type": "markdown",
   "id": "9ca654fe-7bc1-49c0-977d-6ad05e6bcca6",
   "metadata": {},
   "source": [
    "Ahora accede al diccionario asociada a la llave seguidores"
   ]
  },
  {
   "cell_type": "code",
   "execution_count": 15,
   "id": "265f88a2-fc60-468a-9989-443bafae1ea4",
   "metadata": {},
   "outputs": [],
   "source": [
    "seguidores_json = {\n",
    "    'seguidores': [\n",
    "        {'handle': '@charlidamelio', 'name': 'Charlie', 'num_seg': 108.1},\n",
    "        {'handle': '@addisonre', 'name': 'Addison', 'num_seg': 76.4},\n",
    "        {'handle': '@zachking', 'name': 'Zach', 'num_seg': 56.6},\n",
    "        {'handle': '@bellapoarch', 'name': 'Bella', 'num_seg': 56.3}\n",
    "    ]\n",
    "}"
   ]
  },
  {
   "cell_type": "markdown",
   "id": "d1401405-df57-4c3d-9dee-dd2ec443becb",
   "metadata": {},
   "source": [
    "Y obten registros indivudales de 0 y 3"
   ]
  },
  {
   "cell_type": "code",
   "execution_count": 16,
   "id": "89b6cefd-6244-452a-864f-811ef39b4def",
   "metadata": {},
   "outputs": [
    {
     "data": {
      "text/plain": [
       "{'handle': '@charlidamelio', 'name': 'Charlie', 'num_seg': 108.1}"
      ]
     },
     "execution_count": 16,
     "metadata": {},
     "output_type": "execute_result"
    }
   ],
   "source": [
    "seguidores_json['seguidores'][0]"
   ]
  },
  {
   "cell_type": "code",
   "execution_count": 17,
   "id": "bc7c40c4",
   "metadata": {},
   "outputs": [
    {
     "data": {
      "text/plain": [
       "{'handle': '@bellapoarch', 'name': 'Bella', 'num_seg': 56.3}"
      ]
     },
     "execution_count": 17,
     "metadata": {},
     "output_type": "execute_result"
    }
   ],
   "source": [
    "seguidores_json['seguidores'][3]"
   ]
  },
  {
   "cell_type": "markdown",
   "id": "e3e7b792-4db7-433e-ab92-a4fd8193306d",
   "metadata": {},
   "source": [
    "## 9.4.- Manipulación de Excepciones"
   ]
  },
  {
   "cell_type": "markdown",
   "id": "bba13d6b-9e2a-4c81-9810-3d20c568c47a",
   "metadata": {},
   "source": [
    "Una excepción es un error, como dividir entre 0"
   ]
  },
  {
   "cell_type": "code",
   "execution_count": 18,
   "id": "4a421606-3126-4ff3-8348-cfc8535d0ce9",
   "metadata": {},
   "outputs": [
    {
     "ename": "ZeroDivisionError",
     "evalue": "division by zero",
     "output_type": "error",
     "traceback": [
      "\u001b[31m---------------------------------------------------------------------------\u001b[39m",
      "\u001b[31mZeroDivisionError\u001b[39m                         Traceback (most recent call last)",
      "\u001b[36mCell\u001b[39m\u001b[36m \u001b[39m\u001b[32mIn[18]\u001b[39m\u001b[32m, line 1\u001b[39m\n\u001b[32m----> \u001b[39m\u001b[32m1\u001b[39m \u001b[32;43m4\u001b[39;49m\u001b[43m/\u001b[49m\u001b[32;43m0\u001b[39;49m\n",
      "\u001b[31mZeroDivisionError\u001b[39m: division by zero"
     ]
    }
   ],
   "source": [
    "4/0"
   ]
  },
  {
   "cell_type": "markdown",
   "id": "bf2a3d29-582b-41f9-a1c7-caefa291c04c",
   "metadata": {},
   "source": [
    "Y la excepción d etipo value error, que ocurre cuando intentas convertir una cadena en entero"
   ]
  },
  {
   "cell_type": "code",
   "execution_count": 19,
   "id": "f307efbc-744b-49f6-8668-a001dfffcf11",
   "metadata": {},
   "outputs": [
    {
     "ename": "ValueError",
     "evalue": "invalid literal for int() with base 10: 'hola mundo'",
     "output_type": "error",
     "traceback": [
      "\u001b[31m---------------------------------------------------------------------------\u001b[39m",
      "\u001b[31mValueError\u001b[39m                                Traceback (most recent call last)",
      "\u001b[36mCell\u001b[39m\u001b[36m \u001b[39m\u001b[32mIn[19]\u001b[39m\u001b[32m, line 1\u001b[39m\n\u001b[32m----> \u001b[39m\u001b[32m1\u001b[39m \u001b[38;5;28;43mint\u001b[39;49m\u001b[43m(\u001b[49m\u001b[33;43m'\u001b[39;49m\u001b[33;43mhola mundo\u001b[39;49m\u001b[33;43m'\u001b[39;49m\u001b[43m)\u001b[49m\n",
      "\u001b[31mValueError\u001b[39m: invalid literal for int() with base 10: 'hola mundo'"
     ]
    }
   ],
   "source": [
    "int('hola mundo')"
   ]
  },
  {
   "cell_type": "markdown",
   "id": "2768f4e8-9601-4128-8f43-d07955f6d81d",
   "metadata": {},
   "source": [
    "Que pasa si quiero dar continuidad a la ejecución dle programa?"
   ]
  },
  {
   "cell_type": "markdown",
   "id": "2316123b-0545-4495-ad05-954857d1e1f6",
   "metadata": {},
   "source": [
    "Vamos a hacer un programa que divida por 0 - vamos a necesitar usar While, trye, except, except y else"
   ]
  },
  {
   "cell_type": "code",
   "execution_count": 20,
   "id": "9a5aaf89-dd98-41d9-ac2c-0ecc044423f7",
   "metadata": {},
   "outputs": [
    {
     "name": "stdout",
     "output_type": "stream",
     "text": [
      "Debes ingresar dos números enteros\n",
      "\n",
      "Hay una division entre cer\n",
      "\n",
      "36.0/9.0=4.0\n"
     ]
    }
   ],
   "source": [
    "#programa_c9\n",
    "while True:\n",
    "    try:\n",
    "        numerador = int(input('Ingresa el numerador'))\n",
    "        denominador = int(input('Ingresa el dominador'))\n",
    "        cociente = numerador/denominador\n",
    "    except ValueError:\n",
    "        print('Debes ingresar dos números enteros\\n')\n",
    "    except ZeroDivisionError:\n",
    "        print('Hay una division entre cer\\n')\n",
    "    else:\n",
    "        print(f'{numerador:.1f}/{denominador:.1f}={cociente:.1f}')\n",
    "        break"
   ]
  },
  {
   "cell_type": "markdown",
   "id": "0cdf6156-1396-490e-97b5-c167ef49ed0f",
   "metadata": {},
   "source": [
    "## 9.5.- Archivos CSV"
   ]
  },
  {
   "cell_type": "markdown",
   "id": "85a3ebe3-34b3-422c-b548-0f96d6c95c05",
   "metadata": {},
   "source": [
    "Primero crearemos un archivo CSV con los seguidores de TikTok"
   ]
  },
  {
   "cell_type": "code",
   "execution_count": 23,
   "id": "660d8b15-c380-4860-9714-ea7b920a6ce7",
   "metadata": {},
   "outputs": [],
   "source": [
    "import csv\n",
    "with open('seguidores.csv', mode='w',newline='') as seguidores:\n",
    "    writer=csv.writer(seguidores)\n",
    "    writer.writerow(['@charlidamelio', 'Charlie', 108.1])\n",
    "    writer.writerow(['@addisonre', 'Addison', 76.4])\n",
    "    writer.writerow(['@zachking', 'Zach', 56.6])\n",
    "    writer.writerow(['@bellapoarch', 'Bella', 56.3])"
   ]
  },
  {
   "cell_type": "markdown",
   "id": "b2fc2084-25bd-40ca-9bf9-21ee576efa9c",
   "metadata": {},
   "source": [
    "Ahora leeremos nuestro mismo archivo"
   ]
  },
  {
   "cell_type": "code",
   "execution_count": 24,
   "id": "8bd1e7ef-09ae-4b45-b59b-8fdb593eb3a0",
   "metadata": {},
   "outputs": [
    {
     "name": "stdout",
     "output_type": "stream",
     "text": [
      "Handle              Nombre    Seguidores\n",
      "@charlidamelio      Charlie        108.1\n",
      "@addisonre          Addison         76.4\n",
      "@zachking           Zach            56.6\n",
      "@bellapoarch        Bella           56.3\n"
     ]
    }
   ],
   "source": [
    "with open('seguidores.csv','r', newline='') as seguidores:\n",
    "    print(f'{\"Handle\":<20}{\"Nombre\":<10}{\"Seguidores\":>10}')\n",
    "    lectura=csv.reader(seguidores)\n",
    "    for record in lectura:\n",
    "        handle, nombre, num_seg=record\n",
    "        print(f'{handle:<20}{nombre:<10}{num_seg:>10}')"
   ]
  },
  {
   "cell_type": "markdown",
   "id": "14e192c6-1b56-47ea-8e8b-7afbb0e6ddc8",
   "metadata": {},
   "source": [
    "## 9.6.- Lectura de CSV con DataFrame de Pandas"
   ]
  },
  {
   "cell_type": "markdown",
   "id": "6cfe35de-8e30-4e9d-8bc5-9e9d2d013c62",
   "metadata": {},
   "source": [
    "Vamos a leer el archivo del gimnasio"
   ]
  },
  {
   "cell_type": "code",
   "execution_count": 25,
   "id": "b1e961ac-5542-4c45-ab76-3b500b99caf4",
   "metadata": {},
   "outputs": [],
   "source": [
    "import pandas as pd\n",
    "datosgym = pd.read_csv('datos_gimnasio.csv')"
   ]
  },
  {
   "cell_type": "code",
   "execution_count": 29,
   "id": "0897eddd-3cf6-4c3c-a843-29aa4ab72b64",
   "metadata": {},
   "outputs": [
    {
     "data": {
      "text/html": [
       "<div>\n",
       "<style scoped>\n",
       "    .dataframe tbody tr th:only-of-type {\n",
       "        vertical-align: middle;\n",
       "    }\n",
       "\n",
       "    .dataframe tbody tr th {\n",
       "        vertical-align: top;\n",
       "    }\n",
       "\n",
       "    .dataframe thead th {\n",
       "        text-align: right;\n",
       "    }\n",
       "</style>\n",
       "<table border=\"1\" class=\"dataframe\">\n",
       "  <thead>\n",
       "    <tr style=\"text-align: right;\">\n",
       "      <th></th>\n",
       "      <th>codigo_user</th>\n",
       "      <th>Género</th>\n",
       "      <th>Peso</th>\n",
       "      <th>Cintura</th>\n",
       "      <th>Pulso</th>\n",
       "      <th>Lagartijas</th>\n",
       "      <th>Sentadillas</th>\n",
       "      <th>Saltos</th>\n",
       "    </tr>\n",
       "  </thead>\n",
       "  <tbody>\n",
       "    <tr>\n",
       "      <th>0</th>\n",
       "      <td>usuario1</td>\n",
       "      <td>M</td>\n",
       "      <td>86.6</td>\n",
       "      <td>91.4</td>\n",
       "      <td>50</td>\n",
       "      <td>5</td>\n",
       "      <td>162</td>\n",
       "      <td>60</td>\n",
       "    </tr>\n",
       "    <tr>\n",
       "      <th>1</th>\n",
       "      <td>usuario2</td>\n",
       "      <td>M</td>\n",
       "      <td>85.7</td>\n",
       "      <td>94.0</td>\n",
       "      <td>52</td>\n",
       "      <td>2</td>\n",
       "      <td>110</td>\n",
       "      <td>60</td>\n",
       "    </tr>\n",
       "    <tr>\n",
       "      <th>2</th>\n",
       "      <td>usuario3</td>\n",
       "      <td>M</td>\n",
       "      <td>87.5</td>\n",
       "      <td>96.5</td>\n",
       "      <td>58</td>\n",
       "      <td>12</td>\n",
       "      <td>101</td>\n",
       "      <td>101</td>\n",
       "    </tr>\n",
       "    <tr>\n",
       "      <th>3</th>\n",
       "      <td>usuario4</td>\n",
       "      <td>F</td>\n",
       "      <td>73.5</td>\n",
       "      <td>88.9</td>\n",
       "      <td>62</td>\n",
       "      <td>12</td>\n",
       "      <td>105</td>\n",
       "      <td>37</td>\n",
       "    </tr>\n",
       "    <tr>\n",
       "      <th>4</th>\n",
       "      <td>usuario5</td>\n",
       "      <td>M</td>\n",
       "      <td>85.7</td>\n",
       "      <td>88.9</td>\n",
       "      <td>46</td>\n",
       "      <td>13</td>\n",
       "      <td>155</td>\n",
       "      <td>58</td>\n",
       "    </tr>\n",
       "  </tbody>\n",
       "</table>\n",
       "</div>"
      ],
      "text/plain": [
       "  codigo_user Género  Peso  Cintura  Pulso  Lagartijas  Sentadillas  Saltos\n",
       "0    usuario1      M  86.6     91.4     50           5          162      60\n",
       "1    usuario2      M  85.7     94.0     52           2          110      60\n",
       "2    usuario3      M  87.5     96.5     58          12          101     101\n",
       "3    usuario4      F  73.5     88.9     62          12          105      37\n",
       "4    usuario5      M  85.7     88.9     46          13          155      58"
      ]
     },
     "execution_count": 29,
     "metadata": {},
     "output_type": "execute_result"
    }
   ],
   "source": [
    "pd.set_option('display.precision',1) # muestra solo un valor decimal\n",
    "datosgym.head()\n",
    "\n"
   ]
  },
  {
   "cell_type": "markdown",
   "id": "7d1c9c3c-1303-479d-9e38-21aa11d88a84",
   "metadata": {},
   "source": [
    "Ahora mostraremos oslo las últimas 5 filas"
   ]
  },
  {
   "cell_type": "code",
   "execution_count": 30,
   "id": "cf33d841-1a3b-42ca-84c7-7a947cbf99c8",
   "metadata": {},
   "outputs": [
    {
     "data": {
      "text/html": [
       "<div>\n",
       "<style scoped>\n",
       "    .dataframe tbody tr th:only-of-type {\n",
       "        vertical-align: middle;\n",
       "    }\n",
       "\n",
       "    .dataframe tbody tr th {\n",
       "        vertical-align: top;\n",
       "    }\n",
       "\n",
       "    .dataframe thead th {\n",
       "        text-align: right;\n",
       "    }\n",
       "</style>\n",
       "<table border=\"1\" class=\"dataframe\">\n",
       "  <thead>\n",
       "    <tr style=\"text-align: right;\">\n",
       "      <th></th>\n",
       "      <th>codigo_user</th>\n",
       "      <th>Género</th>\n",
       "      <th>Peso</th>\n",
       "      <th>Cintura</th>\n",
       "      <th>Pulso</th>\n",
       "      <th>Lagartijas</th>\n",
       "      <th>Sentadillas</th>\n",
       "      <th>Saltos</th>\n",
       "    </tr>\n",
       "  </thead>\n",
       "  <tbody>\n",
       "    <tr>\n",
       "      <th>15</th>\n",
       "      <td>usuario16</td>\n",
       "      <td>M</td>\n",
       "      <td>91.6</td>\n",
       "      <td>94.0</td>\n",
       "      <td>62</td>\n",
       "      <td>12</td>\n",
       "      <td>210</td>\n",
       "      <td>120</td>\n",
       "    </tr>\n",
       "    <tr>\n",
       "      <th>16</th>\n",
       "      <td>usuario17</td>\n",
       "      <td>F</td>\n",
       "      <td>79.8</td>\n",
       "      <td>94.0</td>\n",
       "      <td>54</td>\n",
       "      <td>4</td>\n",
       "      <td>60</td>\n",
       "      <td>25</td>\n",
       "    </tr>\n",
       "    <tr>\n",
       "      <th>17</th>\n",
       "      <td>usuario18</td>\n",
       "      <td>M</td>\n",
       "      <td>71.2</td>\n",
       "      <td>81.3</td>\n",
       "      <td>52</td>\n",
       "      <td>11</td>\n",
       "      <td>230</td>\n",
       "      <td>80</td>\n",
       "    </tr>\n",
       "    <tr>\n",
       "      <th>18</th>\n",
       "      <td>usuario19</td>\n",
       "      <td>F</td>\n",
       "      <td>70.8</td>\n",
       "      <td>83.8</td>\n",
       "      <td>54</td>\n",
       "      <td>15</td>\n",
       "      <td>225</td>\n",
       "      <td>73</td>\n",
       "    </tr>\n",
       "    <tr>\n",
       "      <th>19</th>\n",
       "      <td>usuario20</td>\n",
       "      <td>F</td>\n",
       "      <td>62.6</td>\n",
       "      <td>83.8</td>\n",
       "      <td>68</td>\n",
       "      <td>2</td>\n",
       "      <td>110</td>\n",
       "      <td>43</td>\n",
       "    </tr>\n",
       "  </tbody>\n",
       "</table>\n",
       "</div>"
      ],
      "text/plain": [
       "   codigo_user Género  Peso  Cintura  Pulso  Lagartijas  Sentadillas  Saltos\n",
       "15   usuario16      M  91.6     94.0     62          12          210     120\n",
       "16   usuario17      F  79.8     94.0     54           4           60      25\n",
       "17   usuario18      M  71.2     81.3     52          11          230      80\n",
       "18   usuario19      F  70.8     83.8     54          15          225      73\n",
       "19   usuario20      F  62.6     83.8     68           2          110      43"
      ]
     },
     "execution_count": 30,
     "metadata": {},
     "output_type": "execute_result"
    }
   ],
   "source": [
    "datosgym.tail()"
   ]
  },
  {
   "cell_type": "code",
   "execution_count": null,
   "id": "305a1d3d-0b99-44e3-9a51-cea3873b5b08",
   "metadata": {},
   "outputs": [],
   "source": []
  },
  {
   "cell_type": "markdown",
   "id": "04c2d5ed-d6f6-4e10-8c6e-a232315d5d88",
   "metadata": {},
   "source": [
    "Vamos a modificar los encabezados del data frame"
   ]
  },
  {
   "cell_type": "code",
   "execution_count": 33,
   "id": "fa4d4a03-8ec1-4e35-85dd-9a58bb15f77f",
   "metadata": {},
   "outputs": [
    {
     "data": {
      "text/html": [
       "<div>\n",
       "<style scoped>\n",
       "    .dataframe tbody tr th:only-of-type {\n",
       "        vertical-align: middle;\n",
       "    }\n",
       "\n",
       "    .dataframe tbody tr th {\n",
       "        vertical-align: top;\n",
       "    }\n",
       "\n",
       "    .dataframe thead th {\n",
       "        text-align: right;\n",
       "    }\n",
       "</style>\n",
       "<table border=\"1\" class=\"dataframe\">\n",
       "  <thead>\n",
       "    <tr style=\"text-align: right;\">\n",
       "      <th></th>\n",
       "      <th>Código</th>\n",
       "      <th>Género</th>\n",
       "      <th>Peso</th>\n",
       "      <th>Cintura</th>\n",
       "      <th>Pulso</th>\n",
       "      <th>Lagartijas</th>\n",
       "      <th>Sentadillas</th>\n",
       "      <th>Saltos</th>\n",
       "    </tr>\n",
       "  </thead>\n",
       "  <tbody>\n",
       "    <tr>\n",
       "      <th>0</th>\n",
       "      <td>usuario1</td>\n",
       "      <td>M</td>\n",
       "      <td>86.6</td>\n",
       "      <td>91.4</td>\n",
       "      <td>50</td>\n",
       "      <td>5</td>\n",
       "      <td>162</td>\n",
       "      <td>60</td>\n",
       "    </tr>\n",
       "    <tr>\n",
       "      <th>1</th>\n",
       "      <td>usuario2</td>\n",
       "      <td>M</td>\n",
       "      <td>85.7</td>\n",
       "      <td>94.0</td>\n",
       "      <td>52</td>\n",
       "      <td>2</td>\n",
       "      <td>110</td>\n",
       "      <td>60</td>\n",
       "    </tr>\n",
       "    <tr>\n",
       "      <th>2</th>\n",
       "      <td>usuario3</td>\n",
       "      <td>M</td>\n",
       "      <td>87.5</td>\n",
       "      <td>96.5</td>\n",
       "      <td>58</td>\n",
       "      <td>12</td>\n",
       "      <td>101</td>\n",
       "      <td>101</td>\n",
       "    </tr>\n",
       "    <tr>\n",
       "      <th>3</th>\n",
       "      <td>usuario4</td>\n",
       "      <td>F</td>\n",
       "      <td>73.5</td>\n",
       "      <td>88.9</td>\n",
       "      <td>62</td>\n",
       "      <td>12</td>\n",
       "      <td>105</td>\n",
       "      <td>37</td>\n",
       "    </tr>\n",
       "    <tr>\n",
       "      <th>4</th>\n",
       "      <td>usuario5</td>\n",
       "      <td>M</td>\n",
       "      <td>85.7</td>\n",
       "      <td>88.9</td>\n",
       "      <td>46</td>\n",
       "      <td>13</td>\n",
       "      <td>155</td>\n",
       "      <td>58</td>\n",
       "    </tr>\n",
       "  </tbody>\n",
       "</table>\n",
       "</div>"
      ],
      "text/plain": [
       "     Código Género  Peso  Cintura  Pulso  Lagartijas  Sentadillas  Saltos\n",
       "0  usuario1      M  86.6     91.4     50           5          162      60\n",
       "1  usuario2      M  85.7     94.0     52           2          110      60\n",
       "2  usuario3      M  87.5     96.5     58          12          101     101\n",
       "3  usuario4      F  73.5     88.9     62          12          105      37\n",
       "4  usuario5      M  85.7     88.9     46          13          155      58"
      ]
     },
     "execution_count": 33,
     "metadata": {},
     "output_type": "execute_result"
    }
   ],
   "source": [
    "datosgym.columns=['Código','Género','Peso','Cintura','Pulso',\n",
    " 'Lagartijas','Sentadillas','Saltos']\n",
    "datosgym.head()"
   ]
  },
  {
   "cell_type": "code",
   "execution_count": null,
   "id": "c6e4929e",
   "metadata": {},
   "outputs": [],
   "source": []
  },
  {
   "cell_type": "markdown",
   "id": "2745e7b4-42c3-45a2-b1f4-ee28da9eac50",
   "metadata": {},
   "source": []
  },
  {
   "cell_type": "markdown",
   "id": "90eefa92-6541-4252-bafb-e960a4775172",
   "metadata": {},
   "source": [
    "Y ahora usamos describe para obtener un resumen de las estadisticas de los datos"
   ]
  },
  {
   "cell_type": "code",
   "execution_count": 34,
   "id": "6bd1e60f-3a68-4303-a621-506093fd26bf",
   "metadata": {},
   "outputs": [
    {
     "data": {
      "text/html": [
       "<div>\n",
       "<style scoped>\n",
       "    .dataframe tbody tr th:only-of-type {\n",
       "        vertical-align: middle;\n",
       "    }\n",
       "\n",
       "    .dataframe tbody tr th {\n",
       "        vertical-align: top;\n",
       "    }\n",
       "\n",
       "    .dataframe thead th {\n",
       "        text-align: right;\n",
       "    }\n",
       "</style>\n",
       "<table border=\"1\" class=\"dataframe\">\n",
       "  <thead>\n",
       "    <tr style=\"text-align: right;\">\n",
       "      <th></th>\n",
       "      <th>Peso</th>\n",
       "      <th>Cintura</th>\n",
       "      <th>Pulso</th>\n",
       "      <th>Lagartijas</th>\n",
       "      <th>Sentadillas</th>\n",
       "      <th>Saltos</th>\n",
       "    </tr>\n",
       "  </thead>\n",
       "  <tbody>\n",
       "    <tr>\n",
       "      <th>count</th>\n",
       "      <td>20.0</td>\n",
       "      <td>20.0</td>\n",
       "      <td>20.0</td>\n",
       "      <td>20.0</td>\n",
       "      <td>20.0</td>\n",
       "      <td>20.0</td>\n",
       "    </tr>\n",
       "    <tr>\n",
       "      <th>mean</th>\n",
       "      <td>81.0</td>\n",
       "      <td>89.9</td>\n",
       "      <td>56.1</td>\n",
       "      <td>9.4</td>\n",
       "      <td>145.6</td>\n",
       "      <td>70.3</td>\n",
       "    </tr>\n",
       "    <tr>\n",
       "      <th>std</th>\n",
       "      <td>11.2</td>\n",
       "      <td>8.1</td>\n",
       "      <td>7.2</td>\n",
       "      <td>5.3</td>\n",
       "      <td>62.6</td>\n",
       "      <td>51.3</td>\n",
       "    </tr>\n",
       "    <tr>\n",
       "      <th>min</th>\n",
       "      <td>62.6</td>\n",
       "      <td>78.7</td>\n",
       "      <td>46.0</td>\n",
       "      <td>1.0</td>\n",
       "      <td>50.0</td>\n",
       "      <td>25.0</td>\n",
       "    </tr>\n",
       "    <tr>\n",
       "      <th>25%</th>\n",
       "      <td>72.9</td>\n",
       "      <td>83.8</td>\n",
       "      <td>51.5</td>\n",
       "      <td>4.8</td>\n",
       "      <td>101.0</td>\n",
       "      <td>39.5</td>\n",
       "    </tr>\n",
       "    <tr>\n",
       "      <th>50%</th>\n",
       "      <td>79.8</td>\n",
       "      <td>88.9</td>\n",
       "      <td>55.0</td>\n",
       "      <td>11.5</td>\n",
       "      <td>122.5</td>\n",
       "      <td>54.0</td>\n",
       "    </tr>\n",
       "    <tr>\n",
       "      <th>75%</th>\n",
       "      <td>86.9</td>\n",
       "      <td>94.0</td>\n",
       "      <td>60.5</td>\n",
       "      <td>13.2</td>\n",
       "      <td>210.0</td>\n",
       "      <td>85.2</td>\n",
       "    </tr>\n",
       "    <tr>\n",
       "      <th>max</th>\n",
       "      <td>112.0</td>\n",
       "      <td>116.8</td>\n",
       "      <td>74.0</td>\n",
       "      <td>17.0</td>\n",
       "      <td>251.0</td>\n",
       "      <td>250.0</td>\n",
       "    </tr>\n",
       "  </tbody>\n",
       "</table>\n",
       "</div>"
      ],
      "text/plain": [
       "        Peso  Cintura  Pulso  Lagartijas  Sentadillas  Saltos\n",
       "count   20.0     20.0   20.0        20.0         20.0    20.0\n",
       "mean    81.0     89.9   56.1         9.4        145.6    70.3\n",
       "std     11.2      8.1    7.2         5.3         62.6    51.3\n",
       "min     62.6     78.7   46.0         1.0         50.0    25.0\n",
       "25%     72.9     83.8   51.5         4.8        101.0    39.5\n",
       "50%     79.8     88.9   55.0        11.5        122.5    54.0\n",
       "75%     86.9     94.0   60.5        13.2        210.0    85.2\n",
       "max    112.0    116.8   74.0        17.0        251.0   250.0"
      ]
     },
     "execution_count": 34,
     "metadata": {},
     "output_type": "execute_result"
    }
   ],
   "source": [
    "datosgym.describe()"
   ]
  },
  {
   "cell_type": "markdown",
   "id": "f6b07c8b-6397-4a0b-884f-22a93923c09a",
   "metadata": {},
   "source": [
    "Que tal que solo queremos estadisticas de mujeres? 👩🏻"
   ]
  },
  {
   "cell_type": "code",
   "execution_count": 35,
   "id": "be9d607d-efe9-40fb-b9fe-a858d3bb43ae",
   "metadata": {},
   "outputs": [
    {
     "data": {
      "text/plain": [
       "count       20\n",
       "unique       2\n",
       "top       True\n",
       "freq        11\n",
       "Name: Género, dtype: object"
      ]
     },
     "execution_count": 35,
     "metadata": {},
     "output_type": "execute_result"
    }
   ],
   "source": [
    "(datosgym.Género == 'F').describe()\n"
   ]
  },
  {
   "cell_type": "markdown",
   "id": "f1ad722c-5b9c-43e7-816c-d09df3828f57",
   "metadata": {},
   "source": [
    "Hagamos una grafica de los datos del gym 📊"
   ]
  },
  {
   "cell_type": "code",
   "execution_count": null,
   "id": "82d8101d-a51e-470b-929e-e09fadf7f58d",
   "metadata": {},
   "outputs": [],
   "source": []
  },
  {
   "cell_type": "code",
   "execution_count": null,
   "id": "83a71029-77cd-45de-9734-bcee327e7b41",
   "metadata": {},
   "outputs": [],
   "source": []
  },
  {
   "cell_type": "code",
   "execution_count": null,
   "id": "b2afc686-8bd6-4760-a7cb-ca6e44191144",
   "metadata": {},
   "outputs": [],
   "source": []
  }
 ],
 "metadata": {
  "kernelspec": {
   "display_name": "Python 3",
   "language": "python",
   "name": "python3"
  },
  "language_info": {
   "codemirror_mode": {
    "name": "ipython",
    "version": 3
   },
   "file_extension": ".py",
   "mimetype": "text/x-python",
   "name": "python",
   "nbconvert_exporter": "python",
   "pygments_lexer": "ipython3",
   "version": "3.13.2"
  }
 },
 "nbformat": 4,
 "nbformat_minor": 5
}
