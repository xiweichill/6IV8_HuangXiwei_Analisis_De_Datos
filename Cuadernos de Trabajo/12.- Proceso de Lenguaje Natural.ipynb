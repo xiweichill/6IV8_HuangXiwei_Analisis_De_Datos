{
 "cells": [
  {
   "cell_type": "markdown",
   "id": "8337f114-60c5-4763-b70a-593ec4e11315",
   "metadata": {},
   "source": [
    "# 12.- Procesamiento de Lenguaje Natural"
   ]
  },
  {
   "cell_type": "markdown",
   "id": "a85a16d9-3142-4a20-b505-269b53b7e1bb",
   "metadata": {},
   "source": [
    "### 12.0.1.- Instalando TextBlob"
   ]
  },
  {
   "cell_type": "markdown",
   "id": "2c5bfff5-b074-47a4-b71e-43c9a827371c",
   "metadata": {},
   "source": [
    "Lo primero será instalar TextBlob desde el prompt de anaconda\n",
    "\n",
    "conda install -c confa-forge textblob"
   ]
  },
  {
   "cell_type": "markdown",
   "id": "4bcfe69e-244b-4aef-8927-8a23d6967a77",
   "metadata": {},
   "source": [
    "Una vez ejecutado, corre el siguiente comando\n",
    "\n",
    "ipython -m textblob.download_corpora"
   ]
  },
  {
   "cell_type": "markdown",
   "id": "8c85e0dc-11c9-495d-b55e-4a40c2eec460",
   "metadata": {},
   "source": [
    "## 12.2.- TextBlob"
   ]
  },
  {
   "cell_type": "markdown",
   "id": "b50cce96-bd24-46d9-9c6d-ab23a19088cb",
   "metadata": {},
   "source": [
    "### 12.2.2.- Crear un TextBlob"
   ]
  },
  {
   "cell_type": "markdown",
   "id": "4462e2c3-4d35-4628-a8e8-85e5b2a7af4e",
   "metadata": {},
   "source": [
    "Vamos a crear un textblob con el texto 'Y cuando despertó. Todo a su alrededor era luminoso'"
   ]
  },
  {
   "cell_type": "code",
   "execution_count": null,
   "id": "d4ffc636-d99a-4565-95ba-0a4236ef4084",
   "metadata": {},
   "outputs": [],
   "source": []
  },
  {
   "cell_type": "code",
   "execution_count": null,
   "id": "59f8d266-efde-4346-9d00-7bbc572cc1d6",
   "metadata": {},
   "outputs": [],
   "source": []
  },
  {
   "cell_type": "code",
   "execution_count": null,
   "id": "392a28b9-1c04-4796-84a7-3eb5f1ed7cfd",
   "metadata": {},
   "outputs": [],
   "source": []
  },
  {
   "cell_type": "code",
   "execution_count": null,
   "id": "53531a8b-16a3-455b-836b-da404faf1359",
   "metadata": {},
   "outputs": [],
   "source": []
  },
  {
   "cell_type": "markdown",
   "id": "1a198156-2de3-43b2-a09e-8f6a89c6d0d5",
   "metadata": {},
   "source": [
    "### 12.2.3.- Tokenizar"
   ]
  },
  {
   "cell_type": "markdown",
   "id": "c47c93b8-5742-4028-9af6-7e5d67e36021",
   "metadata": {},
   "source": [
    "Ahora vamos a obtener una lista de oraciones"
   ]
  },
  {
   "cell_type": "code",
   "execution_count": null,
   "id": "5f1a57ec-0a5d-465d-aacd-1e36f4c54c89",
   "metadata": {},
   "outputs": [],
   "source": []
  },
  {
   "cell_type": "markdown",
   "id": "1546196d-9a34-4196-bf51-a2439d80b569",
   "metadata": {},
   "source": [
    "Y una lista de palabras"
   ]
  },
  {
   "cell_type": "code",
   "execution_count": null,
   "id": "af5a3fc1-91e5-4bf9-bca3-992dd90191f5",
   "metadata": {},
   "outputs": [],
   "source": []
  },
  {
   "cell_type": "code",
   "execution_count": null,
   "id": "6b0b72db-bd0a-4de4-a770-718b9314eab3",
   "metadata": {},
   "outputs": [],
   "source": []
  },
  {
   "cell_type": "markdown",
   "id": "bded994a-b85c-4ad4-8674-bded8ff559f8",
   "metadata": {},
   "source": [
    "Repetimos para 'I have good discipline to study. In the future I will be a great engineer'"
   ]
  },
  {
   "cell_type": "code",
   "execution_count": null,
   "id": "50e4942a-6b36-45d1-bd11-6ff4108cfe4e",
   "metadata": {},
   "outputs": [],
   "source": []
  },
  {
   "cell_type": "code",
   "execution_count": null,
   "id": "c72bfb91-4026-4175-aeaa-ecc313df93b3",
   "metadata": {},
   "outputs": [],
   "source": []
  },
  {
   "cell_type": "code",
   "execution_count": null,
   "id": "ad74406d-cc58-4e75-8a0f-479388029c01",
   "metadata": {},
   "outputs": [],
   "source": []
  },
  {
   "cell_type": "code",
   "execution_count": null,
   "id": "027a5b94-dbe1-48cb-bc5c-0dcfb6008009",
   "metadata": {},
   "outputs": [],
   "source": []
  },
  {
   "cell_type": "markdown",
   "id": "ca188e35-2893-41f3-9d8d-9828afc90bd7",
   "metadata": {},
   "source": [
    "### 12.2.4.- Parte del habla"
   ]
  },
  {
   "cell_type": "markdown",
   "id": "83c8ff74-4e75-4918-99bd-6df285ea5636",
   "metadata": {},
   "source": [
    "Ahora vamos a etiquetar cada parte de la oración en su categoría de sustantivo, pronotmbre, verbo, etc"
   ]
  },
  {
   "cell_type": "code",
   "execution_count": null,
   "id": "38a2d638-3bd5-4706-9467-fd17cf263582",
   "metadata": {},
   "outputs": [],
   "source": []
  },
  {
   "cell_type": "markdown",
   "id": "c7a3a9f4-4ebe-4bb9-b6f5-4ed48fb93de1",
   "metadata": {},
   "source": [
    "### 12.2.5.- Frases de sustantivos"
   ]
  },
  {
   "cell_type": "markdown",
   "id": "12344c57-80c8-42dd-a61c-3f99f016cb09",
   "metadata": {},
   "source": [
    "Le podemos pedir noun phrases a nuestro textblob"
   ]
  },
  {
   "cell_type": "code",
   "execution_count": null,
   "id": "4ac21387-1a05-4bc3-9892-cb1ea05ab9e2",
   "metadata": {},
   "outputs": [],
   "source": []
  },
  {
   "cell_type": "markdown",
   "id": "d36d1e1b-b203-47ff-a983-b8ae794d011f",
   "metadata": {},
   "source": [
    "### 12.2.6.- Analisis de sentimientos"
   ]
  },
  {
   "cell_type": "markdown",
   "id": "1c3075c6-e3e6-4c7f-a248-ccdb6bf0afd4",
   "metadata": {},
   "source": [
    "También podemos analizar el sentimento de una oración. Vamos dandole con l oración que traiamos"
   ]
  },
  {
   "cell_type": "markdown",
   "id": "f29c3a15-53ae-4b0f-ad33-3dbc0ba9d230",
   "metadata": {},
   "source": [
    "Ahora otro ejemplo = 'I am a bad student. I will not be able to finish my studies'"
   ]
  },
  {
   "cell_type": "code",
   "execution_count": null,
   "id": "51f5babf-3f70-4f49-9839-238c1cd21623",
   "metadata": {},
   "outputs": [],
   "source": []
  },
  {
   "cell_type": "code",
   "execution_count": null,
   "id": "065c0dcc-0f55-4a8e-99d0-8609c48f8b1e",
   "metadata": {},
   "outputs": [],
   "source": []
  },
  {
   "cell_type": "code",
   "execution_count": null,
   "id": "232aefab-9ea4-4d0c-ad5a-1dad08e2e8ff",
   "metadata": {},
   "outputs": [],
   "source": []
  },
  {
   "cell_type": "markdown",
   "id": "7fc7dd12-c2b0-4f97-8dda-620d7e9f021f",
   "metadata": {},
   "source": [
    "Y lo repetimos para el mismo ejemplo pero frase por frase"
   ]
  },
  {
   "cell_type": "code",
   "execution_count": null,
   "id": "e07bcfe4-31bb-4166-95f0-52fad911f89b",
   "metadata": {},
   "outputs": [],
   "source": []
  },
  {
   "cell_type": "markdown",
   "id": "3f42f2d2-cddc-4fe7-af05-981d8f15196b",
   "metadata": {},
   "source": [
    "Se puede hacer lo mismo mediante NaiveBayes (en vez de el default pattern)"
   ]
  },
  {
   "cell_type": "code",
   "execution_count": null,
   "id": "7a598b15-1cc2-4d68-920b-4264a5a4ee6b",
   "metadata": {},
   "outputs": [],
   "source": []
  },
  {
   "cell_type": "code",
   "execution_count": null,
   "id": "bbaf535a-9452-481f-82b4-85d78137e75c",
   "metadata": {},
   "outputs": [],
   "source": []
  },
  {
   "cell_type": "code",
   "execution_count": null,
   "id": "03283945-4a6a-4568-b87b-1fdc17dc6631",
   "metadata": {},
   "outputs": [],
   "source": []
  },
  {
   "cell_type": "code",
   "execution_count": null,
   "id": "075589c4-a9c4-4525-909d-3afc28570115",
   "metadata": {},
   "outputs": [],
   "source": []
  },
  {
   "cell_type": "code",
   "execution_count": null,
   "id": "316cc161-3c38-4843-9dd5-9ecd52300269",
   "metadata": {},
   "outputs": [],
   "source": []
  },
  {
   "cell_type": "markdown",
   "id": "b40f753a-41cb-4b95-90d1-bae927b4ece5",
   "metadata": {},
   "source": [
    "## 12.3.- Detección de lenguaje y traducción"
   ]
  },
  {
   "cell_type": "markdown",
   "id": "c321b6c2-824b-43f5-a17e-becefcc40aa6",
   "metadata": {},
   "source": [
    "Escribe Bonjour y determina el lenguaje usando textblob"
   ]
  },
  {
   "cell_type": "code",
   "execution_count": null,
   "id": "80f4a8a0-0440-4e96-baaf-5050d3b41652",
   "metadata": {},
   "outputs": [],
   "source": []
  },
  {
   "cell_type": "code",
   "execution_count": null,
   "id": "87a2513b-379b-49ee-a9c5-fdc6283b718c",
   "metadata": {},
   "outputs": [],
   "source": []
  },
  {
   "cell_type": "code",
   "execution_count": null,
   "id": "121204c3-5db5-4d6e-aa48-0e1ae366b260",
   "metadata": {},
   "outputs": [],
   "source": []
  },
  {
   "cell_type": "code",
   "execution_count": null,
   "id": "cde966ec-411d-4a8d-8b8c-5916b1bbfa15",
   "metadata": {},
   "outputs": [],
   "source": []
  },
  {
   "cell_type": "markdown",
   "id": "aa6cb571-6e04-4721-8c10-f71883ea2c6e",
   "metadata": {},
   "source": [
    "Ahora usa textblob para traducir \"I have good discipline to study. In the future I will be a great engineer'"
   ]
  },
  {
   "cell_type": "code",
   "execution_count": null,
   "id": "f19f00aa-3053-4760-8b26-7179087b25e3",
   "metadata": {},
   "outputs": [],
   "source": []
  },
  {
   "cell_type": "code",
   "execution_count": null,
   "id": "512bf770-fc26-4147-829d-6b364336d1f7",
   "metadata": {},
   "outputs": [],
   "source": []
  },
  {
   "cell_type": "code",
   "execution_count": null,
   "id": "8cb235e0-652e-4a57-8efd-69fe1bd76d36",
   "metadata": {},
   "outputs": [],
   "source": []
  },
  {
   "cell_type": "code",
   "execution_count": null,
   "id": "25aaa0f0-a199-41a9-8509-f69e360bb30c",
   "metadata": {},
   "outputs": [],
   "source": []
  },
  {
   "cell_type": "code",
   "execution_count": null,
   "id": "4822abd5-f486-4f42-a92f-945679cc2b0d",
   "metadata": {},
   "outputs": [],
   "source": []
  },
  {
   "cell_type": "markdown",
   "id": "c0c595d9-b2ad-4d21-ad3a-e20436af338b",
   "metadata": {},
   "source": [
    "### 12.3.1.- Inflección - pluralización y singularización"
   ]
  },
  {
   "cell_type": "markdown",
   "id": "ef5aab0f-846a-48c0-a2f1-408bb400d121",
   "metadata": {},
   "source": [
    "Textblob también entiende de singulares y plurales, obten el plural de party y el singular de lives"
   ]
  },
  {
   "cell_type": "code",
   "execution_count": null,
   "id": "5718bc60-eddc-48e8-8d5e-dc2a767ed7f1",
   "metadata": {},
   "outputs": [],
   "source": []
  },
  {
   "cell_type": "markdown",
   "id": "6743d383-bafe-477d-913c-bf54da25bf7d",
   "metadata": {},
   "source": [
    "Pluraliza Potato, Tomato, Carrot"
   ]
  },
  {
   "cell_type": "code",
   "execution_count": null,
   "id": "eef662b6-dcb0-4fbd-9348-4dda023d7294",
   "metadata": {},
   "outputs": [],
   "source": []
  },
  {
   "cell_type": "code",
   "execution_count": null,
   "id": "a13bd1a3-f560-4b72-8ea4-31d703ff30af",
   "metadata": {},
   "outputs": [],
   "source": []
  },
  {
   "cell_type": "code",
   "execution_count": null,
   "id": "872a3c8a-e48c-4cfe-b348-e56dd08188ae",
   "metadata": {},
   "outputs": [],
   "source": []
  },
  {
   "cell_type": "markdown",
   "id": "f5d5d59e-bbd6-4de2-b58f-1428519b4c11",
   "metadata": {},
   "source": [
    "### 12.3.2.- Spell Check"
   ]
  },
  {
   "cell_type": "markdown",
   "id": "8ca1a7cd-17a7-42f7-bd54-caf1b07d97c6",
   "metadata": {},
   "source": [
    "Python tambien puede revisar ortografia, revisa que opina de la palabra whife"
   ]
  },
  {
   "cell_type": "code",
   "execution_count": null,
   "id": "823191f0-a1d7-40d1-84ad-24a7d73ca319",
   "metadata": {},
   "outputs": [],
   "source": []
  },
  {
   "cell_type": "code",
   "execution_count": null,
   "id": "ef6e6641-f4b5-4791-848e-6f8eaf902093",
   "metadata": {},
   "outputs": [],
   "source": []
  },
  {
   "cell_type": "markdown",
   "id": "ff5a0ced-cacb-4350-a43f-2e7a79f03fcc",
   "metadata": {},
   "source": [
    "También puedes revisar ortografía de una oración completa como 'Yestarday was a bab dai'"
   ]
  },
  {
   "cell_type": "code",
   "execution_count": null,
   "id": "004538b9-28d1-4747-9d93-22694ab5e8a6",
   "metadata": {},
   "outputs": [],
   "source": []
  },
  {
   "cell_type": "code",
   "execution_count": null,
   "id": "c1e1b6f3-a805-44e5-b13c-12e5322babaf",
   "metadata": {},
   "outputs": [],
   "source": []
  },
  {
   "cell_type": "code",
   "execution_count": null,
   "id": "64711ced-c682-41a1-abaa-ee34455dc1aa",
   "metadata": {},
   "outputs": [],
   "source": []
  },
  {
   "cell_type": "code",
   "execution_count": null,
   "id": "b56843b5-16de-46e8-8c38-5a2c5a0e8686",
   "metadata": {},
   "outputs": [],
   "source": []
  },
  {
   "cell_type": "code",
   "execution_count": null,
   "id": "5772d1f2-d641-49c7-a884-4203e988d0b6",
   "metadata": {},
   "outputs": [],
   "source": []
  },
  {
   "cell_type": "code",
   "execution_count": null,
   "id": "7f3669fb-8add-408c-b626-bd577b9ed17b",
   "metadata": {},
   "outputs": [],
   "source": []
  },
  {
   "cell_type": "markdown",
   "id": "c21e533a-2efa-4aba-9a03-a28ef5de4d47",
   "metadata": {},
   "source": [
    "### 12.3.3.- Normalización"
   ]
  },
  {
   "cell_type": "markdown",
   "id": "2ac94f19-ad82-4099-bc91-24c05531a37f",
   "metadata": {},
   "source": [
    "Se puede obtener  el stem y lemma de una palabra plural como dormitories"
   ]
  },
  {
   "cell_type": "markdown",
   "id": "10f9d9a5-bdba-494e-90fd-a49cc8ad211e",
   "metadata": {},
   "source": [
    "### 12.3.4.- Frecuencias de Palabras"
   ]
  },
  {
   "cell_type": "markdown",
   "id": "7ed806aa-5db4-4347-a02f-ff9fdb3db73c",
   "metadata": {},
   "source": [
    "Que pasa si quieres conocer la frecuencia de una palabra?\n",
    "\n",
    "Importa el texto de dracula.txt y cuenta las veces que aparece la palabra crucifix, dracula, blood"
   ]
  },
  {
   "cell_type": "code",
   "execution_count": null,
   "id": "53fe7f79-cfdc-4de0-a296-25dfbc20f294",
   "metadata": {},
   "outputs": [],
   "source": []
  },
  {
   "cell_type": "code",
   "execution_count": null,
   "id": "b9075baa-cad4-4e6b-b0e6-c7d4b11f718b",
   "metadata": {},
   "outputs": [],
   "source": []
  },
  {
   "cell_type": "code",
   "execution_count": null,
   "id": "2d562946-ca57-4cdd-a077-e1e83d4edb0a",
   "metadata": {},
   "outputs": [],
   "source": []
  },
  {
   "cell_type": "code",
   "execution_count": null,
   "id": "d3478d35-3e38-4dcd-9baf-00a660fd3e2b",
   "metadata": {},
   "outputs": [],
   "source": []
  },
  {
   "cell_type": "code",
   "execution_count": null,
   "id": "8d599dc3-077f-47b4-9d90-29dc02de19c6",
   "metadata": {},
   "outputs": [],
   "source": []
  },
  {
   "cell_type": "code",
   "execution_count": null,
   "id": "eef8e01a-8758-4f52-a7f0-6bec33c8dc32",
   "metadata": {},
   "outputs": [],
   "source": []
  },
  {
   "cell_type": "code",
   "execution_count": null,
   "id": "ff8fa5b7-3070-47ad-b51b-324b464c873d",
   "metadata": {},
   "outputs": [],
   "source": []
  },
  {
   "cell_type": "markdown",
   "id": "508c91f4-bfa0-4e8f-a6d4-ba3de6097b1f",
   "metadata": {},
   "source": [
    "O puedes contar las frases especificas mediante el metodo count en un archivo ya tokenizado, intentalo con la frase \"lady capulet\""
   ]
  },
  {
   "cell_type": "markdown",
   "id": "d6a24a6a-4d99-49bf-aea2-e0a07637ffb0",
   "metadata": {},
   "source": [
    "### 12.3.5.- Definiciones, sinonimos y antonimos"
   ]
  },
  {
   "cell_type": "markdown",
   "id": "0984558b-22e1-4a02-8cd9-cefd7367cb5a",
   "metadata": {},
   "source": [
    "Puedes buscar definiciones desde textblob\n",
    "\n",
    "Prueba con la definición de \"worker\""
   ]
  },
  {
   "cell_type": "code",
   "execution_count": null,
   "id": "abb22f78-7d0e-4a1d-b400-7ee2b674a29f",
   "metadata": {},
   "outputs": [],
   "source": []
  },
  {
   "cell_type": "code",
   "execution_count": null,
   "id": "31bf308c-06c1-4343-8054-de1072535c32",
   "metadata": {},
   "outputs": [],
   "source": []
  },
  {
   "cell_type": "code",
   "execution_count": null,
   "id": "5e6a5752-de27-4ff0-a621-51db913a8291",
   "metadata": {},
   "outputs": [],
   "source": []
  },
  {
   "cell_type": "markdown",
   "id": "ee031c36-9d71-4c9f-9ef2-257da78b1aad",
   "metadata": {},
   "source": [
    "O sinonimos también, con synsets"
   ]
  },
  {
   "cell_type": "code",
   "execution_count": null,
   "id": "e9ea27eb-2ddd-438e-a10a-9a66cbfff057",
   "metadata": {},
   "outputs": [],
   "source": []
  },
  {
   "cell_type": "code",
   "execution_count": null,
   "id": "48e67be8-4224-4ee4-b90b-4f30bfc9f3af",
   "metadata": {},
   "outputs": [],
   "source": []
  },
  {
   "cell_type": "markdown",
   "id": "8e87a862-2232-43fc-a696-51008b6546b4",
   "metadata": {},
   "source": [
    "### 12.3.6.- Stop Words"
   ]
  },
  {
   "cell_type": "markdown",
   "id": "73491293-8524-4065-b7d6-5e4e5aed7f4c",
   "metadata": {},
   "source": [
    "Las stop words son palabras que generalmente no aportan información útil para un analisis de machine learning. \n",
    "\n",
    "Hay que traerlas desde ntlk"
   ]
  },
  {
   "cell_type": "code",
   "execution_count": null,
   "id": "76750563-a848-4bf0-84da-7681e43a04bd",
   "metadata": {},
   "outputs": [],
   "source": []
  },
  {
   "cell_type": "code",
   "execution_count": null,
   "id": "6d3a9e5a-f9a7-4f3e-b887-a3821e7b68c3",
   "metadata": {},
   "outputs": [],
   "source": []
  },
  {
   "cell_type": "code",
   "execution_count": null,
   "id": "89f5696b-d42f-4679-b6d8-5071bfb727e2",
   "metadata": {},
   "outputs": [],
   "source": []
  },
  {
   "cell_type": "code",
   "execution_count": null,
   "id": "e5883195-e051-4d1c-bd41-c08a1ee0ce73",
   "metadata": {},
   "outputs": [],
   "source": []
  },
  {
   "cell_type": "code",
   "execution_count": null,
   "id": "0eb72b77-8961-48d9-bb1a-b57a732efa9f",
   "metadata": {},
   "outputs": [],
   "source": []
  },
  {
   "cell_type": "code",
   "execution_count": null,
   "id": "a51468fd-76a7-490a-ae78-deb2780a8e89",
   "metadata": {},
   "outputs": [],
   "source": []
  },
  {
   "cell_type": "code",
   "execution_count": null,
   "id": "8ce7a090-4e62-42c1-917d-38513df32416",
   "metadata": {},
   "outputs": [],
   "source": []
  },
  {
   "cell_type": "markdown",
   "id": "c295a011-8cf9-45c8-9902-9fbc5a4ca2ec",
   "metadata": {},
   "source": [
    "Vamos a crear un texto como I have a beautiful day"
   ]
  },
  {
   "cell_type": "code",
   "execution_count": null,
   "id": "aa680268-1287-4771-8940-ddaf7f1b714f",
   "metadata": {},
   "outputs": [],
   "source": []
  },
  {
   "cell_type": "code",
   "execution_count": null,
   "id": "24266fe2-d07b-4e61-98fa-9630dd66a73b",
   "metadata": {},
   "outputs": [],
   "source": []
  },
  {
   "cell_type": "markdown",
   "id": "efa01ab3-282e-46ce-b3f2-1f686b6d6a7d",
   "metadata": {},
   "source": [
    "Y eliminar su stop words"
   ]
  },
  {
   "cell_type": "code",
   "execution_count": null,
   "id": "cd1a22fe-271a-444d-9de2-b28adc2ad8a1",
   "metadata": {},
   "outputs": [],
   "source": []
  },
  {
   "cell_type": "code",
   "execution_count": null,
   "id": "a8fb9762-1552-47ee-8620-99653a058f43",
   "metadata": {},
   "outputs": [],
   "source": []
  },
  {
   "cell_type": "markdown",
   "id": "23489048-92d5-4cbb-8da8-f6d40af8933c",
   "metadata": {},
   "source": [
    "## 12.4.- Visualizando frecuencias de palabras"
   ]
  },
  {
   "cell_type": "markdown",
   "id": "c720242c-68d1-4ebf-a93a-97a6d5856b90",
   "metadata": {},
   "source": [
    "Vamos a armar un word cloud de dracula, comencemos volviendo a cargar dracula"
   ]
  },
  {
   "cell_type": "code",
   "execution_count": null,
   "id": "8dd6fdee-856c-4e3f-b6c5-e28939e75802",
   "metadata": {},
   "outputs": [],
   "source": []
  },
  {
   "cell_type": "code",
   "execution_count": null,
   "id": "0dae5489-d191-4f35-9d88-95c300106fa4",
   "metadata": {},
   "outputs": [],
   "source": []
  },
  {
   "cell_type": "code",
   "execution_count": null,
   "id": "1548a24d-dec4-4262-8a98-2e9f76f9cf9a",
   "metadata": {},
   "outputs": [],
   "source": []
  },
  {
   "cell_type": "markdown",
   "id": "c45fb09e-ce43-4d66-bd89-8ef7d47b325d",
   "metadata": {},
   "source": [
    "Ahora vamos cargando las stop words de inglés"
   ]
  },
  {
   "cell_type": "code",
   "execution_count": null,
   "id": "5a85f8c9-7397-480c-9687-bb0f135a4942",
   "metadata": {},
   "outputs": [],
   "source": []
  },
  {
   "cell_type": "code",
   "execution_count": null,
   "id": "2ef7e3cb-1a84-43af-823e-f20019705b76",
   "metadata": {},
   "outputs": [],
   "source": []
  },
  {
   "cell_type": "code",
   "execution_count": null,
   "id": "15de9bea-5c1d-4faa-b4bc-97e302f86e96",
   "metadata": {},
   "outputs": [],
   "source": []
  },
  {
   "cell_type": "code",
   "execution_count": null,
   "id": "0d8224ca-64dc-4a9d-8cf0-24bb2a65a8bb",
   "metadata": {},
   "outputs": [],
   "source": []
  },
  {
   "cell_type": "markdown",
   "id": "86a25660-1985-4ef1-93aa-9d1fff2bf7cd",
   "metadata": {},
   "source": [
    "Vamos a obtener las frecuencias de palabras"
   ]
  },
  {
   "cell_type": "code",
   "execution_count": null,
   "id": "f2879a73-a7c4-4574-bbec-8bb18e0a8727",
   "metadata": {},
   "outputs": [],
   "source": []
  },
  {
   "cell_type": "markdown",
   "id": "5c827250-a521-44c8-88e5-a7d3fa6d04ab",
   "metadata": {},
   "source": [
    "Ahor avamos a eliminar las stop words"
   ]
  },
  {
   "cell_type": "code",
   "execution_count": null,
   "id": "5305ddf9-78d2-4232-9718-9d6978e8bc07",
   "metadata": {},
   "outputs": [],
   "source": []
  },
  {
   "cell_type": "markdown",
   "id": "190b716c-9513-47f2-88ec-1e815749bb64",
   "metadata": {},
   "source": [
    "Ordenamos las palabras restantes por frecuencia"
   ]
  },
  {
   "cell_type": "code",
   "execution_count": null,
   "id": "f1724d9d-f244-4ae6-8f60-232adbde0103",
   "metadata": {},
   "outputs": [],
   "source": []
  },
  {
   "cell_type": "code",
   "execution_count": null,
   "id": "19faa7a8-58c2-45dc-b418-88b0cfd90668",
   "metadata": {},
   "outputs": [],
   "source": []
  },
  {
   "cell_type": "markdown",
   "id": "8e9f35a5-832a-4cf2-a87b-b351d54fc6a7",
   "metadata": {},
   "source": [
    "Conseguimos las top 20 palabras"
   ]
  },
  {
   "cell_type": "code",
   "execution_count": null,
   "id": "657c489b-2a85-4622-ad5a-6239c1369d07",
   "metadata": {},
   "outputs": [],
   "source": []
  },
  {
   "cell_type": "markdown",
   "id": "2e29de74-5fc7-4078-bb5e-1dce08f0a888",
   "metadata": {},
   "source": [
    "Luego convertimos el top 20 a un dataframe"
   ]
  },
  {
   "cell_type": "code",
   "execution_count": null,
   "id": "9179be06-2018-42d7-9f23-2f0bd71b41f0",
   "metadata": {},
   "outputs": [],
   "source": []
  },
  {
   "cell_type": "code",
   "execution_count": null,
   "id": "40b14a31-d9aa-492f-bf64-28a74db404c2",
   "metadata": {},
   "outputs": [],
   "source": []
  },
  {
   "cell_type": "code",
   "execution_count": null,
   "id": "1357758b-a890-42d1-90fa-cfdf12a15d96",
   "metadata": {},
   "outputs": [],
   "source": []
  },
  {
   "cell_type": "code",
   "execution_count": null,
   "id": "e1e2d70d-3ee7-42da-803b-57bd75e423ae",
   "metadata": {},
   "outputs": [],
   "source": []
  },
  {
   "cell_type": "code",
   "execution_count": null,
   "id": "7383c18c-194f-458d-a2ec-f3ec4c8a6508",
   "metadata": {},
   "outputs": [],
   "source": []
  },
  {
   "cell_type": "code",
   "execution_count": null,
   "id": "44b4a72e-3816-4b81-ae4b-bdbc96be5633",
   "metadata": {},
   "outputs": [],
   "source": []
  },
  {
   "cell_type": "markdown",
   "id": "80b11ddd-51f8-48ae-aa9a-b720b0dd2b2d",
   "metadata": {},
   "source": [
    "Y visualizamos el dataframe en una grafica de barras sencillita"
   ]
  },
  {
   "cell_type": "code",
   "execution_count": null,
   "id": "a41d3ce2-1878-4adc-bcf4-f8290ba8c885",
   "metadata": {},
   "outputs": [],
   "source": []
  },
  {
   "cell_type": "code",
   "execution_count": null,
   "id": "bd9e1ad7-f1e8-4dcd-9afe-1515bbbeed94",
   "metadata": {},
   "outputs": [],
   "source": []
  },
  {
   "cell_type": "markdown",
   "id": "ba55c327-cdb1-4b2b-89ad-a13ab5859a53",
   "metadata": {},
   "source": [
    "### 12.4.1.- Word Cloud"
   ]
  },
  {
   "cell_type": "markdown",
   "id": "e7f4a5b0-6410-4bf6-abc0-43585d660371",
   "metadata": {},
   "source": [
    "Ahora necesitamos instalar el módulo WordCloud"
   ]
  },
  {
   "cell_type": "code",
   "execution_count": null,
   "id": "08bd4c00-1f78-4e04-8c23-14c5f7b55613",
   "metadata": {},
   "outputs": [],
   "source": []
  },
  {
   "cell_type": "markdown",
   "id": "4f36f4d0-dcbf-46f9-8885-90bcba9b5504",
   "metadata": {},
   "source": [
    "Cargamos las librerias que nos importan"
   ]
  },
  {
   "cell_type": "markdown",
   "id": "985e95a1-e1e5-4ef4-ac99-54a2f871b2cb",
   "metadata": {},
   "source": [
    "Vamos a cargar el texto de tracua y las palabras stop"
   ]
  },
  {
   "cell_type": "code",
   "execution_count": null,
   "id": "124a9599-e258-485f-bb62-3b7f91f715dc",
   "metadata": {},
   "outputs": [],
   "source": []
  },
  {
   "cell_type": "code",
   "execution_count": null,
   "id": "dcfdd768-f707-4132-a521-984230ebd366",
   "metadata": {},
   "outputs": [],
   "source": []
  },
  {
   "cell_type": "markdown",
   "id": "b73b6b70-587b-4328-88cc-943e33f76544",
   "metadata": {},
   "source": [
    "Vamos a crear una mascara para la nube usando la funcion impread"
   ]
  },
  {
   "cell_type": "code",
   "execution_count": null,
   "id": "2db8b70b-f8a4-46d6-84cb-738f7788fda9",
   "metadata": {},
   "outputs": [],
   "source": []
  },
  {
   "cell_type": "code",
   "execution_count": null,
   "id": "31bd26c7-2793-4713-a4c3-b909d6532694",
   "metadata": {},
   "outputs": [],
   "source": []
  },
  {
   "cell_type": "code",
   "execution_count": null,
   "id": "96e0441d-12af-40ba-8be1-90d20a49a29a",
   "metadata": {},
   "outputs": [],
   "source": []
  },
  {
   "cell_type": "markdown",
   "id": "9b1c989e-54a6-4bb0-a7e2-48e2b58bf838",
   "metadata": {},
   "source": [
    "OK, ahora ponemos algunas caracteristicas especifcas de la nube a crear"
   ]
  },
  {
   "cell_type": "markdown",
   "id": "d5f07cfe-c905-46c3-a48c-3a3674425fce",
   "metadata": {},
   "source": [
    "Luego se aplica el metodo de generar wordcloud"
   ]
  },
  {
   "cell_type": "markdown",
   "id": "4a75eaa7-c016-4e16-b273-6718bb51753e",
   "metadata": {},
   "source": [
    "Y la guardas como imagen"
   ]
  },
  {
   "cell_type": "markdown",
   "id": "5a9672b9-a21a-4973-8e0c-2d7311fe7cc5",
   "metadata": {},
   "source": [
    "## 12.4.- Reconocimiento de Entidades Nombradas con spaCy"
   ]
  },
  {
   "cell_type": "markdown",
   "id": "2fad47b9-eb18-4845-ab2b-255fc7310340",
   "metadata": {},
   "source": [
    "Instala Spacy desde Prompt"
   ]
  },
  {
   "cell_type": "markdown",
   "id": "d844b342-963c-48f0-bbd5-74d8be4158c0",
   "metadata": {},
   "source": [
    "Carga el modelo de lenguaje"
   ]
  },
  {
   "cell_type": "code",
   "execution_count": null,
   "id": "8e017568-4208-4356-ba08-994af724e3b4",
   "metadata": {},
   "outputs": [],
   "source": []
  },
  {
   "cell_type": "code",
   "execution_count": null,
   "id": "0f4d4e22-4dbf-4be0-b1ce-8b29b514d8e3",
   "metadata": {},
   "outputs": [],
   "source": []
  },
  {
   "cell_type": "code",
   "execution_count": null,
   "id": "bbe4f362-5750-415c-8c81-275dbff831d5",
   "metadata": {},
   "outputs": [],
   "source": []
  },
  {
   "cell_type": "markdown",
   "id": "de91b834-01b8-4026-a932-ebbe52d48113",
   "metadata": {},
   "source": [
    "Crea un documento de spacy con el texto airbnb is an American company that operates an online marketplace for lodging, primarily homestays for vacation rentals, and tourism activities. Based in San Francisco, California, the platform is accessible via website and mobile app. Airbnb does not own any of the listed properties; instead, it profits by receiving commission from each booking. The company was founded in 2008 by Brian Chesky, Nathan Blecharczyk and Joe Gebbia. Airbnb is a shortened version of its original name, AirBedandBreakfast.com"
   ]
  },
  {
   "cell_type": "markdown",
   "id": "d9deeb9a-0202-4fcf-9fe0-3ed7e15b5032",
   "metadata": {},
   "source": [
    "Obten las entidades nombradas"
   ]
  },
  {
   "cell_type": "code",
   "execution_count": null,
   "id": "17a00311-99fc-40c4-95ad-31d5a906fdf6",
   "metadata": {},
   "outputs": [],
   "source": []
  },
  {
   "cell_type": "code",
   "execution_count": null,
   "id": "c21607a4-f63b-4750-8001-69dbdc9cedab",
   "metadata": {},
   "outputs": [],
   "source": []
  }
 ],
 "metadata": {
  "kernelspec": {
   "display_name": "Python 3",
   "language": "python",
   "name": "python3"
  },
  "language_info": {
   "codemirror_mode": {
    "name": "ipython",
    "version": 3
   },
   "file_extension": ".py",
   "mimetype": "text/x-python",
   "name": "python",
   "nbconvert_exporter": "python",
   "pygments_lexer": "ipython3",
   "version": "3.8.8"
  }
 },
 "nbformat": 4,
 "nbformat_minor": 5
}
