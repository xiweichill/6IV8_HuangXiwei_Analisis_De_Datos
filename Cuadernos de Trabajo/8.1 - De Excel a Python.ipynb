{
 "cells": [
  {
   "cell_type": "markdown",
   "id": "06a255ce-6885-4b5c-8668-75790e50633d",
   "metadata": {},
   "source": [
    "# Pandas para los que vienen de Excel"
   ]
  },
  {
   "cell_type": "markdown",
   "id": "3f14362c-3974-4561-8707-377b22b11c54",
   "metadata": {},
   "source": [
    "Como la mayoría de ustedes tienen algo de familiaridad con Excel, vamos a ver varios ejemplos de como ciertos conceptos básicos de hoja de cálculo pueden ser realizados con pandas. "
   ]
  },
  {
   "cell_type": "markdown",
   "id": "bf4ca609-1844-4a85-b47b-8f40908a3887",
   "metadata": {},
   "source": [
    "Lo primero será importar pandas"
   ]
  },
  {
   "cell_type": "code",
   "execution_count": null,
   "id": "14de0f93-5266-442d-93ec-153506cd54e8",
   "metadata": {},
   "outputs": [],
   "source": []
  },
  {
   "cell_type": "markdown",
   "id": "0741fac8-ea2a-4bde-bc1a-8f1c894e7468",
   "metadata": {},
   "source": [
    "y Numpy"
   ]
  },
  {
   "cell_type": "code",
   "execution_count": null,
   "id": "06cd61f0-99af-412c-973a-434f6e8a91e7",
   "metadata": {},
   "outputs": [],
   "source": []
  },
  {
   "cell_type": "markdown",
   "id": "a9357d4f-fb8c-4944-8743-59526bdbd699",
   "metadata": {},
   "source": [
    "## Los elementos de Pandas vs Excel"
   ]
  },
  {
   "cell_type": "markdown",
   "id": "f1c1a26b-62da-490b-a216-7fb42a1c8568",
   "metadata": {},
   "source": [
    "DataFrame = hoja de trabajo"
   ]
  },
  {
   "cell_type": "markdown",
   "id": "349787d0-7086-4e34-a220-ead40f613436",
   "metadata": {},
   "source": [
    "Series = Columna"
   ]
  },
  {
   "cell_type": "markdown",
   "id": "9c4c5187-90ac-49e0-bca6-1262f30437af",
   "metadata": {},
   "source": [
    "Index = Encabezado de fila"
   ]
  },
  {
   "cell_type": "markdown",
   "id": "9fea772a-5902-4af5-9949-cf35e9d97ca2",
   "metadata": {},
   "source": [
    "NaN = celda vacia"
   ]
  },
  {
   "cell_type": "markdown",
   "id": "9ba8c738-48cf-4236-a7ba-b14e9393571d",
   "metadata": {},
   "source": [
    "## Importar datos a Pandas"
   ]
  },
  {
   "cell_type": "markdown",
   "id": "f2be3512-ff0d-49e4-9044-ab3c48a27e4c",
   "metadata": {},
   "source": [
    "Vamos trayendo nuestros datos del restaurand a un datafarme (desde csv)"
   ]
  },
  {
   "cell_type": "code",
   "execution_count": null,
   "id": "e2706303-7db6-4be7-a2ed-a4d5c0c1802e",
   "metadata": {},
   "outputs": [],
   "source": []
  },
  {
   "cell_type": "code",
   "execution_count": null,
   "id": "15c3f1fc-9ac9-461a-bb78-8658f87c6483",
   "metadata": {},
   "outputs": [],
   "source": []
  },
  {
   "cell_type": "code",
   "execution_count": null,
   "id": "e70c48fc-342f-4c29-b13b-0ab01aba4f40",
   "metadata": {},
   "outputs": [],
   "source": []
  },
  {
   "cell_type": "markdown",
   "id": "af694c92-c200-4337-8e46-1742f42591eb",
   "metadata": {},
   "source": [
    "Y nuestros costos a un segundo dataframe (desde excel)"
   ]
  },
  {
   "cell_type": "code",
   "execution_count": null,
   "id": "f5b60744-29c4-44fd-bc7a-b32ae54219da",
   "metadata": {},
   "outputs": [],
   "source": []
  },
  {
   "cell_type": "code",
   "execution_count": null,
   "id": "d7083407-0813-41e2-9e1b-1f0d0f96acee",
   "metadata": {},
   "outputs": [],
   "source": []
  },
  {
   "cell_type": "markdown",
   "id": "4e341ee4-4a20-4d3e-9af1-75ccd1d675a0",
   "metadata": {},
   "source": [
    "## Operaciones en Pandas"
   ]
  },
  {
   "cell_type": "markdown",
   "id": "eecdde91-45b2-4931-ad3c-89becd751119",
   "metadata": {},
   "source": [
    "Vamos creando una columan nueva de ganancias que será igual a precio menos costo de precios y costos"
   ]
  },
  {
   "cell_type": "code",
   "execution_count": null,
   "id": "e98e3812-f6e9-4d4b-af7e-d10cdf700191",
   "metadata": {},
   "outputs": [],
   "source": []
  },
  {
   "cell_type": "code",
   "execution_count": null,
   "id": "01ba876e-fdae-43d7-8861-af2f17455c34",
   "metadata": {},
   "outputs": [],
   "source": []
  },
  {
   "cell_type": "code",
   "execution_count": null,
   "id": "94658d31-8157-4603-932f-fd67e5f89ab1",
   "metadata": {},
   "outputs": [],
   "source": []
  },
  {
   "cell_type": "code",
   "execution_count": null,
   "id": "8590f37f-488f-441c-9014-dcbfd2efe3e0",
   "metadata": {},
   "outputs": [],
   "source": []
  },
  {
   "cell_type": "code",
   "execution_count": null,
   "id": "bb5a5b37-8b29-417f-b32d-7bb12047df86",
   "metadata": {},
   "outputs": [],
   "source": []
  },
  {
   "cell_type": "code",
   "execution_count": null,
   "id": "5ce1965d-daad-474a-97d5-94c7666aa682",
   "metadata": {},
   "outputs": [],
   "source": []
  },
  {
   "cell_type": "markdown",
   "id": "08c187ee-4535-49ee-bf0f-dea1fed8d656",
   "metadata": {},
   "source": [
    "Vamos tirando la columna de \"hora\" del restaruant"
   ]
  },
  {
   "cell_type": "code",
   "execution_count": null,
   "id": "e91b5216-094d-4785-a80b-08be48e1f5e1",
   "metadata": {},
   "outputs": [],
   "source": []
  },
  {
   "cell_type": "code",
   "execution_count": null,
   "id": "f17facf2-4905-4018-a650-e48abe951026",
   "metadata": {},
   "outputs": [],
   "source": []
  },
  {
   "cell_type": "markdown",
   "id": "32097ae6-a963-413d-8ee6-43ac1e018940",
   "metadata": {},
   "source": [
    "Arma un nuevo dataframe con todos los platillos de más de 100 pesos de precio (usando filtros)"
   ]
  },
  {
   "cell_type": "code",
   "execution_count": null,
   "id": "65ce224c-b3e6-4614-8284-ae686a291902",
   "metadata": {},
   "outputs": [],
   "source": []
  },
  {
   "cell_type": "code",
   "execution_count": null,
   "id": "76c99515-e7ca-4803-b103-11cdce30103c",
   "metadata": {},
   "outputs": [],
   "source": []
  },
  {
   "cell_type": "markdown",
   "id": "d0ed6779-ec13-4a5e-8855-06c1e947dd0f",
   "metadata": {},
   "source": [
    "Arma una nueva columna que clasifique platillos en alto/bajo margen, según si su ganancia es mayor a 100 pesos"
   ]
  },
  {
   "cell_type": "code",
   "execution_count": null,
   "id": "c8a3aca5-b4f5-46a8-9ce5-b4c19aaadc37",
   "metadata": {},
   "outputs": [],
   "source": []
  },
  {
   "cell_type": "code",
   "execution_count": null,
   "id": "6910b587-3ff6-4d30-94d9-55b774345435",
   "metadata": {},
   "outputs": [],
   "source": []
  },
  {
   "cell_type": "markdown",
   "id": "6b878f74-8648-4a54-b0dc-c075f40356e3",
   "metadata": {},
   "source": [
    "Cambiale el nombre a la columna de Atendió por Mesero en el df de Restaurant"
   ]
  },
  {
   "cell_type": "code",
   "execution_count": null,
   "id": "2fd84daa-e210-4e6a-9fca-539e55fd2c13",
   "metadata": {},
   "outputs": [],
   "source": []
  },
  {
   "cell_type": "code",
   "execution_count": null,
   "id": "659327f9-1929-48f3-9b3d-3adab2c7fe19",
   "metadata": {},
   "outputs": [],
   "source": []
  },
  {
   "cell_type": "markdown",
   "id": "5675680a-f351-48d5-a2c6-4119c148c0f5",
   "metadata": {},
   "source": [
    "## Merging o Vlookup"
   ]
  },
  {
   "cell_type": "markdown",
   "id": "513a3418-fc84-4828-98e4-ff49d944c2cd",
   "metadata": {},
   "source": [
    "Vamos a juntar los 2 dataframes usando un left join"
   ]
  },
  {
   "cell_type": "code",
   "execution_count": null,
   "id": "9a1ed423-a33c-4055-809b-102ceb6dd1dd",
   "metadata": {},
   "outputs": [],
   "source": []
  },
  {
   "cell_type": "code",
   "execution_count": null,
   "id": "b80bb33e-c2e9-4bb7-a384-60bc94ddbc48",
   "metadata": {},
   "outputs": [],
   "source": []
  },
  {
   "cell_type": "markdown",
   "id": "ef2540b2-57bd-4838-bf63-333a474f5b92",
   "metadata": {},
   "source": [
    "Cuales son las diferencias entre merge de Python y Vlookup de Excel?"
   ]
  },
  {
   "cell_type": "markdown",
   "id": "a5d56c18-6292-4dc9-bab2-319c34dd24b0",
   "metadata": {},
   "source": [
    "## Quitar duplicados"
   ]
  },
  {
   "cell_type": "markdown",
   "id": "cb3cee06-60a0-4fa7-b4a8-8489a93ac5d4",
   "metadata": {},
   "source": [
    "Crea un nueva Serie con la columna de \"Mesero\" - obten los valores únicos"
   ]
  },
  {
   "cell_type": "code",
   "execution_count": null,
   "id": "b004239b-eae9-4318-bd09-65efce4a9de8",
   "metadata": {},
   "outputs": [],
   "source": []
  },
  {
   "cell_type": "code",
   "execution_count": null,
   "id": "d5ba9032-9682-41e6-b1d2-ce041d66d184",
   "metadata": {},
   "outputs": [],
   "source": []
  },
  {
   "cell_type": "code",
   "execution_count": null,
   "id": "ebcdac3c-cb7b-41b4-ae27-32dbebdc8cfe",
   "metadata": {},
   "outputs": [],
   "source": []
  },
  {
   "cell_type": "markdown",
   "id": "da0bc143-8954-4819-be20-3aa718f712d2",
   "metadata": {},
   "source": [
    "## Tablas Dinámicas"
   ]
  },
  {
   "cell_type": "markdown",
   "id": "5795adc4-1ec6-4db6-a191-45ab8f20e342",
   "metadata": {},
   "source": [
    "Pandas también nos permite analizar datos mediante tablas dinámicas"
   ]
  },
  {
   "cell_type": "markdown",
   "id": "dcb38437-126e-4b93-92db-5630a1ec8650",
   "metadata": {},
   "source": [
    "Vamos creando una tabla dinámica que nos muestre las ventas por categoría"
   ]
  },
  {
   "cell_type": "code",
   "execution_count": null,
   "id": "3362e79a-c9df-4798-89ff-12cb44cf2a13",
   "metadata": {},
   "outputs": [],
   "source": []
  },
  {
   "cell_type": "code",
   "execution_count": null,
   "id": "b70c97f0-1e71-4c30-a5d6-7c670ca2ca93",
   "metadata": {},
   "outputs": [],
   "source": []
  },
  {
   "cell_type": "markdown",
   "id": "7143295f-ab1f-4e22-af20-1950e86dcfa0",
   "metadata": {},
   "source": [
    "Ahora una tabla dinámica que nos muestre las ventas por categoría y por tipo en la columna"
   ]
  },
  {
   "cell_type": "code",
   "execution_count": null,
   "id": "9aaa7a2d-fcc4-4fba-8e31-52b132165d1c",
   "metadata": {},
   "outputs": [],
   "source": []
  },
  {
   "cell_type": "code",
   "execution_count": null,
   "id": "e3139666-6e86-41a0-8c0e-9f7187335f7c",
   "metadata": {},
   "outputs": [],
   "source": []
  },
  {
   "cell_type": "code",
   "execution_count": null,
   "id": "33c37779-9481-4b60-91b5-45cec173d243",
   "metadata": {},
   "outputs": [],
   "source": []
  },
  {
   "cell_type": "markdown",
   "id": "41494dfb-730f-40d1-989c-7e5f69311875",
   "metadata": {},
   "source": [
    "Crea una tabla dináica que muestre las ventas por tipo y categoría (filas), y por mesero (columnas)"
   ]
  },
  {
   "cell_type": "code",
   "execution_count": null,
   "id": "835c3e57-e709-4137-a83b-354767db3560",
   "metadata": {},
   "outputs": [],
   "source": []
  },
  {
   "cell_type": "code",
   "execution_count": null,
   "id": "a30a3348-fa5b-424c-bb4c-acbaa02fce3a",
   "metadata": {},
   "outputs": [],
   "source": []
  },
  {
   "cell_type": "markdown",
   "id": "908d33da-0e29-4514-9873-4f7036298896",
   "metadata": {},
   "source": [
    "Crea una tabla dinámica que muestre las ventas promedio por mesero"
   ]
  },
  {
   "cell_type": "code",
   "execution_count": null,
   "id": "7f2a8b33-264f-450a-8fd4-7d73cd4cefc5",
   "metadata": {},
   "outputs": [],
   "source": []
  },
  {
   "cell_type": "code",
   "execution_count": null,
   "id": "73b8e741-43c8-4bd3-90ba-7d861d20c490",
   "metadata": {},
   "outputs": [],
   "source": []
  }
 ],
 "metadata": {
  "kernelspec": {
   "display_name": "Python 3",
   "language": "python",
   "name": "python3"
  },
  "language_info": {
   "codemirror_mode": {
    "name": "ipython",
    "version": 3
   },
   "file_extension": ".py",
   "mimetype": "text/x-python",
   "name": "python",
   "nbconvert_exporter": "python",
   "pygments_lexer": "ipython3",
   "version": "3.8.8"
  }
 },
 "nbformat": 4,
 "nbformat_minor": 5
}
