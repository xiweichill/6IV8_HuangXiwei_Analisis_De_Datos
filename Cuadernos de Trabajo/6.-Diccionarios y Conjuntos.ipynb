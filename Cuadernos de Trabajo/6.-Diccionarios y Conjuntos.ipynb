{
 "cells": [
  {
   "cell_type": "markdown",
   "id": "fade2863-6270-4914-b00e-beec38683068",
   "metadata": {},
   "source": [
    "# 6.-Diccionarios y Conjuntos"
   ]
  },
  {
   "cell_type": "markdown",
   "id": "45971094-5533-4b0b-b0c2-f223ddc50d89",
   "metadata": {},
   "source": [
    "Un diccionario tiene es una colección no ordenada de parejas, estas parejas contienen llaves y\n",
    "datos\n",
    "\n",
    "Un conjunto es una colección no ordenada de valores únicos\n",
    "\n",
    "---\n",
    "\n"
   ]
  },
  {
   "cell_type": "markdown",
   "id": "3a6c6ca6-5ffa-45e1-898f-32b0b3291dee",
   "metadata": {},
   "source": [
    "## 6.2 - Diccionarios"
   ]
  },
  {
   "cell_type": "markdown",
   "id": "a91d3c4a-7942-4786-bdfc-54dca1900ab7",
   "metadata": {},
   "source": [
    "Vamos  a crear un diccionario con los nombres Laura, Daniel, Alberto y Rogelio, y sus códigos la, dn, al, ro."
   ]
  },
  {
   "cell_type": "code",
   "execution_count": 2,
   "id": "a31265bf-7ccb-4845-95cd-24906010c017",
   "metadata": {},
   "outputs": [],
   "source": [
    "usaurio_nickname = {'Laura':'la','Daniel':'dn','Albelto':'al','Rogelio':'ro'}"
   ]
  },
  {
   "cell_type": "markdown",
   "id": "7f507c09-a959-414b-8d99-fd8f623c4a42",
   "metadata": {},
   "source": [
    "¿Cuantas parejas hay en el diccionario?"
   ]
  },
  {
   "cell_type": "code",
   "execution_count": 3,
   "id": "d32107e7-8f3e-451e-87f8-ab2f925153cd",
   "metadata": {},
   "outputs": [
    {
     "name": "stdout",
     "output_type": "stream",
     "text": [
      "{'Laura': 'la', 'Daniel': 'dn', 'Albelto': 'al', 'Rogelio': 'ro'}\n"
     ]
    }
   ],
   "source": [
    "print(usaurio_nickname)"
   ]
  },
  {
   "cell_type": "markdown",
   "id": "fbb66627-99e6-48b7-a4be-095ffe3a2c5d",
   "metadata": {},
   "source": [
    "Ahora crea un diccionario donde mapees a los usuarios con su edad - 28, 31, 27 y 65 respectivamente."
   ]
  },
  {
   "cell_type": "code",
   "execution_count": 8,
   "id": "9b8c28d5-4993-4150-9dc3-65e5afca47c0",
   "metadata": {},
   "outputs": [],
   "source": [
    "usuario_edad = {'Laura':28,'Daniel':31,'Albelto':27,'Rogelio':65}"
   ]
  },
  {
   "cell_type": "markdown",
   "id": "36cf9a7a-f6a0-4523-8df6-1909f2662f98",
   "metadata": {},
   "source": [
    "Arma un programa que nos diga en forma de oración **\"X tiene Y años\"** para cada uno de los 4 participantes. (Ej - Laura tiene 28 años cumplidos)"
   ]
  },
  {
   "cell_type": "code",
   "execution_count": 9,
   "id": "970cdb13-b10d-44e8-a9f5-e8aa40bd302a",
   "metadata": {},
   "outputs": [
    {
     "name": "stdout",
     "output_type": "stream",
     "text": [
      "Laura tiene 28 años cumplidos\n",
      "Daniel tiene 31 años cumplidos\n",
      "Albelto tiene 27 años cumplidos\n",
      "Rogelio tiene 65 años cumplidos\n"
     ]
    }
   ],
   "source": [
    "for usuario,edad in usuario_edad.items():\n",
    "    print(f'{usuario} tiene {edad} años cumplidos')"
   ]
  },
  {
   "cell_type": "markdown",
   "id": "c6c53f7b-fb88-4286-9952-ea91f786d894",
   "metadata": {},
   "source": [
    "#### Revisa tu comprensión\n",
    "\n",
    "El método ___________item()__________ te regresa cada pareja llave-valor como una tupla\n",
    "\n",
    "---"
   ]
  },
  {
   "cell_type": "markdown",
   "id": "87c1264a-a744-4c54-a3e3-8939ed8b598d",
   "metadata": {},
   "source": [
    "Accede a 2 usuarios mediante sus llaves"
   ]
  },
  {
   "cell_type": "code",
   "execution_count": 11,
   "id": "52077df1-c3d6-4801-a295-ca591ef7c56a",
   "metadata": {},
   "outputs": [
    {
     "data": {
      "text/plain": [
       "31"
      ]
     },
     "execution_count": 11,
     "metadata": {},
     "output_type": "execute_result"
    }
   ],
   "source": [
    "usuario_edad['Daniel']"
   ]
  },
  {
   "cell_type": "code",
   "execution_count": 12,
   "id": "4716f1d4-ecb5-4778-b935-4ac091d5cea6",
   "metadata": {},
   "outputs": [
    {
     "data": {
      "text/plain": [
       "65"
      ]
     },
     "execution_count": 12,
     "metadata": {},
     "output_type": "execute_result"
    }
   ],
   "source": [
    "usuario_edad['Rogelio']"
   ]
  },
  {
   "cell_type": "markdown",
   "id": "6d18665e-bb15-4c63-94cf-c544f63526c8",
   "metadata": {},
   "source": [
    "Cambia el valor de alguan de las llaves - Resulta que Rogelio en realidad tiene 35 años"
   ]
  },
  {
   "cell_type": "code",
   "execution_count": 14,
   "id": "579ea942-31e0-4d71-80be-c676fd8e08c3",
   "metadata": {},
   "outputs": [
    {
     "data": {
      "text/plain": [
       "{'Laura': 28, 'Daniel': 31, 'Albelto': 27, 'Rogelio': 35}"
      ]
     },
     "execution_count": 14,
     "metadata": {},
     "output_type": "execute_result"
    }
   ],
   "source": [
    "usuario_edad['Rogelio'] = 35\n",
    "usuario_edad"
   ]
  },
  {
   "cell_type": "code",
   "execution_count": null,
   "id": "03dd1826-9fb8-467f-83de-3f5f5b8e0f76",
   "metadata": {},
   "outputs": [],
   "source": []
  },
  {
   "cell_type": "markdown",
   "id": "155ae81f-3c33-4fa7-81b5-df3e3b8ca305",
   "metadata": {},
   "source": [
    "Se integra un nuevo elemento - Eva de 29 años, agregala al diccionario"
   ]
  },
  {
   "cell_type": "code",
   "execution_count": 15,
   "id": "d28563f3-9f04-4ae5-bb0c-2084f303b0ff",
   "metadata": {},
   "outputs": [],
   "source": [
    "usuario_edad['Eva'] = 29"
   ]
  },
  {
   "cell_type": "code",
   "execution_count": 19,
   "id": "94549ac0-8a66-4aa7-a6ad-64b903386580",
   "metadata": {},
   "outputs": [
    {
     "data": {
      "text/plain": [
       "{'Laura': 28, 'Albelto': 27, 'Rogelio': 35, 'Eva': 29}"
      ]
     },
     "execution_count": 19,
     "metadata": {},
     "output_type": "execute_result"
    }
   ],
   "source": [
    "usuario_edad"
   ]
  },
  {
   "cell_type": "markdown",
   "id": "e3ae2374-92e9-4e52-9142-bc8026ede129",
   "metadata": {},
   "source": [
    "Daniel decidió que no somos lo suficientemente cool para el - borralo del diccionario"
   ]
  },
  {
   "cell_type": "code",
   "execution_count": null,
   "id": "e0d99cbb-4663-4823-b5ce-1b7223cbe1ba",
   "metadata": {},
   "outputs": [
    {
     "ename": "KeyError",
     "evalue": "'Daniel'",
     "output_type": "error",
     "traceback": [
      "\u001b[31m---------------------------------------------------------------------------\u001b[39m",
      "\u001b[31mKeyError\u001b[39m                                  Traceback (most recent call last)",
      "\u001b[36mCell\u001b[39m\u001b[36m \u001b[39m\u001b[32mIn[18]\u001b[39m\u001b[32m, line 1\u001b[39m\n\u001b[32m----> \u001b[39m\u001b[32m1\u001b[39m \u001b[38;5;28;01mdel\u001b[39;00m \u001b[43musuario_edad\u001b[49m\u001b[43m[\u001b[49m\u001b[33;43m'\u001b[39;49m\u001b[33;43mDaniel\u001b[39;49m\u001b[33;43m'\u001b[39;49m\u001b[43m]\u001b[49m\n\u001b[32m      2\u001b[39m usuario_edad\n",
      "\u001b[31mKeyError\u001b[39m: 'Daniel'"
     ]
    }
   ],
   "source": [
    "del usuario_edad['Daniel']"
   ]
  },
  {
   "cell_type": "markdown",
   "id": "15b9303f-d37a-4789-9858-6d38c39280e0",
   "metadata": {},
   "source": [
    "Tu gerente inútil te manda buscar a Pepe aunque no este en el diccionario - Que sucede?"
   ]
  },
  {
   "cell_type": "code",
   "execution_count": 20,
   "id": "ce44d1a5-ff1f-41c4-bbfb-ec65f98962b0",
   "metadata": {},
   "outputs": [
    {
     "ename": "KeyError",
     "evalue": "'Pepe'",
     "output_type": "error",
     "traceback": [
      "\u001b[31m---------------------------------------------------------------------------\u001b[39m",
      "\u001b[31mKeyError\u001b[39m                                  Traceback (most recent call last)",
      "\u001b[36mCell\u001b[39m\u001b[36m \u001b[39m\u001b[32mIn[20]\u001b[39m\u001b[32m, line 1\u001b[39m\n\u001b[32m----> \u001b[39m\u001b[32m1\u001b[39m \u001b[43musuario_edad\u001b[49m\u001b[43m[\u001b[49m\u001b[33;43m'\u001b[39;49m\u001b[33;43mPepe\u001b[39;49m\u001b[33;43m'\u001b[39;49m\u001b[43m]\u001b[49m\n",
      "\u001b[31mKeyError\u001b[39m: 'Pepe'"
     ]
    }
   ],
   "source": [
    "usuario_edad['Pepe']"
   ]
  },
  {
   "cell_type": "markdown",
   "id": "79fa3a8b-285b-41a9-8635-a577495547d6",
   "metadata": {},
   "source": [
    "¿Cual era la edad de Eva?"
   ]
  },
  {
   "cell_type": "code",
   "execution_count": 21,
   "id": "43e33511-5d73-4430-8e06-2a86b74cf9ed",
   "metadata": {},
   "outputs": [
    {
     "data": {
      "text/plain": [
       "29"
      ]
     },
     "execution_count": 21,
     "metadata": {},
     "output_type": "execute_result"
    }
   ],
   "source": [
    "usuario_edad['Eva']"
   ]
  },
  {
   "cell_type": "markdown",
   "id": "b48bc20c-9a23-4c88-95fe-e5ac6e7b5c52",
   "metadata": {},
   "source": [
    "Ahora usa Get para conocer la edad Edad de Pepe y evitar un error"
   ]
  },
  {
   "cell_type": "code",
   "execution_count": 23,
   "id": "692a6449-cf1a-47cb-a23a-c22e4d08f4f0",
   "metadata": {},
   "outputs": [
    {
     "ename": "TypeError",
     "evalue": "'builtin_function_or_method' object is not subscriptable",
     "output_type": "error",
     "traceback": [
      "\u001b[31m---------------------------------------------------------------------------\u001b[39m",
      "\u001b[31mTypeError\u001b[39m                                 Traceback (most recent call last)",
      "\u001b[36mCell\u001b[39m\u001b[36m \u001b[39m\u001b[32mIn[23]\u001b[39m\u001b[32m, line 1\u001b[39m\n\u001b[32m----> \u001b[39m\u001b[32m1\u001b[39m \u001b[43musuario_edad\u001b[49m\u001b[43m.\u001b[49m\u001b[43mget\u001b[49m\u001b[43m[\u001b[49m\u001b[33;43m'\u001b[39;49m\u001b[33;43mPepe\u001b[39;49m\u001b[33;43m'\u001b[39;49m\u001b[43m,\u001b[49m\u001b[33;43m'\u001b[39;49m\u001b[33;43mPepe no está incluido\u001b[39;49m\u001b[33;43m'\u001b[39;49m\u001b[43m]\u001b[49m\n",
      "\u001b[31mTypeError\u001b[39m: 'builtin_function_or_method' object is not subscriptable"
     ]
    }
   ],
   "source": [
    "usuario_edad.get['Pepe','Pepe no está incluido']"
   ]
  },
  {
   "cell_type": "markdown",
   "id": "c74b6ba7-7a8e-461d-9648-7e7246259d5f",
   "metadata": {},
   "source": [
    "Prueba si Pepe y Eva están en el diccionario"
   ]
  },
  {
   "cell_type": "code",
   "execution_count": 24,
   "id": "28a16b5e-0088-4a6d-b830-581f3639388d",
   "metadata": {},
   "outputs": [
    {
     "data": {
      "text/plain": [
       "False"
      ]
     },
     "execution_count": 24,
     "metadata": {},
     "output_type": "execute_result"
    }
   ],
   "source": [
    "'Pepe' in usuario_edad"
   ]
  },
  {
   "cell_type": "code",
   "execution_count": 25,
   "id": "6324ff9f-0fe5-4acf-a2a7-da70ac22c8fd",
   "metadata": {},
   "outputs": [
    {
     "data": {
      "text/plain": [
       "True"
      ]
     },
     "execution_count": 25,
     "metadata": {},
     "output_type": "execute_result"
    }
   ],
   "source": [
    "'Pepe' not in usuario_edad"
   ]
  },
  {
   "cell_type": "markdown",
   "id": "dd42c5d0-15ab-40ad-a1ee-413c49c159c9",
   "metadata": {},
   "source": [
    "---"
   ]
  },
  {
   "cell_type": "code",
   "execution_count": 26,
   "id": "3fff3abe",
   "metadata": {},
   "outputs": [
    {
     "data": {
      "text/plain": [
       "True"
      ]
     },
     "execution_count": 26,
     "metadata": {},
     "output_type": "execute_result"
    }
   ],
   "source": [
    "'Eva' in usuario_edad"
   ]
  },
  {
   "cell_type": "markdown",
   "id": "daa95669-469e-426d-8c39-bd313b11067e",
   "metadata": {},
   "source": [
    "### 6.2.2 - Métodos de Diccionario"
   ]
  },
  {
   "cell_type": "markdown",
   "id": "ac8c9e61-9545-4c74-9db3-a23752e8b075",
   "metadata": {},
   "source": [
    "Anteriormente, usamos el método **items** para iterar a través de las tuplas de un key-value pair. Asimismo, lo métodos **keys** y **values** pueden susares para iterar las llaves y valores de un diccionario. "
   ]
  },
  {
   "cell_type": "markdown",
   "id": "0637e873-e5e1-4d5c-9314-390963fe41fc",
   "metadata": {},
   "source": [
    "Arma un for que muestre los nombres de los participantes - sacados de usuario_edad"
   ]
  },
  {
   "cell_type": "code",
   "execution_count": 27,
   "id": "cc3ce0e1-96ee-4a97-b95b-23da9087693f",
   "metadata": {},
   "outputs": [],
   "source": [
    "usuario_edad = {'Laura':28,'Daniel':31,'Albelto':27,'Rogelio':65}"
   ]
  },
  {
   "cell_type": "markdown",
   "id": "bee68c8b-a8c1-4765-a4b0-dbc67d45939d",
   "metadata": {},
   "source": [
    "Arma un for que muestre las edades de los participantes"
   ]
  },
  {
   "cell_type": "code",
   "execution_count": 28,
   "id": "00628f5d-675b-4e96-a863-f8da06c8365f",
   "metadata": {},
   "outputs": [
    {
     "name": "stdout",
     "output_type": "stream",
     "text": [
      "Laura\n",
      "Daniel\n",
      "Albelto\n",
      "Rogelio\n"
     ]
    }
   ],
   "source": [
    "for edad in usuario_edad.keys():\n",
    "    print(edad)"
   ]
  },
  {
   "cell_type": "code",
   "execution_count": 29,
   "id": "a0e19641-efd3-4b19-8f17-82c27e3ae5f3",
   "metadata": {},
   "outputs": [
    {
     "name": "stdout",
     "output_type": "stream",
     "text": [
      "28\n",
      "31\n",
      "27\n",
      "65\n"
     ]
    }
   ],
   "source": [
    "for edad in usuario_edad.values():\n",
    "    print(edad)"
   ]
  },
  {
   "cell_type": "markdown",
   "id": "a2efcae0-38e3-46bb-90c1-8462f6761309",
   "metadata": {},
   "source": [
    "Si añadimos otro elemento al diccionario..."
   ]
  },
  {
   "cell_type": "code",
   "execution_count": 30,
   "id": "5d8c1a4a-f00e-49fb-b555-2c3c29888ee6",
   "metadata": {},
   "outputs": [],
   "source": [
    "usuario_edad['Eva'] = 29"
   ]
  },
  {
   "cell_type": "markdown",
   "id": "6e8eb45a-ce42-4909-abe8-12dc180ae658",
   "metadata": {},
   "source": [
    "Checa que aparece en Views"
   ]
  },
  {
   "cell_type": "code",
   "execution_count": 31,
   "id": "2efaa44d-14a5-44d1-9ade-209093096ead",
   "metadata": {},
   "outputs": [
    {
     "name": "stdout",
     "output_type": "stream",
     "text": [
      "Laura\n",
      "Daniel\n",
      "Albelto\n",
      "Rogelio\n",
      "Eva\n"
     ]
    }
   ],
   "source": [
    "for usuario in usuario_edad.keys():\n",
    "    print(usuario)"
   ]
  },
  {
   "cell_type": "markdown",
   "id": "504bc570-328f-4496-836e-1f000c3cfe31",
   "metadata": {},
   "source": [
    "A veces es necesario trabajar con las llaves y valores del diccionario - Eso lo logramos convirtiendo nuestras llaves y valores en listas con la función **list**"
   ]
  },
  {
   "cell_type": "code",
   "execution_count": 32,
   "id": "e61b3b59-5b78-4896-81da-f393972abe6f",
   "metadata": {},
   "outputs": [
    {
     "data": {
      "text/plain": [
       "['Laura', 'Daniel', 'Albelto', 'Rogelio', 'Eva']"
      ]
     },
     "execution_count": 32,
     "metadata": {},
     "output_type": "execute_result"
    }
   ],
   "source": [
    "list(usuario_edad.keys())\n"
   ]
  },
  {
   "cell_type": "markdown",
   "id": "33f60221-9dea-4750-8b35-e80411e8268a",
   "metadata": {},
   "source": [
    "Para ordenar en orden alfabético las llaves del diccionario"
   ]
  },
  {
   "cell_type": "code",
   "execution_count": 33,
   "id": "c190d218-9ea0-44c3-a346-b409516f478a",
   "metadata": {},
   "outputs": [
    {
     "data": {
      "text/plain": [
       "[28, 31, 27, 65, 29]"
      ]
     },
     "execution_count": 33,
     "metadata": {},
     "output_type": "execute_result"
    }
   ],
   "source": [
    "list(usuario_edad.values())"
   ]
  },
  {
   "cell_type": "markdown",
   "id": "a33137d1-1133-4106-888d-cb5a283e3c05",
   "metadata": {},
   "source": [
    "#### Por tu cuenta"
   ]
  },
  {
   "cell_type": "markdown",
   "id": "879241a8-fe37-4b1e-9705-bdf082ebe332",
   "metadata": {},
   "source": [
    "Para el siguiente diccionario, crea listas de sus **llaves**, **valores** y **items** - y muestra esas listas\n",
    "\n",
    "Municipios_poblacion = {\"Acatic\" : 23175, \"Acatlan de Juarez\" : 25250, \"Ameca\" : 60386, \"Arandas\" : 80609}"
   ]
  },
  {
   "cell_type": "code",
   "execution_count": 34,
   "id": "3fe5e41c-03bc-455e-87ca-a0c6bf8391bb",
   "metadata": {},
   "outputs": [],
   "source": [
    "Municipios_poblacion = {'Acatic' : 23175,'Acatlan de Juarez' : 25250,'Ameca': 60386,\"Arandas\": 80609}"
   ]
  },
  {
   "cell_type": "code",
   "execution_count": 37,
   "id": "a09135a4-c732-4b01-9e6e-c3a5747e0728",
   "metadata": {},
   "outputs": [
    {
     "name": "stdout",
     "output_type": "stream",
     "text": [
      "['Acatic', 'Acatlan de Juarez', 'Ameca', 'Arandas']\n",
      "[23175, 25250, 60386, 80609]\n",
      "[('Acatic', 23175), ('Acatlan de Juarez', 25250), ('Ameca', 60386), ('Arandas', 80609)]\n"
     ]
    }
   ],
   "source": [
    "keys_list = []\n",
    "value_list = []\n",
    "\n",
    "for keys,values in Municipios_poblacion.items():\n",
    "    keys_list.append(keys)\n",
    "    value_list.append(values)\n",
    "print(keys_list)\n",
    "print(value_list)\n",
    "print(list(Municipios_poblacion.items()))"
   ]
  },
  {
   "cell_type": "markdown",
   "id": "9057c694-02e6-45e8-af3c-70906a393579",
   "metadata": {},
   "source": [
    "Python te permite comparar diccionarios . \n",
    "\n",
    "Compara estos 3:\n",
    "    \n",
    "asistentes_dia1={'Ramírez':'Laura','Cortés': 'Daniel','Pérez':'Alberto'}\n",
    "\n",
    "asistentes_dia2={'García':'Rogelio','Ramírez': 'Laura','Pérez':'Alberto'}\n",
    "\n",
    "asistentes_dia3={'Pérez':'Alberto','Cortés': 'Daniel','Ramírez':'Laura'}"
   ]
  },
  {
   "cell_type": "code",
   "execution_count": 38,
   "id": "adc41a74-f2ca-4435-9178-3b20ee26d074",
   "metadata": {},
   "outputs": [],
   "source": [
    "asistentes_dia1 = {'Ramírez' : 'Laura','Cortes': 'Daniel','Pérez': 'Alberto'}\n",
    "asistentes_dia2 = {'Garcia':'Rogelio','Ramírez': 'Laura','Pérez':'Alberto'}\n",
    "asistentes_dia3 = {'Pérez': 'Alberto','Cortés':'Daniel','Ramírez':'Laura'}\n"
   ]
  },
  {
   "cell_type": "code",
   "execution_count": 39,
   "id": "355926a1-c20e-4e81-b2a2-dc5ec58a34fc",
   "metadata": {},
   "outputs": [
    {
     "data": {
      "text/plain": [
       "False"
      ]
     },
     "execution_count": 39,
     "metadata": {},
     "output_type": "execute_result"
    }
   ],
   "source": [
    "asistentes_dia1 == asistentes_dia2"
   ]
  },
  {
   "cell_type": "code",
   "execution_count": 40,
   "id": "523fa8d0-705c-4a40-9021-3fcb26b24b4b",
   "metadata": {},
   "outputs": [
    {
     "data": {
      "text/plain": [
       "True"
      ]
     },
     "execution_count": 40,
     "metadata": {},
     "output_type": "execute_result"
    }
   ],
   "source": [
    "asistentes_dia2 != asistentes_dia3"
   ]
  },
  {
   "cell_type": "code",
   "execution_count": 41,
   "id": "35821836-8cb7-47c1-9718-c24b40ec8ed9",
   "metadata": {},
   "outputs": [
    {
     "data": {
      "text/plain": [
       "False"
      ]
     },
     "execution_count": 41,
     "metadata": {},
     "output_type": "execute_result"
    }
   ],
   "source": [
    "asistentes_dia3 == asistentes_dia1"
   ]
  },
  {
   "cell_type": "code",
   "execution_count": null,
   "id": "1b5656a4-c154-42bf-b0ea-0467915e0b33",
   "metadata": {},
   "outputs": [],
   "source": []
  },
  {
   "cell_type": "markdown",
   "id": "23f834e0-5995-446e-931a-4a291efa7b9d",
   "metadata": {},
   "source": [
    "#### Elemplo 2\n",
    "\n",
    "Arma un programa que utilice diccionarios, el método split, y el método items, asi como 2 ciclos for, para contar la cantidad de palabras en esta oración.Tu resultado debe de ser una tablita de 2 columnas donde muestres la palabra y la repetición:"
   ]
  },
  {
   "cell_type": "code",
   "execution_count": null,
   "id": "efe2f522-6349-4eef-9fc2-f9359e4002a7",
   "metadata": {},
   "outputs": [
    {
     "name": "stdout",
     "output_type": "stream",
     "text": [
      "PALABRA      REPETICIONES\n",
      "\n",
      " Número de palabras únicas en el texto 0\n"
     ]
    }
   ],
   "source": [
    "cuento = ('cuenta un cuento que una princesa se la pasa'\n",
    "          'cuenta que cuenta llamado la princesa' \n",
    "          'que cuenta')\n",
    "palabra_contadas = {}\n",
    "#para contar las palabras que no se repiten\n",
    "\n",
    "        "
   ]
  },
  {
   "cell_type": "code",
   "execution_count": 46,
   "id": "1986510f-84d7-4be6-88ed-f67ad1f9da4a",
   "metadata": {},
   "outputs": [],
   "source": [
    "for palabra in cuento.split():\n",
    "    if palabra in palabra_contadas:\n",
    "        palabra_contadas[palabra] += 1\n",
    "    else:\n",
    "        palabra_contadas[palabra] = 1"
   ]
  },
  {
   "cell_type": "code",
   "execution_count": 47,
   "id": "041f0544-a042-44c0-9beb-7561c7d2cf3c",
   "metadata": {},
   "outputs": [
    {
     "name": "stdout",
     "output_type": "stream",
     "text": [
      "PALABRA      REPETICIONES\n",
      "cuenta      3\n",
      "cuento      1\n",
      "la          2\n",
      "llamado     1\n",
      "pasacuenta  1\n",
      "princesa    1\n",
      "princesaque 1\n",
      "que         2\n",
      "se          1\n",
      "un          1\n",
      "una         1\n",
      "\n",
      " Número de palabras únicas en el texto 11\n"
     ]
    }
   ],
   "source": [
    "print(f'{\"PALABRA\":<12} REPETICIONES')\n",
    "for palabra,veces in sorted(palabra_contadas.items()):\n",
    "    print(f'{palabra:<12}{veces}')\n",
    "print('\\n Número de palabras únicas en el texto', len(palabra_contadas))"
   ]
  },
  {
   "cell_type": "markdown",
   "id": "13b856f3-c492-44b9-a564-e14c87305475",
   "metadata": {},
   "source": [
    "Ahora utiliza la herramienta Counter de Python para realizar la misma tarea con el **cuento**"
   ]
  },
  {
   "cell_type": "code",
   "execution_count": 49,
   "id": "0a75344d-5b6f-4366-9604-03a996d1f85d",
   "metadata": {},
   "outputs": [
    {
     "name": "stdout",
     "output_type": "stream",
     "text": [
      "cuenta      3\n",
      "cuento      1\n",
      "la          2\n",
      "llamado     1\n",
      "pasacuenta  1\n",
      "princesa    1\n",
      "princesaque 1\n",
      "que         2\n",
      "se          1\n",
      "un          1\n",
      "una         1\n"
     ]
    }
   ],
   "source": [
    "from collections import Counter\n",
    "cuento = ('cuenta un cuento que una princesa se la pasa'\n",
    "          'cuenta que cuenta llamado la princesa' \n",
    "          'que cuenta')\n",
    "contador = Counter(cuento.split())\n",
    "for palabra,veces in sorted(contador.items()):\n",
    "    print(f'{palabra:<12}{veces}')"
   ]
  },
  {
   "cell_type": "markdown",
   "id": "d0b9199d-c46d-4086-b906-c62106be610b",
   "metadata": {},
   "source": [
    "---"
   ]
  },
  {
   "cell_type": "markdown",
   "id": "144c9fc3-fca2-4829-9e05-38e76a62a6d1",
   "metadata": {},
   "source": [
    "## 6.3 Comprensión de Diccionarios\n",
    "\n",
    "La comprensión de diciconarios, igual que la de listas, te da una notación más compacta para generar diccionarios."
   ]
  },
  {
   "cell_type": "markdown",
   "id": "98e361ed-7508-464d-a1bd-b0ea0daa05a9",
   "metadata": {},
   "source": [
    "Chécate el siguiente ejemplo donde intercambiamos los pares valor-llave de\n",
    "\n",
    "usuario_edad={'Laura':28,'Daniel':31,'Alberto':27,'Rogelio':65}"
   ]
  },
  {
   "cell_type": "code",
   "execution_count": 50,
   "id": "aff13c2b-4d82-4dcd-8400-e09a34eacbde",
   "metadata": {},
   "outputs": [],
   "source": [
    "usuario_edad = {'Laura':28,'Daniel':31,'Albelto':27,'Rogelio':65}"
   ]
  },
  {
   "cell_type": "code",
   "execution_count": 53,
   "id": "92bbf161",
   "metadata": {},
   "outputs": [
    {
     "data": {
      "text/plain": [
       "{28: 'Laura', 31: 'Daniel', 27: 'Albelto', 65: 'Rogelio'}"
      ]
     },
     "execution_count": 53,
     "metadata": {},
     "output_type": "execute_result"
    }
   ],
   "source": [
    "edad_usuario = {edad:usuario for usuario,edad in usuario_edad.items()}\n",
    "edad_usuario"
   ]
  },
  {
   "cell_type": "code",
   "execution_count": null,
   "id": "39f80f7e",
   "metadata": {},
   "outputs": [
    {
     "name": "stdout",
     "output_type": "stream",
     "text": [
      "{'Laura': 'Lau'}\n"
     ]
    }
   ],
   "source": []
  },
  {
   "cell_type": "markdown",
   "id": "50755094-5f01-463e-aa75-5a48d0e8da95",
   "metadata": {},
   "source": [
    "También podemos mapear valores nuevos, Checa como convertimos las ventas de agentes en ventas promedio (en un nuevo diccionario)\n",
    "\n",
    "ventas_agentes= {'Laura': [12000, 10500, 9800, 11100], 'Daniel': [11000, 7800, 7200, 6500], 'Alberto': [11200, 9500, 10800, 10100]}"
   ]
  },
  {
   "cell_type": "code",
   "execution_count": 54,
   "id": "2e1cff5f-b8af-4c3f-89fe-4c36ed07bf16",
   "metadata": {},
   "outputs": [],
   "source": [
    "ventas_agentes = {'Laura':[1200,10500,9800,11100],\n",
    "                  'Daniel': [11000,7800,7200,6500],\n",
    "                  'Alberto': [11200,9500,10800,10100]}\n"
   ]
  },
  {
   "cell_type": "code",
   "execution_count": 55,
   "id": "3d5d903f-a2e0-4886-bd5c-98bbc1b977ec",
   "metadata": {},
   "outputs": [
    {
     "data": {
      "text/plain": [
       "{'Laura': 8150.0, 'Daniel': 8125.0, 'Alberto': 10400.0}"
      ]
     },
     "execution_count": 55,
     "metadata": {},
     "output_type": "execute_result"
    }
   ],
   "source": [
    "ventas_promedio = {k:sum(v)/len(v) for k,v in ventas_agentes.items()}\n",
    "ventas_promedio"
   ]
  },
  {
   "cell_type": "markdown",
   "id": "44f6fdf0-144e-4848-8029-db57008ad1e5",
   "metadata": {},
   "source": [
    "#### Por tu cuenta\n",
    "\n",
    "Usa una comprensión de diccionario para crear un diccionario de los números 4-10 mapeado a sus cuadrados"
   ]
  },
  {
   "cell_type": "code",
   "execution_count": 59,
   "id": "6396beae-fbd4-46ca-84ef-a3b1fa224e90",
   "metadata": {},
   "outputs": [
    {
     "name": "stdout",
     "output_type": "stream",
     "text": [
      "{4: 16, 5: 25, 6: 36, 7: 49, 8: 64, 9: 81, 10: 100}\n"
     ]
    }
   ],
   "source": [
    "\n",
    "\n",
    "dic_cuadrados = {x : x**2 for x in range(4,11) } \n",
    "print(dic_cuadrados)"
   ]
  },
  {
   "cell_type": "markdown",
   "id": "13a063ad-5c36-49b1-8d5b-18cf35b41e13",
   "metadata": {},
   "source": [
    "---"
   ]
  },
  {
   "cell_type": "markdown",
   "id": "8a231f1d-c2ac-4676-adce-58e91d69b68e",
   "metadata": {},
   "source": [
    "### 6.4 Conjuntos (SETS)\n",
    "\n",
    "Un conjunto es una colección no ordenada de valores únicos.\n",
    "\n",
    "El código siguiente genera un conjunto llamado animales\n",
    "\n",
    "animales={'gato','ratón','perro','garza','perico','perro','pato'}"
   ]
  },
  {
   "cell_type": "code",
   "execution_count": 60,
   "id": "7dc74c02-6499-4171-a0ee-f3192cdb832a",
   "metadata": {},
   "outputs": [],
   "source": [
    "animales = {'gato','ratón','perro','garza','perico','perro','pato'}"
   ]
  },
  {
   "cell_type": "markdown",
   "id": "8015fd4c-36ce-4303-aa94-b4077da97a55",
   "metadata": {},
   "source": [
    "Para determinar la cantidad de elementos"
   ]
  },
  {
   "cell_type": "code",
   "execution_count": 61,
   "id": "fed25850-a294-4bb6-99b9-b70e7ae96b72",
   "metadata": {},
   "outputs": [
    {
     "data": {
      "text/plain": [
       "6"
      ]
     },
     "execution_count": 61,
     "metadata": {},
     "output_type": "execute_result"
    }
   ],
   "source": [
    "len(animales)"
   ]
  },
  {
   "cell_type": "markdown",
   "id": "37276167-14bf-434c-8158-2278279d1778",
   "metadata": {},
   "source": [
    "Si quieres verificar si algún elemento está incluido en el conjunto"
   ]
  },
  {
   "cell_type": "code",
   "execution_count": 62,
   "id": "6cf668d3-31dc-4dbb-a7af-569e238ce4fe",
   "metadata": {},
   "outputs": [
    {
     "data": {
      "text/plain": [
       "True"
      ]
     },
     "execution_count": 62,
     "metadata": {},
     "output_type": "execute_result"
    }
   ],
   "source": [
    "'perro' in animales"
   ]
  },
  {
   "cell_type": "code",
   "execution_count": 63,
   "id": "907b1de9-6250-4f22-8366-ecbfb579615d",
   "metadata": {},
   "outputs": [
    {
     "data": {
      "text/plain": [
       "False"
      ]
     },
     "execution_count": 63,
     "metadata": {},
     "output_type": "execute_result"
    }
   ],
   "source": [
    "'gallo' in animales"
   ]
  },
  {
   "cell_type": "code",
   "execution_count": 64,
   "id": "3393a5a0-4287-4bc0-9a1f-05b9169f9352",
   "metadata": {},
   "outputs": [
    {
     "data": {
      "text/plain": [
       "True"
      ]
     },
     "execution_count": 64,
     "metadata": {},
     "output_type": "execute_result"
    }
   ],
   "source": [
    "'gallo' not in animales"
   ]
  },
  {
   "cell_type": "markdown",
   "id": "33563814-1bb1-4641-9c34-d68f11aae5dd",
   "metadata": {},
   "source": [
    "Los conjuntos son iterables - checa como convertimos todo el conjunto a mayusculas con el método upper y un for"
   ]
  },
  {
   "cell_type": "code",
   "execution_count": 66,
   "id": "ce1e57c4-a928-4e57-a162-2a13b133acd0",
   "metadata": {},
   "outputs": [
    {
     "name": "stdout",
     "output_type": "stream",
     "text": [
      "RATÓN PATO GATO GARZA PERRO PERICO "
     ]
    }
   ],
   "source": [
    "for animal in animales:\n",
    "    print(animal.upper(),end = \" \")"
   ]
  },
  {
   "cell_type": "markdown",
   "id": "e1cc89ab-a5d1-4954-b1e8-c2156894e4b4",
   "metadata": {},
   "source": [
    "Checa que puedes crear un conjunto a partir de listas usando la función set. Primero vamos a crear y unir 2 listas - pares me dará todos los números pares del 0 al 15, y se unirá con todos los pares del 8 al 29"
   ]
  },
  {
   "cell_type": "code",
   "execution_count": 68,
   "id": "5a531e84-695b-49b2-9a5c-8c0de5c4d5de",
   "metadata": {},
   "outputs": [
    {
     "data": {
      "text/plain": [
       "[0, 2, 4, 6, 8, 10, 12, 14, 8, 10, 12, 14, 16, 18, 20, 22, 24, 26, 28]"
      ]
     },
     "execution_count": 68,
     "metadata": {},
     "output_type": "execute_result"
    }
   ],
   "source": [
    "pares = list(range(0,15,2)) + list(range(8,29,2))\n",
    "pares"
   ]
  },
  {
   "cell_type": "markdown",
   "id": "58b1571c-fe3c-4435-a791-19c164f5a905",
   "metadata": {},
   "source": [
    "Y ahora la convertiremos en un set"
   ]
  },
  {
   "cell_type": "code",
   "execution_count": 69,
   "id": "aa33f52a-5a05-4774-9c73-a39226c2cf3b",
   "metadata": {},
   "outputs": [
    {
     "data": {
      "text/plain": [
       "{0, 2, 4, 6, 8, 10, 12, 14, 16, 18, 20, 22, 24, 26, 28}"
      ]
     },
     "execution_count": 69,
     "metadata": {},
     "output_type": "execute_result"
    }
   ],
   "source": [
    "set(pares)"
   ]
  },
  {
   "cell_type": "markdown",
   "id": "6588336b-e4a5-4ad4-8bb8-c30f3df0f3c7",
   "metadata": {},
   "source": [
    "#### Por tu cuenta\n",
    "\n",
    "Asigna la siguiente caden a una variable **texto** y luego dividela usando el método split y crea un set de los resultados. Muestra las palabrás únicas en orden sorted. \n",
    "\n",
    "'Un dragon tragon trago carbon y quedo panzon, ah que dragon tan tragon\""
   ]
  },
  {
   "cell_type": "code",
   "execution_count": 75,
   "id": "b184183a-d76d-459f-89c1-79eeeec87fb3",
   "metadata": {},
   "outputs": [],
   "source": [
    "texto = 'Un dragon tragon trago carbon y quedo pazon, ah que dragon tran tragon'\n",
    "\n",
    "texto = texto.split()\n"
   ]
  },
  {
   "cell_type": "code",
   "execution_count": 79,
   "id": "203bc0f0-6ed9-4219-9423-b6c79390fb26",
   "metadata": {},
   "outputs": [
    {
     "name": "stdout",
     "output_type": "stream",
     "text": [
      "{'ah', 'carbon', 'pazon,', 'quedo', 'Un', 'que', 'tragon', 'tran', 'dragon', 'y', 'trago'}\n",
      "['Un', 'ah', 'carbon', 'dragon', 'pazon,', 'que', 'quedo', 'trago', 'tragon', 'tran', 'y']\n"
     ]
    }
   ],
   "source": [
    "texto = set(texto)\n",
    "print(texto)\n",
    "print(sorted(texto))"
   ]
  },
  {
   "cell_type": "code",
   "execution_count": null,
   "id": "c2e85436-02ec-49a1-8fa1-10c6128b5ac6",
   "metadata": {},
   "outputs": [],
   "source": []
  },
  {
   "cell_type": "markdown",
   "id": "b879cb56-050e-4bb0-a9fd-88ce97dd877f",
   "metadata": {},
   "source": [
    "---"
   ]
  }
 ],
 "metadata": {
  "kernelspec": {
   "display_name": "Python 3",
   "language": "python",
   "name": "python3"
  },
  "language_info": {
   "codemirror_mode": {
    "name": "ipython",
    "version": 3
   },
   "file_extension": ".py",
   "mimetype": "text/x-python",
   "name": "python",
   "nbconvert_exporter": "python",
   "pygments_lexer": "ipython3",
   "version": "3.13.2"
  }
 },
 "nbformat": 4,
 "nbformat_minor": 5
}
