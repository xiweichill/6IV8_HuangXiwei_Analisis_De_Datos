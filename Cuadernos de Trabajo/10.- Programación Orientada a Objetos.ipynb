{
 "cells": [
  {
   "cell_type": "markdown",
   "id": "301c0d4d-8cca-497b-a778-d78262aff151",
   "metadata": {},
   "source": [
    "# 10.- Programación Orientada a Objetos"
   ]
  },
  {
   "cell_type": "markdown",
   "id": "ccb9c437-96be-4ed0-9d2a-15237fa3c108",
   "metadata": {},
   "source": [
    "## 10.2.- Metodos y Clases"
   ]
  },
  {
   "cell_type": "markdown",
   "id": "6de2362b-82ba-44ab-b7ed-61b7daf0ed83",
   "metadata": {},
   "source": [
    "Vamos a crear una clase \"Mascota\" con los atributos tipo (pequeño), raza (chihuahaua), y tarea (guardian)\n",
    "\n",
    "Imprime los atributos raza y tarea"
   ]
  },
  {
   "cell_type": "code",
   "execution_count": null,
   "id": "7a3db4a6-3e13-4a7b-8aef-d116e7c4a75a",
   "metadata": {},
   "outputs": [],
   "source": []
  },
  {
   "cell_type": "code",
   "execution_count": null,
   "id": "3c88d1b6-c2f3-4f0f-b47d-5cdb24ddeb31",
   "metadata": {},
   "outputs": [],
   "source": []
  },
  {
   "cell_type": "code",
   "execution_count": null,
   "id": "f4aae85c-0906-481e-b335-1e281aa8622e",
   "metadata": {},
   "outputs": [],
   "source": []
  },
  {
   "cell_type": "code",
   "execution_count": null,
   "id": "d9fd7073-a2b5-4a3c-abe3-4dd2e3800ed6",
   "metadata": {},
   "outputs": [],
   "source": []
  },
  {
   "cell_type": "markdown",
   "id": "91f895d9-1fc3-42b6-beb1-e749b8ee4f31",
   "metadata": {},
   "source": [
    "Cambia el atributo tarea por amigo, imprimelo"
   ]
  },
  {
   "cell_type": "code",
   "execution_count": null,
   "id": "83464d55-1eb2-4392-bdef-92c4393367be",
   "metadata": {},
   "outputs": [],
   "source": []
  },
  {
   "cell_type": "code",
   "execution_count": null,
   "id": "3f84c39b-7f81-41a3-b55b-1f345c81f106",
   "metadata": {},
   "outputs": [],
   "source": []
  },
  {
   "cell_type": "code",
   "execution_count": null,
   "id": "a73029e9-fccd-4115-b7fd-fcd19f8a48cc",
   "metadata": {},
   "outputs": [],
   "source": []
  },
  {
   "cell_type": "markdown",
   "id": "f2748954-7a2e-45c7-90cf-80d93442e371",
   "metadata": {},
   "source": [
    "Borra el atributo de tarea, intenta imprimirlo"
   ]
  },
  {
   "cell_type": "code",
   "execution_count": null,
   "id": "26bb282e-461d-4093-9e33-3b2de4ee07cb",
   "metadata": {},
   "outputs": [],
   "source": []
  },
  {
   "cell_type": "code",
   "execution_count": null,
   "id": "7348a313-4b2e-45db-b10e-6ca96acbfa52",
   "metadata": {},
   "outputs": [],
   "source": []
  },
  {
   "cell_type": "code",
   "execution_count": null,
   "id": "8b7927b1-3fb5-4d03-8aa9-f2348a32ce80",
   "metadata": {},
   "outputs": [],
   "source": []
  },
  {
   "cell_type": "markdown",
   "id": "b0882dd9-6743-465a-9e46-4cd1a2c49d9e",
   "metadata": {},
   "source": [
    "Vamos a hacer ahora un registro de aspirante a un puesto, creamos una clase \"Registro\""
   ]
  },
  {
   "cell_type": "code",
   "execution_count": null,
   "id": "8143fd46-f4a5-4956-acaa-4ecc573a03a6",
   "metadata": {},
   "outputs": [],
   "source": []
  },
  {
   "cell_type": "code",
   "execution_count": null,
   "id": "203be262-0f94-49e6-bc86-f19b2d1d5d78",
   "metadata": {},
   "outputs": [],
   "source": []
  },
  {
   "cell_type": "markdown",
   "id": "2e2c857f-b577-4e1e-a154-b36a9834ccd8",
   "metadata": {},
   "source": [
    "Y ahora crearemos los objetos Eva, Laura y LUis, les daremos atributos de Edad, Experiencia y Edo civil"
   ]
  },
  {
   "cell_type": "code",
   "execution_count": null,
   "id": "e2ba259d-ec62-4b9f-9ba6-2b10e81409de",
   "metadata": {},
   "outputs": [],
   "source": []
  },
  {
   "cell_type": "code",
   "execution_count": null,
   "id": "4cd689f8-f0a4-4016-a490-e63ccac98f0d",
   "metadata": {},
   "outputs": [],
   "source": []
  },
  {
   "cell_type": "code",
   "execution_count": null,
   "id": "03b7525a-6b70-4cba-8361-4655205429a5",
   "metadata": {},
   "outputs": [],
   "source": []
  },
  {
   "cell_type": "code",
   "execution_count": null,
   "id": "9f258e57-429d-402a-9635-3cb76a05f4a7",
   "metadata": {},
   "outputs": [],
   "source": []
  },
  {
   "cell_type": "code",
   "execution_count": null,
   "id": "4f2e5af7-2a12-4f7c-9ce4-1f9a27f6c6a3",
   "metadata": {},
   "outputs": [],
   "source": []
  },
  {
   "cell_type": "code",
   "execution_count": null,
   "id": "d176490d-0397-4274-ae03-eb27a8cb566e",
   "metadata": {},
   "outputs": [],
   "source": []
  },
  {
   "cell_type": "code",
   "execution_count": null,
   "id": "b141d4bb-2360-43a4-bbda-24a0311b28ed",
   "metadata": {},
   "outputs": [],
   "source": []
  },
  {
   "cell_type": "code",
   "execution_count": null,
   "id": "d4ad0905-01c3-44c2-9556-12dd32bb2dff",
   "metadata": {},
   "outputs": [],
   "source": []
  },
  {
   "cell_type": "markdown",
   "id": "ca1e9b0f-2cff-45af-bae7-3a8b2eed747e",
   "metadata": {},
   "source": [
    "Imprimamos 1 atributo por persona"
   ]
  },
  {
   "cell_type": "code",
   "execution_count": null,
   "id": "a7863dc2-f073-423d-afc2-acf8839f86ee",
   "metadata": {},
   "outputs": [],
   "source": []
  },
  {
   "cell_type": "code",
   "execution_count": null,
   "id": "b5c19808-174c-4d74-b513-11328b406043",
   "metadata": {},
   "outputs": [],
   "source": []
  },
  {
   "cell_type": "markdown",
   "id": "1e50df73-61f0-47d0-bed0-420d0667038c",
   "metadata": {},
   "source": [
    "Ahora creemos la clase \"Oferta\", que tendrá una función aplicada a ella llamda Descuento - sus valores iniciales seran un costo de 1200 y un descuento del 0.15"
   ]
  },
  {
   "cell_type": "code",
   "execution_count": null,
   "id": "3c31bcef-0591-495b-843e-c634c26e772b",
   "metadata": {},
   "outputs": [],
   "source": []
  },
  {
   "cell_type": "code",
   "execution_count": null,
   "id": "289d02c4-e74c-40de-840c-1b488f9689c6",
   "metadata": {},
   "outputs": [],
   "source": []
  },
  {
   "cell_type": "markdown",
   "id": "9ece6e2d-5b06-468d-ad11-09aa153848ca",
   "metadata": {},
   "source": [
    "Ahora bamos a construir un objeto llamado rebaja"
   ]
  },
  {
   "cell_type": "code",
   "execution_count": null,
   "id": "772e4182-afc6-49f4-9a49-740d5c0e3723",
   "metadata": {},
   "outputs": [],
   "source": []
  },
  {
   "cell_type": "code",
   "execution_count": null,
   "id": "3c577c1e-3a97-427f-83fd-58aff54c4028",
   "metadata": {},
   "outputs": [],
   "source": []
  },
  {
   "cell_type": "code",
   "execution_count": null,
   "id": "1bd14af2-3dab-4a0b-8f05-cfd719026992",
   "metadata": {},
   "outputs": [],
   "source": []
  },
  {
   "cell_type": "code",
   "execution_count": null,
   "id": "28781fac-cfaa-42d5-a1c4-51983c55f4a7",
   "metadata": {},
   "outputs": [],
   "source": []
  },
  {
   "cell_type": "markdown",
   "id": "141adf2c-b553-410b-8bab-f2156f247c83",
   "metadata": {},
   "source": [
    "Y ahora imprimamos el resultado de multiplicar costo por rebaja"
   ]
  },
  {
   "cell_type": "code",
   "execution_count": null,
   "id": "367562a1-d720-4a66-85c3-ce3d42e6d1af",
   "metadata": {},
   "outputs": [],
   "source": []
  },
  {
   "cell_type": "code",
   "execution_count": null,
   "id": "a344ddb5-87e5-4e8f-8a65-f34b51bd2390",
   "metadata": {},
   "outputs": [],
   "source": []
  },
  {
   "cell_type": "markdown",
   "id": "5eeb42af-4c52-4c34-9c3b-1aade04d6890",
   "metadata": {},
   "source": [
    "## 10.3.- La clase \"Cuenta\""
   ]
  },
  {
   "cell_type": "markdown",
   "id": "08f77a21-f430-482d-908a-2b82fdcac649",
   "metadata": {},
   "source": [
    "Ahora vamos a crear una clase que simule una cuenta de banco\n",
    "\n",
    "La clase tendrá 2 funciones - la inicial para marcar el nombre y ahorro, y la de deposito para irle sumando dinero a la cuenta"
   ]
  },
  {
   "cell_type": "code",
   "execution_count": null,
   "id": "5a9ff1e0-2664-4e59-8415-89444f6786b8",
   "metadata": {},
   "outputs": [],
   "source": []
  },
  {
   "cell_type": "code",
   "execution_count": null,
   "id": "cacc2b0e-2bf0-4d0c-bbde-e44bf5fc588c",
   "metadata": {},
   "outputs": [],
   "source": []
  },
  {
   "cell_type": "code",
   "execution_count": null,
   "id": "19e6aba8-b776-437b-ae7d-ed513c355abb",
   "metadata": {},
   "outputs": [],
   "source": []
  },
  {
   "cell_type": "markdown",
   "id": "ca99f4c6-9064-44ef-8742-d0b248ca5dac",
   "metadata": {},
   "source": [
    "Vamos creando una cuenta 1 para juan con 2000 pesos"
   ]
  },
  {
   "cell_type": "code",
   "execution_count": null,
   "id": "f9a3cdb1-a068-475c-8e72-16c526ba5a26",
   "metadata": {},
   "outputs": [],
   "source": []
  },
  {
   "cell_type": "markdown",
   "id": "c791ae2b-b8df-4499-b9e8-0ee92cfb6876",
   "metadata": {},
   "source": [
    "Imprime tus resultados"
   ]
  },
  {
   "cell_type": "code",
   "execution_count": null,
   "id": "0c3e6017-1842-4761-83e5-25751d1c1973",
   "metadata": {},
   "outputs": [],
   "source": []
  },
  {
   "cell_type": "code",
   "execution_count": null,
   "id": "db6fd425-28e6-4d4b-8e89-1bcc4ef03361",
   "metadata": {},
   "outputs": [],
   "source": []
  },
  {
   "cell_type": "markdown",
   "id": "fe829ffa-fd59-4295-aee1-079670d5f18d",
   "metadata": {},
   "source": [
    "Ahora hagamos un depostio de 500"
   ]
  },
  {
   "cell_type": "code",
   "execution_count": null,
   "id": "0bc77a85-b47c-47e1-aeb6-0ef1443b1d18",
   "metadata": {},
   "outputs": [],
   "source": []
  },
  {
   "cell_type": "code",
   "execution_count": null,
   "id": "5de5adda-ba59-40e9-a206-d14086ca6deb",
   "metadata": {},
   "outputs": [],
   "source": []
  },
  {
   "cell_type": "markdown",
   "id": "23d3ebd2-af37-42db-b5f9-d1e8b41cbbf7",
   "metadata": {},
   "source": [
    "Que pasa si queremos hacer un deposito negativo?"
   ]
  },
  {
   "cell_type": "code",
   "execution_count": null,
   "id": "19ec39b3-2f11-4d85-8695-8d26624ad4f7",
   "metadata": {},
   "outputs": [],
   "source": []
  },
  {
   "cell_type": "markdown",
   "id": "f7d45aed-d55e-4da1-b0b2-c7cf5a7dadfe",
   "metadata": {},
   "source": [
    "## 10.4.- Herencia"
   ]
  },
  {
   "cell_type": "code",
   "execution_count": null,
   "id": "7f2d9abc-86a3-4045-afc2-9752d98a73ce",
   "metadata": {},
   "outputs": [],
   "source": []
  },
  {
   "cell_type": "markdown",
   "id": "08cc0b28-878a-488e-bba1-09b766ee99be",
   "metadata": {},
   "source": [
    "## 10.5.- La clase Personal"
   ]
  },
  {
   "cell_type": "markdown",
   "id": "ff3cd80e-1c97-4d9e-8264-f4d7732d59be",
   "metadata": {},
   "source": [
    "Ahora vamos a simular el personal que labora en una fabrica\n",
    "\n",
    "Creemos la clase Personal, con un afunción que define el nombre, profesión y cargo, y otra función llama detalle que devuelve la oración \"\" es un \"\" y tiene el cargo de \"\""
   ]
  },
  {
   "cell_type": "code",
   "execution_count": null,
   "id": "f1739209-3b9b-4925-af9b-f6e21edba7da",
   "metadata": {},
   "outputs": [],
   "source": []
  },
  {
   "cell_type": "markdown",
   "id": "2ebd7952-cd1a-4ec6-8351-ebedb0ba64ba",
   "metadata": {},
   "source": [
    "Ahora se muestran estas 2 clases, llamadas pers_nuevo y pers_advo, y heredan la estructura d ela primera"
   ]
  },
  {
   "cell_type": "code",
   "execution_count": null,
   "id": "0f3169aa-444b-461c-a9aa-fd49057ab977",
   "metadata": {},
   "outputs": [],
   "source": []
  },
  {
   "cell_type": "code",
   "execution_count": null,
   "id": "b6b26076-a069-4482-9cba-afe5391121f3",
   "metadata": {},
   "outputs": [],
   "source": []
  },
  {
   "cell_type": "markdown",
   "id": "4a97aee6-4445-4e04-b400-48d6a8646fd3",
   "metadata": {},
   "source": [
    "Ahora vamos a crear un constructor apara diseñar un bojeto de clase pers_nuevo, que tendrá los atributos de Personal y también el metodo detalle"
   ]
  },
  {
   "cell_type": "code",
   "execution_count": null,
   "id": "9a266767-0657-4df4-bf7b-efd69f7e2e7f",
   "metadata": {},
   "outputs": [],
   "source": []
  },
  {
   "cell_type": "code",
   "execution_count": null,
   "id": "e5431849-de13-41b6-9e3e-2531b583d349",
   "metadata": {},
   "outputs": [],
   "source": []
  },
  {
   "cell_type": "code",
   "execution_count": null,
   "id": "f0263048-5a5e-4f5e-a0fa-16591c391870",
   "metadata": {},
   "outputs": [],
   "source": []
  },
  {
   "cell_type": "code",
   "execution_count": null,
   "id": "4828a9bf-e9cb-4441-a432-3df9f917698a",
   "metadata": {},
   "outputs": [],
   "source": []
  },
  {
   "cell_type": "code",
   "execution_count": null,
   "id": "6e1cb384-ffad-4ff9-9e79-596a85195000",
   "metadata": {},
   "outputs": [],
   "source": []
  },
  {
   "cell_type": "markdown",
   "id": "b64c3024-e72b-4681-a182-10c417c841ab",
   "metadata": {},
   "source": [
    "También puedes solicitar del objeto ingeniero, con los atributos de las otras clases"
   ]
  },
  {
   "cell_type": "code",
   "execution_count": null,
   "id": "6c518aba-c175-4ba7-bcb9-5b097b75c048",
   "metadata": {},
   "outputs": [],
   "source": []
  },
  {
   "cell_type": "markdown",
   "id": "5caa1784-0aaf-4d29-9c06-606cfb03a00c",
   "metadata": {},
   "source": [
    "Ahora con la clase Cuenta\n",
    "\n",
    "Importemos decimal\n",
    "\n",
    "y luego definamos cuenta, con de la siguiente manera"
   ]
  },
  {
   "cell_type": "code",
   "execution_count": null,
   "id": "6bb17119-9db9-4286-89a6-91e60ba6c89a",
   "metadata": {},
   "outputs": [],
   "source": []
  },
  {
   "cell_type": "markdown",
   "id": "a4cc372b-26dc-43b3-84b3-a0b45dd9d2f9",
   "metadata": {},
   "source": [
    "Y ahora vamos a darle 2 subclases, la de ahorro y la de gasto. EN la de ahorro nos aseguraremos de devolver la frase \"\" tiene ahora en su cuenta \"\""
   ]
  },
  {
   "cell_type": "code",
   "execution_count": null,
   "id": "b15db194-47a6-46d1-9292-2128372f367c",
   "metadata": {},
   "outputs": [],
   "source": []
  },
  {
   "cell_type": "markdown",
   "id": "78f1351e-af32-4e2f-b6c7-eed08a0aee95",
   "metadata": {},
   "source": [
    "Y en la de gasto vamos a retirar dinero, hay que asegurarse de que se puede hacer el retiro, y que devuelve una frase \"\" tiene ahora en su cuenta \"\""
   ]
  },
  {
   "cell_type": "code",
   "execution_count": null,
   "id": "244cbf00-764d-410f-bca8-b47b0dd84bb5",
   "metadata": {},
   "outputs": [],
   "source": []
  },
  {
   "cell_type": "markdown",
   "id": "712cc1c0-da68-4790-84c1-8f9d039231c2",
   "metadata": {},
   "source": [
    "Ahora, vamos adefinir 2 objetos cuenta1 en ahorro y cuenta2 en gasto"
   ]
  },
  {
   "cell_type": "code",
   "execution_count": null,
   "id": "29f95292-2f33-46df-a114-6ab3e01b2d17",
   "metadata": {},
   "outputs": [],
   "source": []
  },
  {
   "cell_type": "code",
   "execution_count": null,
   "id": "9c30f409-dcbc-4e9e-a9bb-2ccc88b81ee6",
   "metadata": {},
   "outputs": [],
   "source": []
  },
  {
   "cell_type": "code",
   "execution_count": null,
   "id": "b959fb15-4e9a-4eab-97b7-a8469e2978a9",
   "metadata": {},
   "outputs": [],
   "source": []
  },
  {
   "cell_type": "code",
   "execution_count": null,
   "id": "44914d74-d0a5-45ac-a578-06801c764ca2",
   "metadata": {},
   "outputs": [],
   "source": []
  },
  {
   "cell_type": "code",
   "execution_count": null,
   "id": "2c50caaf-af21-47a8-bc02-babac15b6489",
   "metadata": {},
   "outputs": [],
   "source": []
  },
  {
   "cell_type": "code",
   "execution_count": null,
   "id": "d067d7e7-7601-4514-9e62-eb4c5d17cbd1",
   "metadata": {},
   "outputs": [],
   "source": []
  },
  {
   "cell_type": "code",
   "execution_count": null,
   "id": "921757e9-e3a6-4ec5-baf7-f5b1a24e1d21",
   "metadata": {},
   "outputs": [],
   "source": []
  },
  {
   "cell_type": "markdown",
   "id": "ba8a6a34-72ab-47f1-b88b-5d3a60bb2502",
   "metadata": {},
   "source": [
    "Ahora el usuario retira 5000"
   ]
  },
  {
   "cell_type": "markdown",
   "id": "ece98648-e7ce-4337-bb6c-24027e2b4d31",
   "metadata": {},
   "source": [
    "## 10.6.- Métodos de Clase"
   ]
  },
  {
   "cell_type": "code",
   "execution_count": null,
   "id": "14156792-cd44-44e7-a721-fd58409b660b",
   "metadata": {},
   "outputs": [],
   "source": []
  },
  {
   "cell_type": "code",
   "execution_count": null,
   "id": "4ecb4225-71f2-46c5-b968-1eccdc65c0a3",
   "metadata": {},
   "outputs": [],
   "source": []
  },
  {
   "cell_type": "code",
   "execution_count": null,
   "id": "7b0a2d27-a716-4856-a3a8-5a8ba7530ccd",
   "metadata": {},
   "outputs": [],
   "source": []
  },
  {
   "cell_type": "markdown",
   "id": "2c9c608f-7697-4da2-90a0-51ae3a640f6f",
   "metadata": {},
   "source": [
    "## 10.7.- Polimorfismo"
   ]
  },
  {
   "cell_type": "markdown",
   "id": "0b3389d2-20a8-4ff3-8303-865ad06049d9",
   "metadata": {},
   "source": [
    "Creemos 2 clases, un llamada matematicas y otra idioma - vamos a darles numeros de cretidos diferentes"
   ]
  },
  {
   "cell_type": "code",
   "execution_count": null,
   "id": "702162f3-270e-4325-95b5-be52d5287e79",
   "metadata": {},
   "outputs": [],
   "source": []
  },
  {
   "cell_type": "code",
   "execution_count": null,
   "id": "d0211e1f-9348-4050-bd20-702632dbbcdc",
   "metadata": {},
   "outputs": [],
   "source": []
  },
  {
   "cell_type": "code",
   "execution_count": null,
   "id": "e83b3434-8349-476e-ab3f-90747fedf12a",
   "metadata": {},
   "outputs": [],
   "source": []
  },
  {
   "cell_type": "markdown",
   "id": "c8830e50-0453-486f-95ae-789cec6717e1",
   "metadata": {},
   "source": [
    "Ahor vamos a crear un objeto llamado asignatura y que sea de clase Matematicas, cuantos creditos tiene?"
   ]
  },
  {
   "cell_type": "code",
   "execution_count": null,
   "id": "769cd57b-cf15-4f19-b84c-3e7e2935ddc0",
   "metadata": {},
   "outputs": [],
   "source": []
  },
  {
   "cell_type": "code",
   "execution_count": null,
   "id": "4f942729-11dd-4c10-aadd-235931410d34",
   "metadata": {},
   "outputs": [],
   "source": []
  },
  {
   "cell_type": "code",
   "execution_count": null,
   "id": "51aeb6af-d25d-4a16-9e5d-181d29c78060",
   "metadata": {},
   "outputs": [],
   "source": []
  },
  {
   "cell_type": "code",
   "execution_count": null,
   "id": "3cefcd6f-49bf-45c9-8255-d7d89a4fe6c0",
   "metadata": {},
   "outputs": [],
   "source": []
  },
  {
   "cell_type": "code",
   "execution_count": null,
   "id": "fe549c76-150c-454f-b3a1-03c84185da7b",
   "metadata": {},
   "outputs": [],
   "source": []
  },
  {
   "cell_type": "code",
   "execution_count": null,
   "id": "ba2bf792-33f3-4e4b-8ad5-512b85243009",
   "metadata": {},
   "outputs": [],
   "source": []
  },
  {
   "cell_type": "markdown",
   "id": "5d7b3e9e-920a-4565-b58f-69cce4305851",
   "metadata": {},
   "source": [
    "Sigue el polimorfismo por método\n",
    "\n",
    "Crearemos diferentes paises, todos con el método moneda"
   ]
  },
  {
   "cell_type": "code",
   "execution_count": null,
   "id": "735a8f76-6408-4f4e-a568-6c200491652b",
   "metadata": {},
   "outputs": [],
   "source": []
  },
  {
   "cell_type": "markdown",
   "id": "f92d2df3-ca6a-4267-97a4-bdcdbf392a5f",
   "metadata": {},
   "source": [
    "Muestra los resultados"
   ]
  },
  {
   "cell_type": "code",
   "execution_count": null,
   "id": "41ec3fdb-6519-438d-929d-627f4e53dc98",
   "metadata": {},
   "outputs": [],
   "source": []
  },
  {
   "cell_type": "code",
   "execution_count": null,
   "id": "1b917be9-5072-4cc9-b679-c89dd939ebe4",
   "metadata": {},
   "outputs": [],
   "source": []
  },
  {
   "cell_type": "code",
   "execution_count": null,
   "id": "e1a437cc-3811-429a-808b-80f951b3e596",
   "metadata": {},
   "outputs": [],
   "source": []
  },
  {
   "cell_type": "code",
   "execution_count": null,
   "id": "5048a16c-3a9f-4fa1-bacf-d75b17e1839d",
   "metadata": {},
   "outputs": [],
   "source": []
  },
  {
   "cell_type": "code",
   "execution_count": null,
   "id": "7d6293ad-ad7d-4437-b281-b7d170b78961",
   "metadata": {},
   "outputs": [],
   "source": []
  },
  {
   "cell_type": "markdown",
   "id": "5e651efa-d034-44ec-980d-8425d46c37d2",
   "metadata": {},
   "source": [
    "Y checa la moneda de nicaragua"
   ]
  }
 ],
 "metadata": {
  "kernelspec": {
   "display_name": "Python 3",
   "language": "python",
   "name": "python3"
  },
  "language_info": {
   "codemirror_mode": {
    "name": "ipython",
    "version": 3
   },
   "file_extension": ".py",
   "mimetype": "text/x-python",
   "name": "python",
   "nbconvert_exporter": "python",
   "pygments_lexer": "ipython3",
   "version": "3.8.8"
  }
 },
 "nbformat": 4,
 "nbformat_minor": 5
}
